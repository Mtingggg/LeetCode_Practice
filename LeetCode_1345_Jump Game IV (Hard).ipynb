{
 "cells": [
  {
   "cell_type": "markdown",
   "id": "e9563913",
   "metadata": {},
   "source": [
    "### Problem Description\n",
    "\n",
    "Given an array of integers arr, you are initially positioned at the first index of the array.  \n",
    "\n",
    "In one step you can jump from index i to index:  \n",
    "\n",
    "> i + 1 where: i + 1 < arr.length.  \n",
    "> i - 1 where: i - 1 >= 0.  \n",
    "> j where: arr[i] == arr[j] and i != j.  \n",
    "> Return the minimum number of steps to reach the last index of the array.    \n",
    "\n",
    "Notice that you can not jump outside of the array at any time.  \n",
    "\n",
    "\n",
    "Example 1:  \n",
    "  \n",
    "> Input: arr = [100,-23,-23,404,100,23,23,23,3,404]  \n",
    "Output: 3  \n",
    "Explanation: You need three jumps from index 0 --> 4 --> 3 --> 9. Note that index 9 is the last index of the array.  \n",
    "\n",
    "Example 2:  \n",
    "  \n",
    ">Input: arr = [7]  \n",
    "Output: 0  \n",
    "Explanation: Start index is the last index. You do not need to jump.  \n",
    "\n",
    "Example 3:  \n",
    "  \n",
    "> Input: arr = [7,6,9,6,9,6,9,7]  \n",
    "Output: 1  \n",
    "Explanation: You can jump directly from index 0 to index 7 which is last index of the array.  \n",
    " "
   ]
  },
  {
   "cell_type": "markdown",
   "id": "36dd01ca",
   "metadata": {},
   "source": [
    "### Solution:\n",
    "For this problem, we want to find minimum step walk to the end, the most straightforward solution is using BFS.  \n",
    "In every index, we have three way to jump to next index, move right, move left or move to index with same values.  \n",
    "There is a key point that we don't have to visits same index twice, because we will get the same result, so in every step, we will store the index we have already visited, and every further jump we will not jump to the index we have already visited.  \n",
    "There is another key to pass all test case is to use **set** to do the store visited index but not **list** because in python set is significantly faster than lists if you want to check if an item is contained within it."
   ]
  },
  {
   "cell_type": "code",
   "execution_count": 1,
   "id": "34fb3ea9",
   "metadata": {},
   "outputs": [],
   "source": [
    "class Solution:    \n",
    "    def minJumps(self, arr: 'List[int]') -> int:\n",
    "        self.hash_table = self.get_hash_table(arr)\n",
    "        \n",
    "        return self.find_end(arr)\n",
    "        \n",
    "    def get_hash_table(self, arr):\n",
    "        num_idx_table = {}\n",
    "        for i in range(len(arr)):\n",
    "            if arr[i] in num_idx_table.keys():\n",
    "                num_idx_table[arr[i]].append(i)\n",
    "            else:\n",
    "                num_idx_table[arr[i]] = [i]\n",
    "        return num_idx_table\n",
    "    \n",
    "    def find_end(self, arr):\n",
    "        result = 0\n",
    "        cur = [0]\n",
    "        visited = {0}\n",
    "        while cur:\n",
    "            nxt = []\n",
    "            for idx in cur:\n",
    "                if idx==(len(arr)-1):\n",
    "                    return result\n",
    "                if self.hash_table[arr[idx]]:\n",
    "                    for same in self.hash_table[arr[idx]]:\n",
    "                        if same not in visited:\n",
    "                            nxt.append(same)\n",
    "                            visited.add(same)\n",
    "                self.hash_table[arr[idx]] = None\n",
    "                for nxt_idx in [idx-1, idx+1]:\n",
    "                    if 0<=nxt_idx<len(arr) and nxt_idx not in visited:\n",
    "                        nxt.append(nxt_idx)\n",
    "                        visited.add(nxt_idx)\n",
    "            cur = nxt\n",
    "            result+=1"
   ]
  },
  {
   "cell_type": "code",
   "execution_count": 2,
   "id": "259d6742",
   "metadata": {},
   "outputs": [
    {
     "data": {
      "text/plain": [
       "3"
      ]
     },
     "execution_count": 2,
     "metadata": {},
     "output_type": "execute_result"
    }
   ],
   "source": [
    "sol = Solution()\n",
    "\n",
    "arr = [100,-23,-23,404,100,23,23,23,3,404]\n",
    "sol.minJumps(arr)"
   ]
  },
  {
   "cell_type": "code",
   "execution_count": null,
   "id": "94b83e88",
   "metadata": {},
   "outputs": [],
   "source": []
  }
 ],
 "metadata": {
  "kernelspec": {
   "display_name": "Python 3 (ipykernel)",
   "language": "python",
   "name": "python3"
  },
  "language_info": {
   "codemirror_mode": {
    "name": "ipython",
    "version": 3
   },
   "file_extension": ".py",
   "mimetype": "text/x-python",
   "name": "python",
   "nbconvert_exporter": "python",
   "pygments_lexer": "ipython3",
   "version": "3.9.7"
  }
 },
 "nbformat": 4,
 "nbformat_minor": 5
}
