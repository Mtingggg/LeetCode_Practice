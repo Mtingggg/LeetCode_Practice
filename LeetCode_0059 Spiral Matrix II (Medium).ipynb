{
 "cells": [
  {
   "cell_type": "markdown",
   "id": "5047cab0",
   "metadata": {},
   "source": [
    "### Problem Discription\n",
    "\n",
    "Given a positive integer n, generate an n x n matrix filled with elements from 1 to n2 in spiral order.\n",
    ">Example 1:  \n",
    "Input: n = 3  \n",
    "Output: [[1,2,3],[8,9,4],[7,6,5]]  \n",
    "\n",
    ">Example 2:  \n",
    "Input: n = 1  \n",
    "Output: [[1]]  \n"
   ]
  },
  {
   "cell_type": "markdown",
   "id": "60f41468",
   "metadata": {},
   "source": [
    "### Solution\n",
    "Concept is exactly same as problem 0054, the key is how to walk in spiral order, and we just have to create an array than assign values in it."
   ]
  },
  {
   "cell_type": "code",
   "execution_count": 65,
   "id": "2ba777fa",
   "metadata": {},
   "outputs": [],
   "source": [
    "class Solution:\n",
    "    def generateMatrix(self, n: 'int') -> 'List[List[int]]':\n",
    "        arr = [[None]*n for i in range(n)]\n",
    "        upper_bound = 0\n",
    "        lower_bound = n\n",
    "        left_bound = 0\n",
    "        right_bound = n\n",
    "\n",
    "        direction = 1\n",
    "        value = 1\n",
    "        while value<=n**2:\n",
    "            if direction%4==1:\n",
    "                for i in range(left_bound, right_bound):\n",
    "                    arr[upper_bound][i] = value\n",
    "                    value+=1\n",
    "                upper_bound+=1\n",
    "            elif direction%4==2:\n",
    "                for i in range(upper_bound, lower_bound):\n",
    "                    arr[i][right_bound-1] = value\n",
    "                    value+=1\n",
    "                right_bound-=1\n",
    "            elif direction%4==3:\n",
    "                for i in range(left_bound, right_bound)[::-1]:\n",
    "                    arr[lower_bound-1][i] = value\n",
    "                    value+=1\n",
    "                lower_bound-=1\n",
    "            else:\n",
    "                for i in range(upper_bound, lower_bound)[::-1]:\n",
    "                    arr[i][left_bound] = value\n",
    "                    value+=1\n",
    "                left_bound+=1\n",
    "            direction+=1\n",
    "            \n",
    "        return arr"
   ]
  },
  {
   "cell_type": "code",
   "execution_count": 66,
   "id": "b9f97418",
   "metadata": {},
   "outputs": [
    {
     "data": {
      "text/plain": [
       "[[1, 2, 3], [8, 9, 4], [7, 6, 5]]"
      ]
     },
     "execution_count": 66,
     "metadata": {},
     "output_type": "execute_result"
    }
   ],
   "source": [
    "sol = Solution()\n",
    "\n",
    "n = 3\n",
    "sol.generateMatrix(n)"
   ]
  }
 ],
 "metadata": {
  "kernelspec": {
   "display_name": "Python 3 (ipykernel)",
   "language": "python",
   "name": "python3"
  },
  "language_info": {
   "codemirror_mode": {
    "name": "ipython",
    "version": 3
   },
   "file_extension": ".py",
   "mimetype": "text/x-python",
   "name": "python",
   "nbconvert_exporter": "python",
   "pygments_lexer": "ipython3",
   "version": "3.9.7"
  }
 },
 "nbformat": 4,
 "nbformat_minor": 5
}
