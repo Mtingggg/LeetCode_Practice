{
 "cells": [
  {
   "cell_type": "markdown",
   "metadata": {},
   "source": [
    "### Problem Description\n",
    "Given an array of strings strs, group the anagrams together. You can return the answer in any order.\n",
    "\n",
    "An Anagram is a word or phrase formed by rearranging the letters of a different word or phrase, typically using all the original letters exactly once.\n",
    "\n",
    " \n",
    " \n",
    ">Example 1:  \n",
    "Input: strs = [\"eat\",\"tea\",\"tan\",\"ate\",\"nat\",\"bat\"]  \n",
    "Output: [[\"bat\"],[\"nat\",\"tan\"],[\"ate\",\"eat\",\"tea\"]]  \n",
    "   \n",
    ">Example 2:  \n",
    "Input: strs = [\"\"]  \n",
    "Output: [[\"\"]]  \n",
    "\n",
    ">Example 3:  \n",
    "Input: strs = [\"a\"]  \n",
    "Output: [[\"a\"]]  "
   ]
  },
  {
   "cell_type": "markdown",
   "metadata": {},
   "source": [
    "### Solution1\n",
    "How can we group the anagrams together? Using Hash Table can help us to find anagrams group in O(1) time complexity, so what else we need to do is sort characters in every single word and check if this group is already in hash table.  \n",
    "\n",
    "If we use sorted function in python, its time complexity is O(nlogn), so time complexity of solving this problem will be O(k*nlogn) where k is the length of string and n is the average words length"
   ]
  },
  {
   "cell_type": "code",
   "execution_count": 1,
   "metadata": {},
   "outputs": [],
   "source": [
    "class Solution1:\n",
    "    def groupAnagrams(self, strs: \"List[str]\") -> \"List[List[str]]\":  \n",
    "        word_map = {}\n",
    "        for w in strs:\n",
    "            tmp = ''.join(sorted(w))\n",
    "            if tmp in word_map:\n",
    "                word_map[tmp].append(w)\n",
    "            else:\n",
    "                word_map[tmp] = [w]\n",
    "                \n",
    "        return word_map.values()"
   ]
  },
  {
   "cell_type": "code",
   "execution_count": 2,
   "metadata": {},
   "outputs": [
    {
     "data": {
      "text/plain": [
       "dict_values([['eat', 'tea', 'ate'], ['tan', 'nat'], ['bat']])"
      ]
     },
     "execution_count": 2,
     "metadata": {},
     "output_type": "execute_result"
    }
   ],
   "source": [
    "strs = [\"eat\",\"tea\",\"tan\",\"ate\",\"nat\",\"bat\"]\n",
    "\n",
    "sol1 = Solution1()\n",
    "sol1.groupAnagrams(strs)"
   ]
  },
  {
   "cell_type": "markdown",
   "metadata": {},
   "source": [
    "### Solution2\n",
    "Can we create hash table by not using sort algorithm?  \n",
    "The answer is Yes! We can create a arr that record the characters appear in this word, so for each words, they have their array which picture the cahracters appear in this word. So, if words have the same picture, they will be in the same group.\n",
    "And time complexity for this algorithm will be O(n*k)"
   ]
  },
  {
   "cell_type": "code",
   "execution_count": 3,
   "metadata": {},
   "outputs": [],
   "source": [
    "class Solution2:\n",
    "    def groupAnagrams(self, strs: 'List[str]') -> 'List[List[str]]':  \n",
    "        word_map = {}\n",
    "        for w in strs:\n",
    "            word_arr = [0]*26\n",
    "            for char in w:\n",
    "                word_arr[ord(char) - ord(\"a\")]+=1\n",
    "            word_arr = tuple(word_arr)\n",
    "            if word_arr in word_map:\n",
    "                word_map[word_arr].append(w)\n",
    "            else:\n",
    "                word_map[word_arr] = [w]\n",
    "\n",
    "        return word_map.values()"
   ]
  },
  {
   "cell_type": "code",
   "execution_count": 4,
   "metadata": {},
   "outputs": [
    {
     "data": {
      "text/plain": [
       "dict_values([['eat', 'tea', 'ate'], ['tan', 'nat'], ['bat']])"
      ]
     },
     "execution_count": 4,
     "metadata": {},
     "output_type": "execute_result"
    }
   ],
   "source": [
    "strs = [\"eat\",\"tea\",\"tan\",\"ate\",\"nat\",\"bat\"]\n",
    "\n",
    "sol2 = Solution2()\n",
    "sol2.groupAnagrams(strs)"
   ]
  }
 ],
 "metadata": {
  "kernelspec": {
   "display_name": "Python 3",
   "language": "python",
   "name": "python3"
  },
  "language_info": {
   "codemirror_mode": {
    "name": "ipython",
    "version": 3
   },
   "file_extension": ".py",
   "mimetype": "text/x-python",
   "name": "python",
   "nbconvert_exporter": "python",
   "pygments_lexer": "ipython3",
   "version": "3.7.4"
  },
  "toc": {
   "base_numbering": 1,
   "nav_menu": {},
   "number_sections": true,
   "sideBar": true,
   "skip_h1_title": false,
   "title_cell": "Table of Contents",
   "title_sidebar": "Contents",
   "toc_cell": false,
   "toc_position": {},
   "toc_section_display": true,
   "toc_window_display": false
  }
 },
 "nbformat": 4,
 "nbformat_minor": 2
}
