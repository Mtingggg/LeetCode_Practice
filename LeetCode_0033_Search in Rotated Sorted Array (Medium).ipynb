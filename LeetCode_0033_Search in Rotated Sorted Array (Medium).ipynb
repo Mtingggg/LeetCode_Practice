{
 "cells": [
  {
   "cell_type": "code",
   "execution_count": 198,
   "metadata": {},
   "outputs": [],
   "source": [
    "def search(nums:'List[int]', target:'int') -> 'int':\n",
    "    start = 0\n",
    "    end = len(nums)-1\n",
    "    i = int((start+end)/2)\n",
    "\n",
    "    while (start<end):\n",
    "        if nums[i]==target:\n",
    "            break\n",
    "\n",
    "        if nums[start]<=nums[i]:\n",
    "        #檢查是否為rotated的subarray，若nums[start]<=nums[i]表示以i為中心的左右兩個subarray皆由小到大排列\n",
    "        #關鍵為判斷target是否在sorted的subarray中\n",
    "            if nums[start]<=target<nums[i]:\n",
    "                end = i-1\n",
    "            else:\n",
    "                start = i+1\n",
    "        else:\n",
    "            if nums[i]<target<=nums[end]:\n",
    "                start = i+1\n",
    "            else:\n",
    "                end = i-1\n",
    "\n",
    "        i = int((start+end)/2)  \n",
    "\n",
    "    if nums[i]!=target:\n",
    "        return -1\n",
    "    else:\n",
    "        return i"
   ]
  },
  {
   "cell_type": "code",
   "execution_count": 199,
   "metadata": {},
   "outputs": [
    {
     "data": {
      "text/plain": [
       "6"
      ]
     },
     "execution_count": 199,
     "metadata": {},
     "output_type": "execute_result"
    }
   ],
   "source": [
    "nums = [4,5,6,7,0,1,2]\n",
    "target = 2\n",
    "search(nums, target)"
   ]
  }
 ],
 "metadata": {
  "kernelspec": {
   "display_name": "Python 3",
   "language": "python",
   "name": "python3"
  },
  "language_info": {
   "codemirror_mode": {
    "name": "ipython",
    "version": 3
   },
   "file_extension": ".py",
   "mimetype": "text/x-python",
   "name": "python",
   "nbconvert_exporter": "python",
   "pygments_lexer": "ipython3",
   "version": "3.7.4"
  }
 },
 "nbformat": 4,
 "nbformat_minor": 2
}
