{
 "cells": [
  {
   "cell_type": "code",
   "execution_count": 69,
   "metadata": {},
   "outputs": [],
   "source": [
    "def divide(dividend, divisor):\n",
    "\n",
    "    if abs(divisor)==1:\n",
    "        if dividend*divisor<0:\n",
    "            if dividend<0:\n",
    "                return dividend\n",
    "            else:\n",
    "                return min(-dividend,2147483647)\n",
    "        else:\n",
    "            if dividend<0:\n",
    "                return -dividend\n",
    "            else:\n",
    "                return dividend\n",
    "\n",
    "    temp_dividend = abs(dividend)\n",
    "    temp_divisor = abs(divisor)\n",
    "    i = 1\n",
    "    ans = 0\n",
    "    \n",
    "    while temp_dividend >= abs(divisor):\n",
    "        i = 1\n",
    "        temp_divisor = abs(divisor)  \n",
    "        \n",
    "        while temp_dividend >= temp_divisor:\n",
    "            temp_dividend -= temp_divisor\n",
    "            temp_divisor += temp_divisor\n",
    "            ans += i\n",
    "            i += i\n",
    "            \n",
    "        \n",
    "    if dividend*divisor<0:\n",
    "        return -ans\n",
    "    else:\n",
    "        return ans"
   ]
  },
  {
   "cell_type": "code",
   "execution_count": 72,
   "metadata": {},
   "outputs": [
    {
     "data": {
      "text/plain": [
       "33"
      ]
     },
     "execution_count": 72,
     "metadata": {},
     "output_type": "execute_result"
    }
   ],
   "source": [
    "dividend = 100\n",
    "divisor = 3\n",
    "\n",
    "divide(dividend, divisor)"
   ]
  }
 ],
 "metadata": {
  "kernelspec": {
   "display_name": "Python 3",
   "language": "python",
   "name": "python3"
  },
  "language_info": {
   "codemirror_mode": {
    "name": "ipython",
    "version": 3
   },
   "file_extension": ".py",
   "mimetype": "text/x-python",
   "name": "python",
   "nbconvert_exporter": "python",
   "pygments_lexer": "ipython3",
   "version": "3.7.4"
  }
 },
 "nbformat": 4,
 "nbformat_minor": 2
}
