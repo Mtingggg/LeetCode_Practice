{
 "cells": [
  {
   "cell_type": "markdown",
   "metadata": {},
   "source": [
    "### Problem Discription\n",
    "Given an n x n matrix where each of the rows and columns is sorted in ascending order, return the kth smallest element in the matrix.  \n",
    "\n",
    "Note that it is the kth smallest element in the sorted order, not the kth distinct element.  \n",
    "\n",
    "You must find a solution with a memory complexity better than O(n2).\n",
    "\n",
    " \n",
    "\n",
    "Example 1:  \n",
    "Input: matrix = [[1,5,9],[10,11,13],[12,13,15]], k = 8  \n",
    "Output: 13  \n",
    "Explanation: The elements in the matrix are [1,5,9,10,11,12,13,13,15], and the 8th smallest number is 13  "
   ]
  },
  {
   "cell_type": "markdown",
   "metadata": {},
   "source": [
    "### Solution\n",
    "This problem can be easily solve by first flatten the matrix to a list than sort it, and we can get the kth value from the list, but discription require to solve this problem with a memory complexity better than O(n2).  \n",
    "\n",
    "By using a binary search can help us deal with this problem, the things we would do is to find the lower bound and upper bound of numbers satisfied k. But when we find the first correct upper and lower bound, there might be many numbers in this interval, and most of these numbers are not in the matrix.  \n",
    "So now you might have a question, how can we garantee the number we find will exist in the matrix, in example 1, number 14 will also satisfied k=8 scenario.  \n",
    "If you think on the while condition carefully, you will realized what this algo doing is to narrow the upper and lower bound interval in each iteration, and it will be coverage to the lower bound gradually. Finally it will converge to only one number, and it must be a number in the matrix which is exactly the answer."
   ]
  },
  {
   "cell_type": "code",
   "execution_count": 13,
   "metadata": {},
   "outputs": [],
   "source": [
    "class Solution:\n",
    "    def kthSmallest(self, matrix, k):\n",
    "        l = matrix[0][0]\n",
    "        r = matrix[-1][-1]\n",
    "\n",
    "        while l<r:\n",
    "            m = (l+r)//2\n",
    "            count = 0\n",
    "            for row in matrix:\n",
    "                for num in row:\n",
    "                    if num>m:\n",
    "                        break\n",
    "                    count+=1\n",
    "\n",
    "            if count<k:\n",
    "                l = m+1\n",
    "            else:\n",
    "                r = m\n",
    "                \n",
    "        return r"
   ]
  },
  {
   "cell_type": "code",
   "execution_count": 15,
   "metadata": {},
   "outputs": [
    {
     "data": {
      "text/plain": [
       "13"
      ]
     },
     "execution_count": 15,
     "metadata": {},
     "output_type": "execute_result"
    }
   ],
   "source": [
    "matrix = [[1,5,9],[10,11,13],[12,13,15]]\n",
    "k = 8\n",
    "\n",
    "sol = Solution()\n",
    "sol.kthSmallest(matrix, k)"
   ]
  },
  {
   "cell_type": "code",
   "execution_count": null,
   "metadata": {},
   "outputs": [],
   "source": []
  }
 ],
 "metadata": {
  "kernelspec": {
   "display_name": "Python 3",
   "language": "python",
   "name": "python3"
  },
  "language_info": {
   "codemirror_mode": {
    "name": "ipython",
    "version": 3
   },
   "file_extension": ".py",
   "mimetype": "text/x-python",
   "name": "python",
   "nbconvert_exporter": "python",
   "pygments_lexer": "ipython3",
   "version": "3.7.4"
  },
  "toc": {
   "base_numbering": 1,
   "nav_menu": {},
   "number_sections": true,
   "sideBar": true,
   "skip_h1_title": false,
   "title_cell": "Table of Contents",
   "title_sidebar": "Contents",
   "toc_cell": false,
   "toc_position": {},
   "toc_section_display": true,
   "toc_window_display": false
  }
 },
 "nbformat": 4,
 "nbformat_minor": 2
}
