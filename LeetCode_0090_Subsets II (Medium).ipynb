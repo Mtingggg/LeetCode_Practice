{
 "cells": [
  {
   "cell_type": "markdown",
   "metadata": {},
   "source": [
    "### Problem Description\n",
    "Given an integer array nums that may contain duplicates, return all possible subsets (the power set).\n",
    "\n",
    "The solution set must not contain duplicate subsets. Return the solution in any order.\n",
    "\n",
    ">Example 1:  \n",
    "Input: nums = [1,2,2]  \n",
    "Output: [[],[1],[1,2],[1,2,2],[2],[2,2]]  \n",
    "\n",
    ">Example 2:  \n",
    "Input: nums = [0]  \n",
    "Output: [[],[0]]  \n",
    " "
   ]
  },
  {
   "cell_type": "markdown",
   "metadata": {},
   "source": [
    "### Solution\n",
    "It's easy to go through all permutation with DFS, but in this problem there will exist duplicated numbers, so we have to check if each combinations have already exists.  \n",
    "My solution is to change numbers to binary and store it in a set which will be more efficient than list if we want to check number exist in it or not."
   ]
  },
  {
   "cell_type": "code",
   "execution_count": 106,
   "metadata": {},
   "outputs": [],
   "source": [
    "class Solution:\n",
    "    def subsetsWithDup(self, nums:' List[int]') -> 'List[List[int]]':\n",
    "        bin_set = set()\n",
    "        res = [[]]\n",
    "        nums.sort()\n",
    "        def make_subsets(nums, cur, idx):\n",
    "            if idx>(len(nums)):\n",
    "                return\n",
    "            for i in range(idx, len(nums)):\n",
    "                b_cur = ''.join([bin(x) for x in cur+[nums[i]]])\n",
    "                if b_cur not in bin_set:\n",
    "                    bin_set.add(b_cur)\n",
    "                    res.append(cur+[nums[i]])\n",
    "                make_subsets(nums, cur+[nums[i]], i+1)\n",
    "        make_subsets(nums, [], 0)        \n",
    "        return res"
   ]
  },
  {
   "cell_type": "code",
   "execution_count": 107,
   "metadata": {},
   "outputs": [
    {
     "data": {
      "text/plain": [
       "[[], [1], [1, 2], [1, 2, 2], [2], [2, 2]]"
      ]
     },
     "execution_count": 107,
     "metadata": {},
     "output_type": "execute_result"
    }
   ],
   "source": [
    "nums = [1,2,2]\n",
    "\n",
    "sol = Solution()\n",
    "sol.subsetsWithDup(nums)"
   ]
  }
 ],
 "metadata": {
  "kernelspec": {
   "display_name": "Python 3",
   "language": "python",
   "name": "python3"
  },
  "language_info": {
   "codemirror_mode": {
    "name": "ipython",
    "version": 3
   },
   "file_extension": ".py",
   "mimetype": "text/x-python",
   "name": "python",
   "nbconvert_exporter": "python",
   "pygments_lexer": "ipython3",
   "version": "3.7.4"
  },
  "toc": {
   "base_numbering": 1,
   "nav_menu": {},
   "number_sections": true,
   "sideBar": true,
   "skip_h1_title": false,
   "title_cell": "Table of Contents",
   "title_sidebar": "Contents",
   "toc_cell": false,
   "toc_position": {},
   "toc_section_display": true,
   "toc_window_display": false
  }
 },
 "nbformat": 4,
 "nbformat_minor": 2
}
