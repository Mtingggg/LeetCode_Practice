{
 "cells": [
  {
   "cell_type": "markdown",
   "metadata": {},
   "source": [
    "### Problem Description\n",
    "Given an array nums of n integers, return an array of all the unique quadruplets [nums[a], nums[b], nums[c], nums[d]] such that:  \n",
    "0 <= a, b, c, d < n    \n",
    "a, b, c, and d are distinct.    \n",
    "nums[a] + nums[b] + nums[c] + nums[d] == target  \n",
    "You may return the answer in any order.  \n",
    "  \n",
    " \n",
    "\n",
    ">Example 1:  \n",
    "Input: nums = [1,0,-1,0,-2,2], target = 0  \n",
    "Output: [[-2,-1,1,2],[-2,0,0,2],[-1,0,0,1]]  \n",
    "\n",
    ">Example 2:  \n",
    "Input: nums = [2,2,2,2,2], target = 8  \n",
    "Output: [[2,2,2,2]]  \n",
    " "
   ]
  },
  {
   "cell_type": "markdown",
   "metadata": {},
   "source": [
    "### Solution\n",
    "The basic idea is same as 3sum, the key is using a for loop and do n times 3sum.  \n",
    "In 3sum we fix **one** index and move other two index  \n",
    "In 4sum we fix **two** index and move other two index"
   ]
  },
  {
   "cell_type": "code",
   "execution_count": 17,
   "metadata": {
    "scrolled": true
   },
   "outputs": [],
   "source": [
    "class Solution:\n",
    "    def fourSum(self, nums:' List[int]', target: 'int') -> 'List[List[int]]':\n",
    "        nums.sort()\n",
    "        ans = []\n",
    "        for i in range(len(nums)):\n",
    "            for l in range(i+1, len(nums)):\n",
    "                m = l+1\n",
    "                r = len(nums)-1\n",
    "                while m<r:\n",
    "                    cur = nums[i]+nums[l]+nums[m]+nums[r]\n",
    "                    if cur==target and [nums[i],nums[l],nums[m],nums[r]] not in ans:\n",
    "                        ans.append([nums[i],nums[l],nums[m],nums[r]])\n",
    "                    if cur>=target:\n",
    "                        r-=1\n",
    "                    if cur<target:\n",
    "                        m+=1\n",
    "        return ans"
   ]
  },
  {
   "cell_type": "code",
   "execution_count": 18,
   "metadata": {},
   "outputs": [
    {
     "data": {
      "text/plain": [
       "[[-2, -1, 1, 2], [-2, 0, 0, 2], [-1, 0, 0, 1]]"
      ]
     },
     "execution_count": 18,
     "metadata": {},
     "output_type": "execute_result"
    }
   ],
   "source": [
    "nums = [1,0,-1,0,-2,2]\n",
    "target = 0\n",
    "\n",
    "sol = Solution()\n",
    "sol.fourSum(nums, target)"
   ]
  }
 ],
 "metadata": {
  "kernelspec": {
   "display_name": "Python 3",
   "language": "python",
   "name": "python3"
  },
  "language_info": {
   "codemirror_mode": {
    "name": "ipython",
    "version": 3
   },
   "file_extension": ".py",
   "mimetype": "text/x-python",
   "name": "python",
   "nbconvert_exporter": "python",
   "pygments_lexer": "ipython3",
   "version": "3.7.4"
  },
  "toc": {
   "base_numbering": 1,
   "nav_menu": {},
   "number_sections": true,
   "sideBar": true,
   "skip_h1_title": false,
   "title_cell": "Table of Contents",
   "title_sidebar": "Contents",
   "toc_cell": false,
   "toc_position": {},
   "toc_section_display": true,
   "toc_window_display": false
  }
 },
 "nbformat": 4,
 "nbformat_minor": 2
}
