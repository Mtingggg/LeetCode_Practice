{
 "cells": [
  {
   "cell_type": "markdown",
   "metadata": {},
   "source": [
    "### Problem Description\n",
    "Write an efficient algorithm that searches for a value target in an m x n integer matrix matrix. This matrix has the following properties:\n",
    "\n",
    "Integers in each row are sorted from left to right.\n",
    "The first integer of each row is greater than the last integer of the previous row.\n",
    "\n",
    ">Example 1:  \n",
    "Input: matrix = [[1,3,5,7],[10,11,16,20],[23,30,34,60]], target = 3  \n",
    "Output: true  \n",
    "\n",
    ">Example 2:   \n",
    "Input: matrix = [[1,3,5,7],[10,11,16,20],[23,30,34,60]], target = 13  \n",
    "Output: false  "
   ]
  },
  {
   "cell_type": "markdown",
   "metadata": {},
   "source": [
    "### Solution\n",
    "In basic search problem, we find target in a array not a matrix, but the idea is almost the same. In this problem, we can use binary search to find if target is in the matrix in a efficient way.  \n",
    "Just imagine we are doing binary search in m * n array, and we have to transform index to the position in the matrix(row & col), and the rest is the same what we do in the binary search.  \n",
    "After search, we have to check if we search the target or not, so check if l*th* number in matrix equals to target or not, if it equals to target than it means target is in the matrix, if didn't find it means target is not in matrix."
   ]
  },
  {
   "cell_type": "code",
   "execution_count": 88,
   "metadata": {},
   "outputs": [],
   "source": [
    "class Solution:\n",
    "    def searchMatrix(self, matrix:' List[List[int]]', target: 'int') -> 'bool':\n",
    "        l, r, size, n = 0, len(matrix)*len(matrix[0])-1, len(matrix[0]), len(matrix)*len(matrix[0])\n",
    "        while l<=r:\n",
    "            mid = (l+r)//2\n",
    "            row,col = mid//size, mid%size\n",
    "            if matrix[row][col]==target:\n",
    "                return True\n",
    "            elif matrix[row][col]<target:\n",
    "                l = mid+1\n",
    "            else:\n",
    "                r = mid-1\n",
    "        if l>n-1:\n",
    "            return False\n",
    "        else:\n",
    "            r,c = l//size, l%size\n",
    "            if matrix[r][c]==target:\n",
    "                return True\n",
    "            else:\n",
    "                return False"
   ]
  },
  {
   "cell_type": "code",
   "execution_count": 89,
   "metadata": {},
   "outputs": [
    {
     "data": {
      "text/plain": [
       "True"
      ]
     },
     "execution_count": 89,
     "metadata": {},
     "output_type": "execute_result"
    }
   ],
   "source": [
    "matrix = [[1,3,5,7],[10,11,16,20],[23,30,34,50]]\n",
    "target = 10\n",
    "\n",
    "sol = Solution()\n",
    "sol.searchMatrix(matrix, target)"
   ]
  }
 ],
 "metadata": {
  "kernelspec": {
   "display_name": "Python 3",
   "language": "python",
   "name": "python3"
  },
  "language_info": {
   "codemirror_mode": {
    "name": "ipython",
    "version": 3
   },
   "file_extension": ".py",
   "mimetype": "text/x-python",
   "name": "python",
   "nbconvert_exporter": "python",
   "pygments_lexer": "ipython3",
   "version": "3.7.4"
  },
  "toc": {
   "base_numbering": 1,
   "nav_menu": {},
   "number_sections": true,
   "sideBar": true,
   "skip_h1_title": false,
   "title_cell": "Table of Contents",
   "title_sidebar": "Contents",
   "toc_cell": false,
   "toc_position": {},
   "toc_section_display": true,
   "toc_window_display": false
  }
 },
 "nbformat": 4,
 "nbformat_minor": 2
}
