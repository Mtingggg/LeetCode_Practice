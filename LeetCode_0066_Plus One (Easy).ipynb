{
 "cells": [
  {
   "cell_type": "markdown",
   "metadata": {},
   "source": [
    "### Problem Discription\n",
    "You are given a large integer represented as an integer array digits, where each digits[i] is the ith digit of the integer. The digits are ordered from most significant to least significant in left-to-right order. The large integer does not contain any leading 0's.\n",
    "\n",
    "Increment the large integer by one and return the resulting array of digits.\n",
    "\n",
    ">Example 1:  \n",
    "Input: digits = [1,2,3]  \n",
    "Output: [1,2,4]  \n",
    "Explanation: The array represents the integer 123.  \n",
    "Incrementing by one gives 123 + 1 = 124.  \n",
    "Thus, the result should be [1,2,4].  \n",
    "  \n",
    ">Example 2:  \n",
    "Input: digits = [4,3,2,1]  \n",
    "Output: [4,3,2,2]  \n",
    "Explanation: The array represents the integer 4321.  \n",
    "Incrementing by one gives 4321 + 1 = 4322.  \n",
    "Thus, the result should be [4,3,2,2].  \n",
    "\n",
    ">Example 3:  \n",
    "Input: digits = [9]  \n",
    "Output: [1,0]  \n",
    "Explanation: The array represents the integer 9.  \n",
    "Incrementing by one gives 9 + 1 = 10.  \n",
    "Thus, the result should be [1,0].  \n",
    " "
   ]
  },
  {
   "cell_type": "markdown",
   "metadata": {},
   "source": [
    "### Solution\n",
    "Use a variable add to check if there's still number needs to be add in next digit will be a faster way to solve this problem, because it will stop when add=0 and don't need to go through all the digits. "
   ]
  },
  {
   "cell_type": "code",
   "execution_count": 24,
   "metadata": {},
   "outputs": [],
   "source": [
    "class Solution:\n",
    "    def plusOne(self, digits: List[int]) -> List[int]:\n",
    "        add = 1\n",
    "        i = len(digits)-1\n",
    "        while add:\n",
    "            digits[i] = digits[i]+add\n",
    "            if digits[i]==10:\n",
    "                digits[i] = 0\n",
    "                if i==0:\n",
    "                    digits = [1]+digits\n",
    "                    add-=1\n",
    "                i-=1\n",
    "                continue\n",
    "            add = 0\n",
    "            \n",
    "        return digits"
   ]
  }
 ],
 "metadata": {
  "kernelspec": {
   "display_name": "Python 3",
   "language": "python",
   "name": "python3"
  },
  "language_info": {
   "codemirror_mode": {
    "name": "ipython",
    "version": 3
   },
   "file_extension": ".py",
   "mimetype": "text/x-python",
   "name": "python",
   "nbconvert_exporter": "python",
   "pygments_lexer": "ipython3",
   "version": "3.7.4"
  },
  "toc": {
   "base_numbering": 1,
   "nav_menu": {},
   "number_sections": true,
   "sideBar": true,
   "skip_h1_title": false,
   "title_cell": "Table of Contents",
   "title_sidebar": "Contents",
   "toc_cell": false,
   "toc_position": {},
   "toc_section_display": true,
   "toc_window_display": false
  }
 },
 "nbformat": 4,
 "nbformat_minor": 2
}
