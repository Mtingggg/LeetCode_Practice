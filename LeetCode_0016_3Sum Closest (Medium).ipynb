{
 "cells": [
  {
   "cell_type": "markdown",
   "metadata": {},
   "source": [
    "### Problem Discription\n",
    "\n",
    "Given an integer array nums of length n and an integer target, find three integers in nums such that the sum is closest to target.  \n",
    "  \n",
    "Return the sum of the three integers.  \n",
    "  \n",
    "You may assume that each input would have exactly one solution.  \n",
    "\n",
    ">Example 1:\n",
    "Input: nums = [-1,2,1,-4], target = 1  \n",
    "Output: 2   \n",
    "Explanation: The sum that is closest to the target is 2. (-1 + 2 + 1 = 2).  \n",
    " \n",
    ">Example 2:  \n",
    "Input: nums = [0,0,0], target = 1  \n",
    "Output: 0  \n",
    " "
   ]
  },
  {
   "cell_type": "markdown",
   "metadata": {},
   "source": [
    "### Solution\n",
    "The basic idea to solve this problem is same as 3Sum, first we sort nums array, in each for loop, we fix left index and move mid index or right index, if sum of current left, mid, right index nums if greater than target, it means cur sum is to large, we move right index 1 step to the left, so the total sum will be smaller. And if the current sum if smaller than target, it means current numbers are too small, so we move mid index 1 step to the right.  "
   ]
  },
  {
   "cell_type": "code",
   "execution_count": 6,
   "metadata": {},
   "outputs": [],
   "source": [
    "class Solution(object):\n",
    "    def threeSumClosest(self, nums, target):\n",
    "        \"\"\"\n",
    "        :type nums: List[int]\n",
    "        :type target: int\n",
    "        :rtype: int\n",
    "        \"\"\"\n",
    "        nums.sort()\n",
    "        outgap = float('inf')\n",
    "        for l in range(len(nums)-2):\n",
    "            if l!=0 and nums[l]==nums[l-1]:\n",
    "                continue\n",
    "            r = len(nums)-1\n",
    "            m = l+1\n",
    "            while m<r:\n",
    "                cur = nums[l] + nums[m] + nums[r]\n",
    "                if cur==target:\n",
    "                    return cur\n",
    "                elif cur>target:\n",
    "                    if outgap>cur-target:\n",
    "                        out = cur\n",
    "                        outgap = cur-target\n",
    "                    r-=1\n",
    "                    while m<r and nums[r]==nums[r+1]:\n",
    "                        r-=1\n",
    "                else:\n",
    "                    if outgap>target-cur:\n",
    "                        out = cur\n",
    "                        outgap = target-cur  \n",
    "                    m+=1\n",
    "                    while m<r and nums[m-1]==nums[m]:\n",
    "                        m+=1        \n",
    "        return out"
   ]
  },
  {
   "cell_type": "code",
   "execution_count": 7,
   "metadata": {},
   "outputs": [
    {
     "data": {
      "text/plain": [
       "-2"
      ]
     },
     "execution_count": 7,
     "metadata": {},
     "output_type": "execute_result"
    }
   ],
   "source": [
    "nums = [4,0,5,-5,3,3,0,-4,-5]\n",
    "target = -2\n",
    "\n",
    "sol = Solution()\n",
    "sol.threeSumClosest(nums, target)"
   ]
  }
 ],
 "metadata": {
  "kernelspec": {
   "display_name": "Python 3",
   "language": "python",
   "name": "python3"
  },
  "language_info": {
   "codemirror_mode": {
    "name": "ipython",
    "version": 3
   },
   "file_extension": ".py",
   "mimetype": "text/x-python",
   "name": "python",
   "nbconvert_exporter": "python",
   "pygments_lexer": "ipython3",
   "version": "3.7.4"
  },
  "toc": {
   "base_numbering": 1,
   "nav_menu": {},
   "number_sections": true,
   "sideBar": true,
   "skip_h1_title": false,
   "title_cell": "Table of Contents",
   "title_sidebar": "Contents",
   "toc_cell": false,
   "toc_position": {},
   "toc_section_display": true,
   "toc_window_display": false
  }
 },
 "nbformat": 4,
 "nbformat_minor": 2
}
