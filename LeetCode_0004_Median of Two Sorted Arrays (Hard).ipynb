{
 "cells": [
  {
   "cell_type": "code",
   "execution_count": 22,
   "metadata": {},
   "outputs": [
    {
     "name": "stdout",
     "output_type": "stream",
     "text": [
      "1 1\n",
      "3.5\n"
     ]
    }
   ],
   "source": [
    "nums1 = [2,7]\n",
    "nums2 = [3,4]\n",
    "\n",
    "\n",
    "\n",
    "if len(nums1) > len(nums2):\n",
    "        nums1, nums2 = nums2, nums1\n",
    "\n",
    "start = 0\n",
    "end = len(nums1)\n",
    "k = (len(nums1)+len(nums2)+1)//2\n",
    "\n",
    "while True:\n",
    "\n",
    "    m1 = (start+end)//2\n",
    "    m2 = k-m1\n",
    "    print(m1,m2)\n",
    "\n",
    "    left1 = nums1[:m1][-1] if m1>0 else float('-infinity')\n",
    "    right1 = nums1[m1] if m1<len(nums1) else float('infinity')\n",
    "\n",
    "    left2 = nums2[:m2][-1] if m2>0 else float('-infinity')\n",
    "    right2 = nums2[m2] if m2<len(nums2) else float('infinity')            \n",
    "\n",
    "    if (left1<=right2)&(left2<=right1):\n",
    "        if((len(nums1)+len(nums2))%2 == 0):\n",
    "            print((max(left1,left2)+min(right1,right2))/2)\n",
    "        else:\n",
    "            print(max(left1, left2))\n",
    "        break\n",
    "        \n",
    "    elif left1>right2:\n",
    "        end = m1-1\n",
    "    \n",
    "    else:\n",
    "        start = m1+1"
   ]
  }
 ],
 "metadata": {
  "kernelspec": {
   "display_name": "Python 3",
   "language": "python",
   "name": "python3"
  },
  "language_info": {
   "codemirror_mode": {
    "name": "ipython",
    "version": 3
   },
   "file_extension": ".py",
   "mimetype": "text/x-python",
   "name": "python",
   "nbconvert_exporter": "python",
   "pygments_lexer": "ipython3",
   "version": "3.7.4"
  }
 },
 "nbformat": 4,
 "nbformat_minor": 2
}
