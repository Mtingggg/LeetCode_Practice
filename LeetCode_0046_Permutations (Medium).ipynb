{
 "cells": [
  {
   "cell_type": "code",
   "execution_count": 181,
   "metadata": {},
   "outputs": [],
   "source": [
    "l = [1,2,3]\n",
    "ans = []\n",
    "temp = []\n",
    "idx = 0\n",
    "\n",
    "def sol(l, ans, temp, idx):\n",
    "    for num in l:\n",
    "        temp = temp[:idx]\n",
    "            \n",
    "        if num in temp:\n",
    "            continue\n",
    "        temp.append(num)\n",
    "        \n",
    "        if len(temp)==len(l):\n",
    "            ans.append(temp)\n",
    "            temp = []\n",
    "            return ans\n",
    "        \n",
    "        sol(l, ans, temp, idx+1)\n",
    "        \n",
    "    return ans"
   ]
  },
  {
   "cell_type": "code",
   "execution_count": 182,
   "metadata": {},
   "outputs": [
    {
     "data": {
      "text/plain": [
       "[[1, 2, 3], [1, 3, 2], [2, 1, 3], [2, 3, 1], [3, 1, 2], [3, 2, 1]]"
      ]
     },
     "execution_count": 182,
     "metadata": {},
     "output_type": "execute_result"
    }
   ],
   "source": [
    "sol(l, ans, temp, idx)"
   ]
  }
 ],
 "metadata": {
  "kernelspec": {
   "display_name": "Python 3",
   "language": "python",
   "name": "python3"
  },
  "language_info": {
   "codemirror_mode": {
    "name": "ipython",
    "version": 3
   },
   "file_extension": ".py",
   "mimetype": "text/x-python",
   "name": "python",
   "nbconvert_exporter": "python",
   "pygments_lexer": "ipython3",
   "version": "3.7.4"
  }
 },
 "nbformat": 4,
 "nbformat_minor": 2
}
