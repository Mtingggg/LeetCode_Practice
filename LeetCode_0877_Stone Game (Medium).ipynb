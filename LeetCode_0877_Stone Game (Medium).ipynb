{
 "cells": [
  {
   "cell_type": "markdown",
   "metadata": {},
   "source": [
    "### Problem Discription\n",
    "\n",
    "Alice and Bob play a game with piles of stones. There are an even number of piles arranged in a row, and each pile has a positive integer number of stones piles[i].  \n",
    "\n",
    "The objective of the game is to end with the most stones. The total number of stones across all the piles is odd, so there are no ties.  \n",
    "\n",
    "Alice and Bob take turns, with Alice starting first. Each turn, a player takes the entire pile of stones either from the beginning or from the end of the row. This continues until there are no more piles left, at which point the person with the most stones wins.  \n",
    "\n",
    "Assuming Alice and Bob play optimally, return true if Alice wins the game, or false if Bob wins.  \n",
    "\n",
    " \n",
    "\n",
    ">Example 1:  \n",
    "Input: piles = [5,3,4,5]  \n",
    "Output: true  \n",
    "Explanation:   \n",
    "Alice starts first, and can only take the first 5 or the last 5.  \n",
    "Say she takes the first 5, so that the row becomes [3, 4, 5].  \n",
    "If Bob takes 3, then the board is [4, 5], and Alice takes 5 to win with 10 points.  \n",
    "If Bob takes the last 5, then the board is [3, 4], and Alice takes 4 to win with 9 points.  \n",
    "This demonstrated that taking the first 5 was a winning move for Alice, so we return true.  \n",
    "  \n",
    ">Example 2:  \n",
    "Input: piles = [3,7,2,3]  \n",
    "Output: true  \n",
    " "
   ]
  },
  {
   "cell_type": "markdown",
   "metadata": {},
   "source": [
    "### Solution\n",
    "We can use DP to solve this problem, but the values store in the dp array is a little tricky, in dp[i][j] we need to store the Maximum **score difference** you can get from your opponent in interval (i, j) but not the maximum score you can get.  "
   ]
  },
  {
   "cell_type": "code",
   "execution_count": 76,
   "metadata": {},
   "outputs": [],
   "source": [
    "class Solution:\n",
    "    def stoneGame(self, piles: 'List[int]') -> bool:\n",
    "        n = len(piles)\n",
    "        dp = [[0]*n for i in range(n)]\n",
    "        for i in range(n):\n",
    "            dp[i][i] = piles[i]\n",
    "\n",
    "        for sub_len in range(1, n):\n",
    "            for i in range(n-sub_len):\n",
    "                j = i+sub_len\n",
    "                dp[i][j] = max(dp[i][i]-dp[i+1][j], dp[j][j]-dp[i][j-1])\n",
    "        \n",
    "        return dp[0][-1]>0"
   ]
  },
  {
   "cell_type": "code",
   "execution_count": 77,
   "metadata": {},
   "outputs": [
    {
     "data": {
      "text/plain": [
       "True"
      ]
     },
     "execution_count": 77,
     "metadata": {},
     "output_type": "execute_result"
    }
   ],
   "source": [
    "piles = [5,3,4,5]\n",
    "\n",
    "sol = Solution()\n",
    "sol.stoneGame(piles)"
   ]
  },
  {
   "cell_type": "code",
   "execution_count": null,
   "metadata": {},
   "outputs": [],
   "source": []
  },
  {
   "cell_type": "markdown",
   "metadata": {},
   "source": [
    "### Solution - Better DP\n",
    "When we calaulate the value in DP for len_=n, we will only use the values in len_=n-1, so we can reduce 2D dp array to 1D array, it will reduce memory usage from O(n^2) to O(n)."
   ]
  },
  {
   "cell_type": "code",
   "execution_count": 80,
   "metadata": {},
   "outputs": [],
   "source": [
    "class Solution2:\n",
    "    def stoneGame(self, piles: 'List[int]') -> bool:\n",
    "        dp = piles.copy()\n",
    "        n = len(piles)\n",
    "        for sub_len in range(1, n):\n",
    "            for i in range(n-sub_len):\n",
    "                j = i+sub_len\n",
    "                dp[i] = max(dp[i]-dp[i+1], dp[j]-dp[i])\n",
    "        \n",
    "        return dp[0]>0"
   ]
  },
  {
   "cell_type": "code",
   "execution_count": 81,
   "metadata": {},
   "outputs": [
    {
     "data": {
      "text/plain": [
       "True"
      ]
     },
     "execution_count": 81,
     "metadata": {},
     "output_type": "execute_result"
    }
   ],
   "source": [
    "piles = [5,3,4,5]\n",
    "\n",
    "sol2 = Solution2()\n",
    "sol2.stoneGame(piles)"
   ]
  }
 ],
 "metadata": {
  "kernelspec": {
   "display_name": "Python 3",
   "language": "python",
   "name": "python3"
  },
  "language_info": {
   "codemirror_mode": {
    "name": "ipython",
    "version": 3
   },
   "file_extension": ".py",
   "mimetype": "text/x-python",
   "name": "python",
   "nbconvert_exporter": "python",
   "pygments_lexer": "ipython3",
   "version": "3.7.4"
  },
  "toc": {
   "base_numbering": 1,
   "nav_menu": {},
   "number_sections": true,
   "sideBar": true,
   "skip_h1_title": false,
   "title_cell": "Table of Contents",
   "title_sidebar": "Contents",
   "toc_cell": false,
   "toc_position": {},
   "toc_section_display": true,
   "toc_window_display": false
  }
 },
 "nbformat": 4,
 "nbformat_minor": 2
}
