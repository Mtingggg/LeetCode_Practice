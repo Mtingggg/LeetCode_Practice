{
 "cells": [
  {
   "cell_type": "code",
   "execution_count": 76,
   "metadata": {},
   "outputs": [],
   "source": [
    "class Solution:\n",
    "    def threeSum(self, nums:' List[int]') ->' List[List[int]]':\n",
    "        if len(nums)<3:\n",
    "            return []\n",
    "        \n",
    "        if (len(nums)==3)&(sum(nums)==0):\n",
    "            return [nums]\n",
    "        \n",
    "        nums.sort()\n",
    "        ans = []\n",
    "\n",
    "        for i in range(len(nums)-2):\n",
    "            f_num = nums[i]\n",
    "            r = 1\n",
    "            l = i+1\n",
    "\n",
    "            if i > 0 and nums[i] == nums[i-1]: #若這一輪與上一輪數字相同就跳過\n",
    "                continue\n",
    "\n",
    "            while l<(len(nums)-r):\n",
    "                three_sum = f_num + nums[l] + nums[-r]\n",
    "\n",
    "                if three_sum==0:\n",
    "                    ans.append([f_num, nums[l], nums[-r]])\n",
    "                    l+=1 # 這個l下找到一組解後，就往下個數字找\n",
    "                    r=1  # r則重置為最後一個數字開始\n",
    "\n",
    "                    while (l<(len(nums)-r) and nums[l]==nums[l-1]): #在f_num固定的情況下，相同的nums[l]只會對應到一組解，故若與上一輪相同就跳過\n",
    "                        l+=1\n",
    "\n",
    "                if three_sum>0: #表正的數字太大，往下一個找\n",
    "                    r+=1\n",
    "                if three_sum<0: #表負的數字太大，往前一個找\n",
    "                    l+=1\n",
    "\n",
    "\n",
    "            if nums[i+1]>0:\n",
    "                break\n",
    "\n",
    "        return (ans)"
   ]
  },
  {
   "cell_type": "code",
   "execution_count": 77,
   "metadata": {},
   "outputs": [
    {
     "data": {
      "text/plain": [
       "[[-1, -1, 2], [-1, 0, 1]]"
      ]
     },
     "execution_count": 77,
     "metadata": {},
     "output_type": "execute_result"
    }
   ],
   "source": [
    "nums = [-1,0,1,2,-1,-4]\n",
    "sol = Solution()\n",
    "sol.threeSum(nums)"
   ]
  }
 ],
 "metadata": {
  "kernelspec": {
   "display_name": "Python 3",
   "language": "python",
   "name": "python3"
  },
  "language_info": {
   "codemirror_mode": {
    "name": "ipython",
    "version": 3
   },
   "file_extension": ".py",
   "mimetype": "text/x-python",
   "name": "python",
   "nbconvert_exporter": "python",
   "pygments_lexer": "ipython3",
   "version": "3.7.4"
  }
 },
 "nbformat": 4,
 "nbformat_minor": 2
}
