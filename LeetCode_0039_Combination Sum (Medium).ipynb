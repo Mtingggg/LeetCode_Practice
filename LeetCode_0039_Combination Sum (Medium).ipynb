{
 "cells": [
  {
   "cell_type": "markdown",
   "metadata": {},
   "source": [
    "### Problem Description\n",
    "Given an array of distinct integers candidates and a target integer target, return a list of all unique combinations of candidates where the chosen numbers sum to target. You may return the combinations in any order.\n",
    "\n",
    "The same number may be chosen from candidates an unlimited number of times. Two combinations are unique if the frequency of at least one of the chosen numbers is different.\n",
    "\n",
    "It is guaranteed that the number of unique combinations that sum up to target is less than 150 combinations for the given input."
   ]
  },
  {
   "cell_type": "markdown",
   "metadata": {},
   "source": [
    "Example 1:  \n",
    "\n",
    "Input: candidates = [2,3,6,7], target = 7   \n",
    "Output: [[2,2,3],[7]]   \n",
    "Explanation:  \n",
    "2 and 3 are candidates, and 2 + 2 + 3 = 7. Note that 2 can be used multiple times.  \n",
    "7 is a candidate, and 7 = 7.  \n",
    "These are the only two combinations."
   ]
  },
  {
   "cell_type": "markdown",
   "metadata": {},
   "source": [
    "### Solution\n",
    "in this problem, we use a for loop and back_track function for recursion to find all combination that match the target, because we don't want same combination with difference permutation, so in every recursion, we pass a parameter \"idx\" into it, which means in this round, we will try the number start from candidates[i]"
   ]
  },
  {
   "cell_type": "code",
   "execution_count": 19,
   "metadata": {},
   "outputs": [],
   "source": [
    "class Solution:\n",
    "    def __init__(self):\n",
    "        self.ans = []\n",
    "    def back_track(self, candidates, target, tmp_ans, idx):\n",
    "        if target<0:\n",
    "            return\n",
    "        if target==0:\n",
    "            self.ans.append(tmp_ans)\n",
    "        if target>0:\n",
    "            for i in range(idx, len(candidates)):\n",
    "                self.back_track(candidates, target-candidates[i], tmp_ans+[candidates[i]], i)\n",
    "\n",
    "    def combinationSum(self, candidates, target):\n",
    "        self.back_track(candidates, target, [], 0)\n",
    "        \n",
    "        return self.ans"
   ]
  },
  {
   "cell_type": "code",
   "execution_count": 21,
   "metadata": {
    "scrolled": true
   },
   "outputs": [],
   "source": [
    "candidates = [2, 3, 6, 7]\n",
    "target = 7\n",
    "sol = Solution()"
   ]
  },
  {
   "cell_type": "code",
   "execution_count": 22,
   "metadata": {},
   "outputs": [
    {
     "data": {
      "text/plain": [
       "[[2, 2, 3], [7]]"
      ]
     },
     "execution_count": 22,
     "metadata": {},
     "output_type": "execute_result"
    }
   ],
   "source": [
    "sol.combinationSum(candidates, target)"
   ]
  },
  {
   "cell_type": "code",
   "execution_count": null,
   "metadata": {},
   "outputs": [],
   "source": []
  }
 ],
 "metadata": {
  "kernelspec": {
   "display_name": "Python 3",
   "language": "python",
   "name": "python3"
  },
  "language_info": {
   "codemirror_mode": {
    "name": "ipython",
    "version": 3
   },
   "file_extension": ".py",
   "mimetype": "text/x-python",
   "name": "python",
   "nbconvert_exporter": "python",
   "pygments_lexer": "ipython3",
   "version": "3.7.4"
  },
  "toc": {
   "base_numbering": 1,
   "nav_menu": {},
   "number_sections": true,
   "sideBar": true,
   "skip_h1_title": false,
   "title_cell": "Table of Contents",
   "title_sidebar": "Contents",
   "toc_cell": false,
   "toc_position": {},
   "toc_section_display": true,
   "toc_window_display": false
  }
 },
 "nbformat": 4,
 "nbformat_minor": 2
}
