{
 "cells": [
  {
   "cell_type": "markdown",
   "metadata": {},
   "source": [
    "Given a string s and a dictionary of strings wordDict, add spaces in s to construct a sentence where each word is a valid dictionary word. Return all such possible sentences in any order.\n",
    "\n",
    "Note that the same word in the dictionary may be reused multiple times in the segmentation.\n",
    "\n",
    " \n",
    "\n",
    "- Example 1:\n",
    "\n",
    "Input: s = \"catsanddog\", wordDict = [\"cat\",\"cats\",\"and\",\"sand\",\"dog\"]\n",
    "Output: [\"cats and dog\",\"cat sand dog\"]\n",
    "\n",
    "- Example 2:\n",
    "\n",
    "Input: s = \"pineapplepenapple\", wordDict = [\"apple\",\"pen\",\"applepen\",\"pine\",\"pineapple\"]\n",
    "Output: [\"pine apple pen apple\",\"pineapple pen apple\",\"pine applepen apple\"]\n",
    "Explanation: Note that you are allowed to reuse a dictionary word.\n",
    "\n",
    "- Example 3:\n",
    "\n",
    "Input: s = \"catsandog\", wordDict = [\"cats\",\"dog\",\"sand\",\"and\",\"cat\"]\n",
    "Output: []"
   ]
  },
  {
   "cell_type": "markdown",
   "metadata": {},
   "source": []
  },
  {
   "cell_type": "markdown",
   "metadata": {},
   "source": [
    "- Same as the things we do in wordbreak1, we first go through a dp process to know if this string can be segmented into a space-separated sequence of one or more dictionary words. <br>\n",
    "But the things we do more here, is to store the word match in each dp stage into a dictionary, than we can get all possible sentence with the dictionary by doing DFS"
   ]
  },
  {
   "cell_type": "code",
   "execution_count": 1,
   "metadata": {},
   "outputs": [],
   "source": [
    "class Solution(object):\n",
    "    def get_dp(self, s, wordDict):\n",
    "        \"\"\"\n",
    "        :type s: str\n",
    "        :type wordDict: List[str]\n",
    "        :rtype: List[str]\n",
    "        \"\"\"\n",
    "        dp = [False]*(len(s)+1)\n",
    "        dp[0] = True\n",
    "        dp_dict = {}\n",
    "\n",
    "        for idx in range(1, len(s)+1):\n",
    "            for w in wordDict:\n",
    "                if s[idx-len(w):idx]==w and dp[idx-len(w)]:\n",
    "                    dp[idx] = True\n",
    "                    if idx in dp_dict.keys():\n",
    "                        dp_dict[idx].extend([w])\n",
    "                    else:\n",
    "                        dp_dict[idx] = [w]\n",
    "        return dp[len(s)], dp_dict\n",
    "\n",
    "    def get_word(self, s, tmp_s, ans, wordDict):\n",
    "        check, dp_dict = self.get_dp(s, wordDict)\n",
    "        if check:\n",
    "            if len(s)==0:\n",
    "                ans.append(tmp_s)\n",
    "                return\n",
    "            for w in dp_dict[len(s)]:\n",
    "                if len(tmp_s)==0:\n",
    "                    self.get_word(s[:-len(w)], w, ans, wordDict)\n",
    "                else:\n",
    "                    self.get_word(s[:-len(w)], w + ' ' + tmp_s, ans, wordDict)\n",
    "\n",
    "    \n",
    "    def wordBreak(self, s, wordDict):\n",
    "        ans = []\n",
    "        self.get_word(s, tmp_s = '', ans = ans, wordDict = wordDict)\n",
    "        \n",
    "        return ans"
   ]
  },
  {
   "cell_type": "code",
   "execution_count": 2,
   "metadata": {},
   "outputs": [],
   "source": [
    "sol = Solution()"
   ]
  },
  {
   "cell_type": "code",
   "execution_count": 3,
   "metadata": {
    "scrolled": true
   },
   "outputs": [
    {
     "data": {
      "text/plain": [
       "['cats and dog', 'cat sand dog']"
      ]
     },
     "execution_count": 3,
     "metadata": {},
     "output_type": "execute_result"
    }
   ],
   "source": [
    "s = \"catsanddog\"\n",
    "wordDict = [\"cat\",\"cats\",\"and\",\"sand\",\"dog\"]\n",
    "\n",
    "sol.wordBreak(s, wordDict)"
   ]
  },
  {
   "cell_type": "code",
   "execution_count": null,
   "metadata": {},
   "outputs": [],
   "source": []
  },
  {
   "cell_type": "code",
   "execution_count": null,
   "metadata": {},
   "outputs": [],
   "source": []
  },
  {
   "cell_type": "code",
   "execution_count": null,
   "metadata": {},
   "outputs": [],
   "source": []
  }
 ],
 "metadata": {
  "kernelspec": {
   "display_name": "Python 3",
   "language": "python",
   "name": "python3"
  },
  "language_info": {
   "codemirror_mode": {
    "name": "ipython",
    "version": 3
   },
   "file_extension": ".py",
   "mimetype": "text/x-python",
   "name": "python",
   "nbconvert_exporter": "python",
   "pygments_lexer": "ipython3",
   "version": "3.7.4"
  },
  "toc": {
   "base_numbering": 1,
   "nav_menu": {},
   "number_sections": true,
   "sideBar": true,
   "skip_h1_title": false,
   "title_cell": "Table of Contents",
   "title_sidebar": "Contents",
   "toc_cell": false,
   "toc_position": {},
   "toc_section_display": true,
   "toc_window_display": false
  }
 },
 "nbformat": 4,
 "nbformat_minor": 2
}
