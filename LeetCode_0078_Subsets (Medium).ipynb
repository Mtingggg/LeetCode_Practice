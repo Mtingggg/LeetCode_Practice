{
 "cells": [
  {
   "cell_type": "markdown",
   "metadata": {},
   "source": [
    "### Problem Description\n",
    "Given an integer array nums of unique elements, return all possible subsets (the power set).  \n",
    "\n",
    "The solution set must not contain duplicate subsets. Return the solution in any order.  \n",
    "\n",
    " \n",
    "\n",
    ">Example 1:  \n",
    "Input: nums = [1,2,3]  \n",
    "Output: [[],[1],[2],[1,2],[3],[1,3],[2,3],[1,2,3]]  \n",
    "\n",
    ">Example 2:  \n",
    "Input: nums = [0]  \n",
    "Output: [[],[0]]  \n",
    "  "
   ]
  },
  {
   "cell_type": "markdown",
   "metadata": {},
   "source": [
    "### Solution\n",
    "It's a classical problem for backtracking, for this problem, we only need to consider the right side combination in each position, so everytime we call function we only do current index to last index loop.  \n",
    "Also, we won't have the subsets with numbers more than the length of nums, so we use levels variable to check the current length for each subsets we have generated, if levels==len(nums) than we stop calling function."
   ]
  },
  {
   "cell_type": "code",
   "execution_count": 19,
   "metadata": {},
   "outputs": [],
   "source": [
    "class Solution:\n",
    "    def subsets(self, nums: 'List[int]') -> 'List[List[int]]':\n",
    "        ans = []\n",
    "        def make_subset(nums, cur, i, levels):\n",
    "            ans.append(cur)\n",
    "            if i==len(nums):\n",
    "                return\n",
    "            for j in range(i, len(nums)):\n",
    "                make_subset(nums, cur+[nums[j]], j+1, levels+1)\n",
    "        make_subset(nums, [], 0, 1)\n",
    "        return ans"
   ]
  },
  {
   "cell_type": "code",
   "execution_count": 21,
   "metadata": {},
   "outputs": [
    {
     "data": {
      "text/plain": [
       "[[], [1], [1, 2], [1, 2, 3], [1, 3], [2], [2, 3], [3]]"
      ]
     },
     "execution_count": 21,
     "metadata": {},
     "output_type": "execute_result"
    }
   ],
   "source": [
    "sol = Solution()\n",
    "\n",
    "nums = [1,2,3]\n",
    "sol.subsets(nums)"
   ]
  }
 ],
 "metadata": {
  "kernelspec": {
   "display_name": "Python 3",
   "language": "python",
   "name": "python3"
  },
  "language_info": {
   "codemirror_mode": {
    "name": "ipython",
    "version": 3
   },
   "file_extension": ".py",
   "mimetype": "text/x-python",
   "name": "python",
   "nbconvert_exporter": "python",
   "pygments_lexer": "ipython3",
   "version": "3.7.4"
  },
  "toc": {
   "base_numbering": 1,
   "nav_menu": {},
   "number_sections": true,
   "sideBar": true,
   "skip_h1_title": false,
   "title_cell": "Table of Contents",
   "title_sidebar": "Contents",
   "toc_cell": false,
   "toc_position": {},
   "toc_section_display": true,
   "toc_window_display": false
  }
 },
 "nbformat": 4,
 "nbformat_minor": 2
}
