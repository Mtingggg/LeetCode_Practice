{
 "cells": [
  {
   "cell_type": "markdown",
   "metadata": {},
   "source": [
    "### Problem Description\n",
    "Alice and Bob continue their games with piles of stones.  There are a number of piles arranged in a row, and each pile has a positive integer number of stones piles[i].  The objective of the game is to end with the most stones. \n",
    "\n",
    "Alice and Bob take turns, with Alice starting first.  Initially, M = 1.\n",
    "\n",
    "On each player's turn, that player can take all the stones in the first X remaining piles, where 1 <= X <= 2M.  Then, we set M = max(M, X).\n",
    "\n",
    "The game continues until all the stones have been taken.\n",
    "\n",
    "Assuming Alice and Bob play optimally, return the maximum number of stones Alice can get.\n",
    "\n",
    " \n",
    ">Example 1:\n",
    "Input: piles = [2,7,9,4,4]\n",
    "Output: 10\n",
    "Explanation:  If Alice takes one pile at the beginning, Bob takes two piles, then Alice takes 2 piles again. Alice can get 2 + 4 + 4 = 10 piles in total. If Alice takes two piles at the beginning, then Bob can take all three piles left. In this case, Alice get 2 + 7 = 9 piles in total. So we return 10 since it's larger. \n",
    "\n",
    ">Example 2:\n",
    "Input: piles = [1,2,3,4,5,100]\n",
    "Output: 104\n",
    " "
   ]
  },
  {
   "cell_type": "markdown",
   "metadata": {},
   "source": [
    "### Solution\n",
    "DP algorithm can solve this problem. We will create a ixm dp array, which means now you are in position i and you have M=m the maximum value you can get in the entire game is the value in dp array.  \n",
    "So, now we knows the meaning of the dp array but how can we update the array. For update the dp array we can have the formula below:  \n",
    ">dp[ i ][ M ] = (sum of the rest of the piles in position i) - min(dp[ i+x ][ M+x ]) \n",
    "\n",
    "It might be confused for first seen this formula, ***x means the number of piles I take in this turn, and dp[ i+x ][ M+x ] means the maximum value your opponent can get in this entire game after you take x piles in this turn***. So the maximum value you can get in this game at position i, M=m is to minimum the total value your opponent can get that is what min(dp[ i+x ][ M+x ])  means.  \n",
    "After understand the formula we have just mention, remaining works we have to do is to set the dp boundary, that will be the case 2M>i, which means you can get all the rest of the pile."
   ]
  },
  {
   "cell_type": "code",
   "execution_count": 5,
   "metadata": {},
   "outputs": [],
   "source": [
    "class Solution:\n",
    "    def stoneGameII(self, piles: 'List[int]') -> 'int':\n",
    "        n = len(piles)\n",
    "        for i in range(0, len(piles)-1)[::-1]:\n",
    "            piles[i] = piles[i+1]+piles[i]\n",
    "\n",
    "        dp = [[0 for i in range((n-1)//2+1)] for i in range(n)] # n*M\n",
    "        \n",
    "        def find_max(dp, piles, i, M):\n",
    "            if 2*M>=(len(piles)-i):\n",
    "                return piles[i]\n",
    "            if i>=len(piles):\n",
    "                return 0\n",
    "            if dp[i][M]!=0:\n",
    "                return dp[i][M]\n",
    "\n",
    "            # I need to find a x, let next step get a smaller value, \n",
    "            # and the total value I can get in this position will be \n",
    "            # piles[i]-the total value can get in next step\n",
    "            tmp = float('inf')\n",
    "            for m in range(1, 2*M+1): \n",
    "                tmp = min(tmp, find_max(dp, piles, i+m, max(M, m)))\n",
    "            dp[i][M] = piles[i]-tmp\n",
    "\n",
    "            return dp[i][M]\n",
    "        \n",
    "        return find_max(dp, piles, 0, 1)\n",
    "    "
   ]
  },
  {
   "cell_type": "code",
   "execution_count": 7,
   "metadata": {},
   "outputs": [
    {
     "data": {
      "text/plain": [
       "10"
      ]
     },
     "execution_count": 7,
     "metadata": {},
     "output_type": "execute_result"
    }
   ],
   "source": [
    "piles = [2,7,9,4,4]\n",
    "\n",
    "sol = Solution()\n",
    "sol.stoneGameII(piles)"
   ]
  }
 ],
 "metadata": {
  "kernelspec": {
   "display_name": "Python 3",
   "language": "python",
   "name": "python3"
  },
  "language_info": {
   "codemirror_mode": {
    "name": "ipython",
    "version": 3
   },
   "file_extension": ".py",
   "mimetype": "text/x-python",
   "name": "python",
   "nbconvert_exporter": "python",
   "pygments_lexer": "ipython3",
   "version": "3.7.4"
  },
  "toc": {
   "base_numbering": 1,
   "nav_menu": {},
   "number_sections": true,
   "sideBar": true,
   "skip_h1_title": false,
   "title_cell": "Table of Contents",
   "title_sidebar": "Contents",
   "toc_cell": false,
   "toc_position": {},
   "toc_section_display": true,
   "toc_window_display": false
  }
 },
 "nbformat": 4,
 "nbformat_minor": 2
}
