{
 "cells": [
  {
   "cell_type": "markdown",
   "metadata": {},
   "source": [
    "### Problem Description\n",
    "\n",
    "Given the root of a binary tree, return the preorder traversal of its nodes' values.  \n",
    "  \n",
    ">Example 1:  \n",
    "Input: root = [1,null,2,3]  \n",
    "Output: [1,2,3]  \n",
    "  \n",
    ">Example 2:  \n",
    "Input: root = []  \n",
    "Output: []  \n",
    "  \n",
    ">Example 3:  \n",
    "Input: root = [1]  \n",
    "Output: [1]  \n",
    " "
   ]
  },
  {
   "cell_type": "markdown",
   "metadata": {},
   "source": [
    "### Solution"
   ]
  },
  {
   "cell_type": "code",
   "execution_count": null,
   "metadata": {},
   "outputs": [],
   "source": [
    "# Definition for a binary tree node.\n",
    "# class TreeNode:\n",
    "#     def __init__(self, val=0, left=None, right=None):\n",
    "#         self.val = val\n",
    "#         self.left = left\n",
    "#         self.right = right\n",
    "class Solution:\n",
    "    def preorderTraversal(self, root: Optional[TreeNode]) -> List[int]:\n",
    "        def walk(root, res):\n",
    "            if root:\n",
    "                res.append(root.val)\n",
    "                if root.left:\n",
    "                    walk(root.left, ans)\n",
    "                if root.right:\n",
    "                    walk(root.right, ans)\n",
    "        ans = []\n",
    "        walk(root, ans)\n",
    "\n",
    "        return ans\n"
   ]
  }
 ],
 "metadata": {
  "kernelspec": {
   "display_name": "Python 3",
   "language": "python",
   "name": "python3"
  },
  "language_info": {
   "codemirror_mode": {
    "name": "ipython",
    "version": 3
   },
   "file_extension": ".py",
   "mimetype": "text/x-python",
   "name": "python",
   "nbconvert_exporter": "python",
   "pygments_lexer": "ipython3",
   "version": "3.7.4"
  },
  "toc": {
   "base_numbering": 1,
   "nav_menu": {},
   "number_sections": true,
   "sideBar": true,
   "skip_h1_title": false,
   "title_cell": "Table of Contents",
   "title_sidebar": "Contents",
   "toc_cell": false,
   "toc_position": {},
   "toc_section_display": true,
   "toc_window_display": false
  }
 },
 "nbformat": 4,
 "nbformat_minor": 2
}
