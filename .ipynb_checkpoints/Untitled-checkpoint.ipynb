{
 "cells": [
  {
   "cell_type": "code",
   "execution_count": 120,
   "metadata": {},
   "outputs": [
    {
     "data": {
      "text/plain": [
       "[-4, -3, -2, -1, -1, 0, 0, 1, 2, 3, 4, inf]"
      ]
     },
     "execution_count": 120,
     "metadata": {},
     "output_type": "execute_result"
    }
   ],
   "source": [
    "nums"
   ]
  },
  {
   "cell_type": "code",
   "execution_count": 119,
   "metadata": {},
   "outputs": [
    {
     "name": "stdout",
     "output_type": "stream",
     "text": [
      "0 1 2\n",
      "0 1 3\n",
      "0 1 4\n",
      "0 1 5\n",
      "0 1 6\n",
      "0 1 7\n",
      "0 1 8\n",
      "0 1 9\n",
      "0 1 10\n",
      "1 2 2\n",
      "1 2 3\n",
      "1 2 4\n",
      "1 2 5\n",
      "1 2 6\n",
      "1 2 7\n",
      "1 2 8\n",
      "1 2 9\n",
      "2 3 2\n",
      "2 3 3\n",
      "2 4 2\n",
      "2 4 3\n",
      "2 5 2\n",
      "2 5 3\n",
      "2 5 4\n",
      "2 6 2\n",
      "2 6 3\n",
      "2 6 4\n",
      "2 7 2\n",
      "2 7 3\n",
      "2 7 4\n",
      "3 4 2\n",
      "3 4 3\n",
      "3 4 4\n",
      "3 5 2\n",
      "3 5 3\n",
      "3 5 4\n",
      "3 5 5\n",
      "3 6 2\n",
      "3 6 3\n",
      "3 6 4\n",
      "3 6 5\n",
      "3 7 2\n",
      "3 7 3\n",
      "3 7 4\n",
      "4 5 2\n",
      "4 5 3\n",
      "4 5 4\n",
      "4 5 5\n",
      "4 6 2\n",
      "4 6 3\n",
      "4 6 4\n",
      "4 6 5\n",
      "4 7 2\n",
      "4 7 3\n",
      "4 7 4\n",
      "5 6 2\n",
      "5 6 3\n",
      "5 6 4\n",
      "5 6 5\n",
      "[[-2, -1, 3], [-2, 0, 2], [-1, -1, 2], [-1, 0, 1]]\n"
     ]
    }
   ],
   "source": [
    "nums = [-1,0,1,2,-1,-4,-2,-3,3,0,4]\n",
    "nums.append(float('infinity'))\n",
    "nums.sort()\n",
    "ans = []\n",
    "\n",
    "for i in range(len(nums)-2):\n",
    "    f_num = nums[i]\n",
    "    l = i+1\n",
    "    r = 2\n",
    "    \n",
    "    while (l+r)<=len(nums)-1:\n",
    "        print(i,l,r)\n",
    "        three_sum = f_num + nums[l] + nums[-r]\n",
    "        \n",
    "        if (three_sum==0):\n",
    "            if ([f_num, nums[l], nums[-r]] not in ans):\n",
    "                ans.append([f_num, nums[l], nums[-r]])\n",
    "            l+=1\n",
    "            r=1\n",
    "            \n",
    "        r+=1\n",
    "        \n",
    "    if nums[i]>=0:\n",
    "        break\n",
    "\n",
    "print(ans)"
   ]
  },
  {
   "cell_type": "code",
   "execution_count": null,
   "metadata": {},
   "outputs": [],
   "source": []
  },
  {
   "cell_type": "code",
   "execution_count": null,
   "metadata": {},
   "outputs": [],
   "source": []
  }
 ],
 "metadata": {
  "kernelspec": {
   "display_name": "Python 3",
   "language": "python",
   "name": "python3"
  },
  "language_info": {
   "codemirror_mode": {
    "name": "ipython",
    "version": 3
   },
   "file_extension": ".py",
   "mimetype": "text/x-python",
   "name": "python",
   "nbconvert_exporter": "python",
   "pygments_lexer": "ipython3",
   "version": "3.7.4"
  }
 },
 "nbformat": 4,
 "nbformat_minor": 2
}
