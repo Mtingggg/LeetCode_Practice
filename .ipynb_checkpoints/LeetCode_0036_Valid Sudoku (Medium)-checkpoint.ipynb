{
 "cells": [
  {
   "cell_type": "code",
   "execution_count": 172,
   "metadata": {},
   "outputs": [],
   "source": [
    "board = \\\n",
    "[[\"8\",\"3\",\".\",\".\",\"7\",\".\",\".\",\".\",\".\"]\n",
    ",[\"6\",\".\",\".\",\"1\",\"9\",\"5\",\".\",\".\",\".\"]\n",
    ",[\".\",\"9\",\"8\",\".\",\".\",\".\",\".\",\"6\",\".\"]\n",
    ",[\"8\",\".\",\".\",\".\",\"6\",\".\",\".\",\".\",\"3\"]\n",
    ",[\"4\",\".\",\".\",\"8\",\".\",\"3\",\".\",\".\",\"1\"]\n",
    ",[\"7\",\".\",\".\",\".\",\"2\",\".\",\".\",\".\",\"6\"]\n",
    ",[\".\",\"6\",\".\",\".\",\".\",\".\",\"2\",\"8\",\".\"]\n",
    ",[\".\",\".\",\".\",\"4\",\"1\",\"9\",\".\",\".\",\"5\"]\n",
    ",[\".\",\".\",\".\",\".\",\"8\",\".\",\".\",\"7\",\"9\"]]"
   ]
  },
  {
   "cell_type": "code",
   "execution_count": 173,
   "metadata": {},
   "outputs": [
    {
     "data": {
      "text/plain": [
       "False"
      ]
     },
     "execution_count": 173,
     "metadata": {},
     "output_type": "execute_result"
    }
   ],
   "source": [
    "ans = True\n",
    "\n",
    "# check row\n",
    "for i in range(9):\n",
    "    if len(set(board[i]))!=(10-sum([x=='.' for x in board[i]])):\n",
    "        ans = False\n",
    "        break\n",
    "\n",
    "# check column\n",
    "for i in range(9):\n",
    "    temp = []\n",
    "    for j in range(9):\n",
    "        temp.append(board[j][i])\n",
    "    if len(set(temp))!=(10-sum([x=='.' for x in temp])):\n",
    "        ans = False\n",
    "        break\n",
    "\n",
    "# check square\n",
    "storage = {}\n",
    "for i in range(9):\n",
    "    for j in range(9):\n",
    "        storage.setdefault(3*(i//3)+j//3,[]).append(board[i][j])\n",
    "for i in range(9):\n",
    "    if len(set(storage[i]))!=(10-sum([x=='.' for x in storage[i]])):\n",
    "        ans = False\n",
    "        break\n",
    "        \n",
    "        \n",
    "ans"
   ]
  }
 ],
 "metadata": {
  "kernelspec": {
   "display_name": "Python 3",
   "language": "python",
   "name": "python3"
  },
  "language_info": {
   "codemirror_mode": {
    "name": "ipython",
    "version": 3
   },
   "file_extension": ".py",
   "mimetype": "text/x-python",
   "name": "python",
   "nbconvert_exporter": "python",
   "pygments_lexer": "ipython3",
   "version": "3.7.4"
  }
 },
 "nbformat": 4,
 "nbformat_minor": 2
}
