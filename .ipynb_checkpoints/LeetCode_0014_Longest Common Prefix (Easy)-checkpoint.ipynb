{
 "cells": [
  {
   "cell_type": "code",
   "execution_count": 37,
   "metadata": {},
   "outputs": [],
   "source": [
    "class Solution:\n",
    "    def longestCommonPrefix(self, strs: 'List[str]') -> 'str':\n",
    "        prefix = ''\n",
    "        check = 0\n",
    "        \n",
    "        if strs ==[]:\n",
    "            return ''\n",
    "        \n",
    "        for i in range(200):\n",
    "            if i>len(strs[0])-1:\n",
    "                break\n",
    "\n",
    "            for string in strs:\n",
    "                if i>len(string)-1:\n",
    "                    check = 1\n",
    "                    break\n",
    "                if string[i]!=strs[0][i]:\n",
    "                    check = 1\n",
    "                    break\n",
    "\n",
    "            if check==1:\n",
    "                break\n",
    "\n",
    "            prefix += strs[0][i]\n",
    "        \n",
    "        return prefix"
   ]
  },
  {
   "cell_type": "code",
   "execution_count": 38,
   "metadata": {},
   "outputs": [
    {
     "data": {
      "text/plain": [
       "'fl'"
      ]
     },
     "execution_count": 38,
     "metadata": {},
     "output_type": "execute_result"
    }
   ],
   "source": [
    "strs = [\"flower\",\"flow\",\"flight\"]\n",
    "sol = Solution()\n",
    "sol.longestCommonPrefix([\"flower\",\"flow\",\"flight\"])"
   ]
  },
  {
   "cell_type": "markdown",
   "metadata": {},
   "source": [
    "## 討論區最佳解\n",
    "- min與max會依字母排序找出，相當於是比較兩個差異最大的單詞，只要他們兩個符合的條件其他一定符合。"
   ]
  },
  {
   "cell_type": "code",
   "execution_count": null,
   "metadata": {},
   "outputs": [],
   "source": [
    "class Solution:\n",
    "    def longestCommonPrefix(self, m):\n",
    "        if not m: return ''\n",
    "        #since list of string will be sorted and retrieved min max by alphebetic order\n",
    "        s1 = min(m)\n",
    "        s2 = max(m)\n",
    "\n",
    "        for i, c in enumerate(s1):\n",
    "            if c != s2[i]:\n",
    "                return s1[:i] #stop until hit the split index\n",
    "        return s1"
   ]
  }
 ],
 "metadata": {
  "kernelspec": {
   "display_name": "Python 3",
   "language": "python",
   "name": "python3"
  },
  "language_info": {
   "codemirror_mode": {
    "name": "ipython",
    "version": 3
   },
   "file_extension": ".py",
   "mimetype": "text/x-python",
   "name": "python",
   "nbconvert_exporter": "python",
   "pygments_lexer": "ipython3",
   "version": "3.7.4"
  }
 },
 "nbformat": 4,
 "nbformat_minor": 2
}
