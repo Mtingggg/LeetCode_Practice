{
 "cells": [
  {
   "cell_type": "markdown",
   "metadata": {},
   "source": [
    "### Problem Discription\n",
    "There are n piles of coins on a table. Each pile consists of a positive number of coins of assorted denominations.\n",
    "\n",
    "In one move, you can choose any coin on top of any pile, remove it, and add it to your wallet.\n",
    "\n",
    "Given a list piles, where piles[i] is a list of integers denoting the composition of the ith pile from top to bottom, and a positive integer k, return the maximum total value of coins you can have in your wallet if you choose exactly k coins optimally.\n",
    "\n",
    ">Example 1:  \n",
    "Input: piles = [[1,100,3],[7,8,9]], k = 2  \n",
    "Output: 101  \n",
    "Explanation:  \n",
    "The above diagram shows the different ways we can choose k coins.  \n",
    "The maximum total we can obtain is 101.  \n",
    "\n",
    ">Example 2:  \n",
    "Input: piles = [[100],[100],[100],[100],[100],[100],[1,1,1,1,1,1,700]], k = 7  \n",
    "Output: 706  \n",
    "Explanation:  \n",
    "The maximum total can be obtained if we choose all coins from the last pile.  \n",
    " "
   ]
  },
  {
   "cell_type": "markdown",
   "metadata": {},
   "source": [
    "### Solution\n",
    "The key to solve this problem is to create a 2d array dp, dp[i][j] means the maximum coins we can get if we takes j coins from i piles.  \n",
    "We can use dynamic programing to complete this array, where  \n",
    "dp[i][j] = ***max(dp[i][j], dp[i-1][j], dp[i-1][j-k]+sum(piles[i][:k])***, k means the number of coins you will take in piles[i]"
   ]
  },
  {
   "cell_type": "code",
   "execution_count": 1,
   "metadata": {},
   "outputs": [],
   "source": [
    "piles = [[37,88],[51,64,65,20,95,30,26],[9,62,20],[44]]\n",
    "k = 9"
   ]
  },
  {
   "cell_type": "code",
   "execution_count": 2,
   "metadata": {},
   "outputs": [],
   "source": [
    "class Solution:\n",
    "    def maxValueOfCoins(self, piles: 'List[List[int]]', k: 'int') -> 'int':\n",
    "        pre_sum = [[0]*len(p) for p in piles]\n",
    "        for i in range(len(pre_sum)):\n",
    "            s = 0\n",
    "            for j in range(len(piles[i])):\n",
    "                s+=piles[i][j]\n",
    "                pre_sum[i][j] = s\n",
    "\n",
    "        dp = [[0]*2001 for i in range(len(piles)+1)]\n",
    "        for pile_idx in range(1,len(piles)+1):\n",
    "            for all_take_num in range(1,k+1):\n",
    "                for cur_take_num in range(1,min(all_take_num, len(piles[pile_idx-1]))+1):\n",
    "                    dp[pile_idx][all_take_num] = max(dp[pile_idx][all_take_num], dp[pile_idx-1][all_take_num-cur_take_num] + pre_sum[pile_idx-1][cur_take_num-1], dp[pile_idx-1][all_take_num])\n",
    "\n",
    "        return dp[len(piles)][k]"
   ]
  },
  {
   "cell_type": "code",
   "execution_count": 3,
   "metadata": {},
   "outputs": [
    {
     "data": {
      "text/plain": [
       "494"
      ]
     },
     "execution_count": 3,
     "metadata": {},
     "output_type": "execute_result"
    }
   ],
   "source": [
    "sol = Solution()\n",
    "sol.maxValueOfCoins(piles, k)"
   ]
  }
 ],
 "metadata": {
  "kernelspec": {
   "display_name": "Python 3",
   "language": "python",
   "name": "python3"
  },
  "language_info": {
   "codemirror_mode": {
    "name": "ipython",
    "version": 3
   },
   "file_extension": ".py",
   "mimetype": "text/x-python",
   "name": "python",
   "nbconvert_exporter": "python",
   "pygments_lexer": "ipython3",
   "version": "3.7.4"
  },
  "toc": {
   "base_numbering": 1,
   "nav_menu": {},
   "number_sections": true,
   "sideBar": true,
   "skip_h1_title": false,
   "title_cell": "Table of Contents",
   "title_sidebar": "Contents",
   "toc_cell": false,
   "toc_position": {},
   "toc_section_display": true,
   "toc_window_display": false
  }
 },
 "nbformat": 4,
 "nbformat_minor": 2
}
