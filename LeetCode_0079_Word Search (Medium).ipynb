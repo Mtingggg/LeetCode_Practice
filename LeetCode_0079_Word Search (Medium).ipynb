{
 "cells": [
  {
   "attachments": {},
   "cell_type": "markdown",
   "metadata": {},
   "source": [
    "### Problem Description\n",
    "Given an m x n grid of characters board and a string word, return true if word exists in the grid.  \n",
    "\n",
    "The word can be constructed from letters of sequentially adjacent cells, where adjacent cells are horizontally or vertically neighboring. The same letter cell may not be used more than once.  \n",
    "\n",
    " \n",
    "\n",
    "Example 1:  \n",
    "Input: board = [[\"A\",\"B\",\"C\",\"E\"],[\"S\",\"F\",\"C\",\"S\"],[\"A\",\"D\",\"E\",\"E\"]], word = \"ABCCED\"  \n",
    "Output: true  \n",
    "\n",
    "Example 2:  \n",
    "Input: board = [[\"A\",\"B\",\"C\",\"E\"],[\"S\",\"F\",\"C\",\"S\"],[\"A\",\"D\",\"E\",\"E\"]], word = \"SEE\"  \n",
    "Output: true  \n",
    "\n",
    "Example 3:  \n",
    "Input: board = [[\"A\",\"B\",\"C\",\"E\"],[\"S\",\"F\",\"C\",\"S\"],[\"A\",\"D\",\"E\",\"E\"]], word = \"ABCB\"  \n",
    "Output: false  "
   ]
  },
  {
   "cell_type": "markdown",
   "metadata": {},
   "source": [
    "### Solution1 - Basic \n",
    "Backtracking is the key to solve this problem, use for loop to start from every position in the board, and go through every possible walk from each position. Another important point is to record the position you have already visited and so we won't visited same position twice."
   ]
  },
  {
   "cell_type": "code",
   "execution_count": 256,
   "metadata": {},
   "outputs": [],
   "source": [
    "class Solution1:\n",
    "    def __init__(self):\n",
    "        self.ans = False\n",
    "        \n",
    "    def exist(self, board: 'List[List[str]]', word: 'str') -> 'bool':\n",
    "        i = len(board)\n",
    "        j = len(board[0])\n",
    "        for r in range(i):\n",
    "            for c in range(j):\n",
    "                if board[r][c]==word[0]:\n",
    "                    visited = [[0]*j for x in range(i)]\n",
    "                    visited[r][c]=1\n",
    "                    self.find_word(board, visited, r, c, word, 1)\n",
    "                    if self.ans:\n",
    "                        return True\n",
    "        return False\n",
    "    \n",
    "    def find_word(self, board, visited, r, c, word, cur_idx):\n",
    "        if cur_idx==len(word):\n",
    "            self.ans = True\n",
    "            return\n",
    "\n",
    "        if (r-1>=0) and (board[r-1][c]==word[cur_idx]) and (visited[r-1][c]==0):\n",
    "            visited[r-1][c]=1\n",
    "            self.find_word(board, visited, r-1, c, word, cur_idx+1)\n",
    "            visited[r-1][c]=0\n",
    "\n",
    "        if (c-1>=0) and (board[r][c-1]==word[cur_idx]) and (visited[r][c-1]==0):\n",
    "            visited[r][c-1]=1\n",
    "            self.find_word(board, visited, r, c-1, word, cur_idx+1)\n",
    "            visited[r][c-1]=0\n",
    "\n",
    "        if (r+1<len(board)) and (board[r+1][c]==word[cur_idx]) and (visited[r+1][c]==0):\n",
    "            visited[r+1][c]=1\n",
    "            self.find_word(board, visited, r+1, c, word, cur_idx+1)\n",
    "            visited[r+1][c]=0\n",
    "\n",
    "        if (c+1<len(board[0])) and (board[r][c+1]==word[cur_idx]) and (visited[r][c+1]==0):\n",
    "            visited[r][c+1]=1\n",
    "            self.find_word(board, visited, r, c+1, word, cur_idx+1)\n",
    "            visited[r][c+1]=0\n",
    "        "
   ]
  },
  {
   "cell_type": "code",
   "execution_count": 257,
   "metadata": {},
   "outputs": [
    {
     "data": {
      "text/plain": [
       "True"
      ]
     },
     "execution_count": 257,
     "metadata": {},
     "output_type": "execute_result"
    }
   ],
   "source": [
    "board = [[\"A\",\"B\",\"C\",\"E\"],[\"S\",\"F\",\"C\",\"S\"],[\"A\",\"D\",\"E\",\"E\"]]\n",
    "word = \"ABCCED\"\n",
    "\n",
    "sol = Solution1()\n",
    "sol.exist(board, word)"
   ]
  },
  {
   "cell_type": "markdown",
   "metadata": {},
   "source": [
    "### Solution - Optimized\n",
    "The code in Solution1 can be written in more simplified way, actually we don't need use a variable to store the result and we can record visited position in board and don't need to create another array"
   ]
  },
  {
   "cell_type": "code",
   "execution_count": 259,
   "metadata": {},
   "outputs": [],
   "source": [
    "class Solution2:\n",
    "    def exist(self, board: 'List[List[str]]', word: 'str') -> 'bool':        \n",
    "        def find_word(board, r, c, word, cur_idx):\n",
    "            if cur_idx==len(word):\n",
    "                return True \n",
    "            if not((0<=r<len(board)) and (0<=c<len(board[0])) and board[r][c]==word[cur_idx]):\n",
    "                return False\n",
    "\n",
    "            board[r][c]=None\n",
    "            res = find_word(board, r-1, c, word, cur_idx+1) or find_word(board, r+1, c, word, cur_idx+1) or\\\n",
    "                find_word(board, r, c-1, word, cur_idx+1) or find_word(board, r, c+1, word, cur_idx+1)\n",
    "            board[r][c]=word[cur_idx]\n",
    "            return res\n",
    "        \n",
    "        i = len(board)\n",
    "        j = len(board[0])\n",
    "        for r in range(i):\n",
    "            for c in range(j):\n",
    "                if board[r][c]==word[0]:\n",
    "                    if find_word(board, r, c, word, 0):\n",
    "                        return True\n",
    "        return False"
   ]
  },
  {
   "cell_type": "code",
   "execution_count": 260,
   "metadata": {},
   "outputs": [
    {
     "data": {
      "text/plain": [
       "True"
      ]
     },
     "execution_count": 260,
     "metadata": {},
     "output_type": "execute_result"
    }
   ],
   "source": [
    "board = [[\"A\",\"B\",\"C\",\"E\"],[\"S\",\"F\",\"C\",\"S\"],[\"A\",\"D\",\"E\",\"E\"]]\n",
    "word = \"ABCCED\"\n",
    "\n",
    "sol = Solution2()\n",
    "sol.exist(board, word)"
   ]
  }
 ],
 "metadata": {
  "kernelspec": {
   "display_name": "Python 3",
   "language": "python",
   "name": "python3"
  },
  "language_info": {
   "codemirror_mode": {
    "name": "ipython",
    "version": 3
   },
   "file_extension": ".py",
   "mimetype": "text/x-python",
   "name": "python",
   "nbconvert_exporter": "python",
   "pygments_lexer": "ipython3",
   "version": "3.7.4"
  },
  "toc": {
   "base_numbering": 1,
   "nav_menu": {},
   "number_sections": true,
   "sideBar": true,
   "skip_h1_title": false,
   "title_cell": "Table of Contents",
   "title_sidebar": "Contents",
   "toc_cell": false,
   "toc_position": {},
   "toc_section_display": true,
   "toc_window_display": false
  }
 },
 "nbformat": 4,
 "nbformat_minor": 2
}
