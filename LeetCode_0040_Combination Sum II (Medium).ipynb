{
 "cells": [
  {
   "cell_type": "markdown",
   "metadata": {},
   "source": [
    "### Problem Discription\n",
    "Given a collection of candidate numbers (candidates) and a target number (target), find all unique combinations in candidates where the candidate numbers sum to target.  \n",
    "\n",
    "Each number in candidates may only be used once in the combination.  \n",
    "\n",
    "Note: The solution set must not contain duplicate combinations.  \n",
    "\n",
    " \n",
    ">Example 1:  \n",
    "Input: candidates = [10,1,2,7,6,1,5], target = 8  \n",
    "Output: \n",
    "[\n",
    "[1,1,6],\n",
    "[1,2,5],\n",
    "[1,7],\n",
    "[2,6]\n",
    "]  \n",
    "\n",
    ">Example 2:  \n",
    "Input: candidates = [2,5,2,1,2], target = 5  \n",
    "Output:   \n",
    "[\n",
    "[1,2,2],\n",
    "[5]\n",
    "]\n",
    " "
   ]
  },
  {
   "cell_type": "markdown",
   "metadata": {},
   "source": [
    "### Solution\n",
    "We can colve this problem by using backtracking. Since there will have same numbers in candidates and ans must not contain duplicate combinations, so we have to skip the numbers if we have already walk through.  \n",
    "How we realize this idea is to sort candidate array first, and in every iter, we only search the numbers after current number, if current number is same as last number, we pass it. Finally, ans will result in unique combination!"
   ]
  },
  {
   "cell_type": "code",
   "execution_count": 236,
   "metadata": {},
   "outputs": [],
   "source": [
    "class Solution:\n",
    "    def combinationSum2(self, candidates: 'List[int]', target: 'int') -> 'List[List[int]]':\n",
    "        def find_sum(candidates, cur_ans, cur_sum, target, ans, start_idx):\n",
    "            for idx in range(start_idx, len(candidates)):\n",
    "                if idx>start_idx and candidates[idx-1]==candidates[idx]:\n",
    "                    continue\n",
    "                if (cur_sum+candidates[idx])>target:\n",
    "                    return\n",
    "                elif (cur_sum+candidates[idx])==target:\n",
    "                    ans.append(cur_ans+[candidates[idx]])\n",
    "                else:\n",
    "                    find_sum(candidates, cur_ans+[candidates[idx]], cur_sum+candidates[idx], target, ans, idx+1)\n",
    "        \n",
    "        ans = []\n",
    "        candidates.sort()\n",
    "        find_sum(candidates, [], 0, target, ans, 0)\n",
    "        \n",
    "        return ans "
   ]
  },
  {
   "cell_type": "code",
   "execution_count": 237,
   "metadata": {},
   "outputs": [
    {
     "data": {
      "text/plain": [
       "[[1, 1, 6], [1, 2, 5], [1, 7], [2, 6]]"
      ]
     },
     "execution_count": 237,
     "metadata": {},
     "output_type": "execute_result"
    }
   ],
   "source": [
    "candidates = [10,1,2,7,6,1,5]\n",
    "target = 8\n",
    "\n",
    "sol = Solution()\n",
    "sol.combinationSum2(candidates, target)"
   ]
  },
  {
   "cell_type": "code",
   "execution_count": null,
   "metadata": {},
   "outputs": [],
   "source": []
  }
 ],
 "metadata": {
  "kernelspec": {
   "display_name": "Python 3",
   "language": "python",
   "name": "python3"
  },
  "language_info": {
   "codemirror_mode": {
    "name": "ipython",
    "version": 3
   },
   "file_extension": ".py",
   "mimetype": "text/x-python",
   "name": "python",
   "nbconvert_exporter": "python",
   "pygments_lexer": "ipython3",
   "version": "3.7.4"
  },
  "toc": {
   "base_numbering": 1,
   "nav_menu": {},
   "number_sections": true,
   "sideBar": true,
   "skip_h1_title": false,
   "title_cell": "Table of Contents",
   "title_sidebar": "Contents",
   "toc_cell": false,
   "toc_position": {},
   "toc_section_display": true,
   "toc_window_display": false
  }
 },
 "nbformat": 4,
 "nbformat_minor": 2
}
