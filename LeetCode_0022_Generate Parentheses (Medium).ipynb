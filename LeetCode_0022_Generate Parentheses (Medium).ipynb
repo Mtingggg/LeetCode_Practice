{
 "cells": [
  {
   "cell_type": "code",
   "execution_count": 151,
   "metadata": {},
   "outputs": [],
   "source": [
    "class Solution:\n",
    "    def generateParenthesis(self, n) :\n",
    "        if not n:\n",
    "            return []\n",
    "        l,r = n,n\n",
    "        ans = []\n",
    "        self.recursion(l,r,'',ans)\n",
    "\n",
    "        return ans\n",
    "\n",
    "    def recursion(self,l,r,string,ans):\n",
    "        if l>r:  #會有左括號無法和右括號配對->不符規定跳出\n",
    "            return\n",
    "\n",
    "        if l:\n",
    "            self.recursion(l-1,r,string+'(',ans)\n",
    "\n",
    "        if r:\n",
    "            self.recursion(l,r-1,string+')',ans)\n",
    "\n",
    "        if not r and not l: #左括號跟右括號都放完(l=r=0)即停止，把結果加入ANS中\n",
    "            ans.append(string)\n",
    "\n",
    "            return ans"
   ]
  },
  {
   "cell_type": "code",
   "execution_count": 152,
   "metadata": {},
   "outputs": [],
   "source": [
    "sol = Solution()"
   ]
  },
  {
   "cell_type": "code",
   "execution_count": 154,
   "metadata": {},
   "outputs": [
    {
     "data": {
      "text/plain": [
       "['((()))', '(()())', '(())()', '()(())', '()()()']"
      ]
     },
     "execution_count": 154,
     "metadata": {},
     "output_type": "execute_result"
    }
   ],
   "source": [
    "sol.generateParenthesis(3)"
   ]
  }
 ],
 "metadata": {
  "kernelspec": {
   "display_name": "Python 3",
   "language": "python",
   "name": "python3"
  },
  "language_info": {
   "codemirror_mode": {
    "name": "ipython",
    "version": 3
   },
   "file_extension": ".py",
   "mimetype": "text/x-python",
   "name": "python",
   "nbconvert_exporter": "python",
   "pygments_lexer": "ipython3",
   "version": "3.7.4"
  }
 },
 "nbformat": 4,
 "nbformat_minor": 2
}
