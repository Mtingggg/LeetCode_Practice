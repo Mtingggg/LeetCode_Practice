{
 "cells": [
  {
   "cell_type": "markdown",
   "metadata": {},
   "source": [
    "## Solution1"
   ]
  },
  {
   "cell_type": "code",
   "execution_count": 148,
   "metadata": {},
   "outputs": [
    {
     "data": {
      "text/plain": [
       "3"
      ]
     },
     "execution_count": 148,
     "metadata": {},
     "output_type": "execute_result"
    }
   ],
   "source": [
    "test = 'abac'\n",
    "storage = []\n",
    "out_len = 0\n",
    "temp_len = 0\n",
    "\n",
    "\n",
    "for i in range(len(test)):\n",
    "    if storage.__contains__(test[i]):\n",
    "        for j in range(len(storage)):\n",
    "            temp = storage.pop(0)\n",
    "            \n",
    "            if temp == test[i]:\n",
    "                storage.append(test[i])\n",
    "                break\n",
    "        if len(storage)>out_len:\n",
    "            out_len = len(storage)\n",
    "    else:\n",
    "        storage.append(test[i])\n",
    "        if len(storage)>out_len:\n",
    "            out_len = len(storage)\n",
    "\n",
    "out_len"
   ]
  },
  {
   "cell_type": "markdown",
   "metadata": {},
   "source": [
    "## Solution2\n",
    "- slide windows"
   ]
  },
  {
   "cell_type": "code",
   "execution_count": 204,
   "metadata": {},
   "outputs": [
    {
     "name": "stdout",
     "output_type": "stream",
     "text": [
      "1\n"
     ]
    }
   ],
   "source": [
    "s = ' '\n",
    "m = {}\n",
    "start = 0\n",
    "out = 0\n",
    "\n",
    "for end in range(len(s)):\n",
    "    while(len(s[start:end+1])>len(set(s[start:end+1]))):\n",
    "        start+=1\n",
    "        \n",
    "    m[s[end]] = end\n",
    "    out = max(out, end-start+1)\n",
    "    \n",
    "    \n",
    "    \n",
    "print(out)"
   ]
  }
 ],
 "metadata": {
  "kernelspec": {
   "display_name": "Python 3",
   "language": "python",
   "name": "python3"
  },
  "language_info": {
   "codemirror_mode": {
    "name": "ipython",
    "version": 3
   },
   "file_extension": ".py",
   "mimetype": "text/x-python",
   "name": "python",
   "nbconvert_exporter": "python",
   "pygments_lexer": "ipython3",
   "version": "3.7.4"
  }
 },
 "nbformat": 4,
 "nbformat_minor": 2
}
