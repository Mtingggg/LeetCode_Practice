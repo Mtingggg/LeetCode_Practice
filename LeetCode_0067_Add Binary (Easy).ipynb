{
 "cells": [
  {
   "cell_type": "markdown",
   "metadata": {},
   "source": [
    "### Problem Discription\n",
    "\n",
    "Given two binary strings a and b, return their sum as a binary string.\n",
    "\n",
    ">Example 1:  \n",
    "Input: a = \"11\", b = \"1\"  \n",
    "Output: \"100\"  \n",
    "\n",
    ">Example 2:  \n",
    "Input: a = \"1010\", b = \"1011\"  \n",
    "Output: \"10101\"  "
   ]
  },
  {
   "cell_type": "markdown",
   "metadata": {},
   "source": [
    "### Solution\n",
    "Unify the length of two array at first makes us more easy to solve this problem, we don't have to write a lots of *if* to deal with all the cases. Also, I use add to store if there is number need to be add in next digit."
   ]
  },
  {
   "cell_type": "code",
   "execution_count": 1,
   "metadata": {},
   "outputs": [],
   "source": [
    "class Solution:\n",
    "    def addBinary(self, a: str, b: str) -> str:\n",
    "        gap = abs(len(a)-len(b))\n",
    "        if gap:\n",
    "            if len(a)>len(b):\n",
    "                b = '0'*gap+b\n",
    "            else:\n",
    "                a = '0'*gap+a\n",
    "        add = 0\n",
    "        res = ''\n",
    "        for i in range(len(a))[::-1]:\n",
    "            cur = int(a[i])+int(b[i])\n",
    "            if add:\n",
    "                cur+=1\n",
    "                add=0\n",
    "            if cur==2:\n",
    "                res = '0'+res\n",
    "                add=1\n",
    "            elif cur==3:\n",
    "                res = '1'+res\n",
    "                add=1\n",
    "            else:\n",
    "                res = str(cur)+res\n",
    "        if add==1:\n",
    "            res = '1'+res\n",
    "            \n",
    "        return res"
   ]
  },
  {
   "cell_type": "code",
   "execution_count": 2,
   "metadata": {},
   "outputs": [
    {
     "data": {
      "text/plain": [
       "'100'"
      ]
     },
     "execution_count": 2,
     "metadata": {},
     "output_type": "execute_result"
    }
   ],
   "source": [
    "a = \"11\"\n",
    "b = \"1\"\n",
    "\n",
    "sol = Solution()\n",
    "sol.addBinary(a, b)"
   ]
  }
 ],
 "metadata": {
  "kernelspec": {
   "display_name": "Python 3",
   "language": "python",
   "name": "python3"
  },
  "language_info": {
   "codemirror_mode": {
    "name": "ipython",
    "version": 3
   },
   "file_extension": ".py",
   "mimetype": "text/x-python",
   "name": "python",
   "nbconvert_exporter": "python",
   "pygments_lexer": "ipython3",
   "version": "3.7.4"
  },
  "toc": {
   "base_numbering": 1,
   "nav_menu": {},
   "number_sections": true,
   "sideBar": true,
   "skip_h1_title": false,
   "title_cell": "Table of Contents",
   "title_sidebar": "Contents",
   "toc_cell": false,
   "toc_position": {},
   "toc_section_display": true,
   "toc_window_display": false
  }
 },
 "nbformat": 4,
 "nbformat_minor": 2
}
