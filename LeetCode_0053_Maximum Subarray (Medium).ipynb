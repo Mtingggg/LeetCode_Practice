{
 "cells": [
  {
   "cell_type": "markdown",
   "metadata": {},
   "source": [
    "### Problem Discription\n",
    "Given an integer array nums, find the contiguous subarray (containing at least one number) which has the largest sum and return its sum.  \n",
    "\n",
    "A subarray is a contiguous part of an array.  "
   ]
  },
  {
   "cell_type": "markdown",
   "metadata": {},
   "source": [
    ">Example 1:  \n",
    "Input: nums = [-2,1,-3,4,-1,2,1,-5,4]  \n",
    "Output: 6  \n",
    "Explanation: [4,-1,2,1] has the largest sum = 6.  \n",
    "\n",
    ">Example 2:   \n",
    "Input: nums = [1]  \n",
    "Output: 1  \n",
    "\n",
    ">Example 3:  \n",
    "Input: nums = [5,4,-1,7,8]  \n",
    "Output: 23  "
   ]
  },
  {
   "cell_type": "markdown",
   "metadata": {},
   "source": [
    "### Solution\n",
    "This is a very simple question that we can solve it by dp. \n",
    "In dp array, we store the maximum sum of subarray we can in each index, and answer will be the maximum value in the dp array."
   ]
  },
  {
   "cell_type": "code",
   "execution_count": 8,
   "metadata": {},
   "outputs": [],
   "source": [
    "class Solution:\n",
    "    def maxSubArray(self, nums: 'List[int]') -> 'int':\n",
    "        dp = [float('-inf')]*len(nums)\n",
    "        dp[0] = nums[0]\n",
    "\n",
    "        for i in range(1, len(nums)):\n",
    "            dp[i] = max(nums[i], nums[i]+dp[i-1])\n",
    "        \n",
    "        return max(dp)"
   ]
  },
  {
   "cell_type": "code",
   "execution_count": 9,
   "metadata": {},
   "outputs": [
    {
     "data": {
      "text/plain": [
       "6"
      ]
     },
     "execution_count": 9,
     "metadata": {},
     "output_type": "execute_result"
    }
   ],
   "source": [
    "nums = [-2,1,-3,4,-1,2,1,-5,4]\n",
    "\n",
    "sol = Solution()\n",
    "sol.maxSubArray(nums)"
   ]
  }
 ],
 "metadata": {
  "kernelspec": {
   "display_name": "Python 3",
   "language": "python",
   "name": "python3"
  },
  "language_info": {
   "codemirror_mode": {
    "name": "ipython",
    "version": 3
   },
   "file_extension": ".py",
   "mimetype": "text/x-python",
   "name": "python",
   "nbconvert_exporter": "python",
   "pygments_lexer": "ipython3",
   "version": "3.7.4"
  },
  "toc": {
   "base_numbering": 1,
   "nav_menu": {},
   "number_sections": true,
   "sideBar": true,
   "skip_h1_title": false,
   "title_cell": "Table of Contents",
   "title_sidebar": "Contents",
   "toc_cell": false,
   "toc_position": {},
   "toc_section_display": true,
   "toc_window_display": false
  }
 },
 "nbformat": 4,
 "nbformat_minor": 2
}
