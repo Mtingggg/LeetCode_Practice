{
 "cells": [
  {
   "cell_type": "markdown",
   "metadata": {},
   "source": [
    "### Problem\n",
    "Given an array of non-negative integers arr, you are initially positioned at start index of the array. When you are at index i, you can jump to i + arr[i] or i - arr[i], check if you can reach to any index with value 0.  \n",
    "  \n",
    "Notice that you can not jump outside of the array at any time.  \n",
    "  \n",
    "   \n",
    "  \n",
    "> Example 1:  \n",
    "> Input: arr = [4,2,3,0,3,1,2],  \n",
    "> start = 5  \n",
    "> Output: true  \n",
    "> \n",
    "> Explanation:   \n",
    "> All possible ways to reach at index 3 with value 0 are:   \n",
    "> index 5 -> index 4 -> index 1 -> index 3   \n",
    "> index 5 -> index 6 -> index 4 -> index 1 -> index 3   "
   ]
  },
  {
   "cell_type": "markdown",
   "metadata": {},
   "source": [
    "### Solution\n",
    "We can use BFS to walk through every possible path, it's important to set a stopping condition in BFS, so we use a list visit to record the indexs we have already visited, if the next index we want to walk have already visited, we won't walk to that index. If we have walk to zero in the process, we will change ans to True, and we get the answer."
   ]
  },
  {
   "cell_type": "code",
   "execution_count": 3,
   "metadata": {},
   "outputs": [],
   "source": [
    "class Solution:\n",
    "    ans = False\n",
    "    def canReach(self, arr:' List[int]', start:'int') -> bool:\n",
    "        self.find_zero(arr, start, [False]*len(arr))\n",
    "        return self.ans\n",
    "    \n",
    "    def find_zero(self, arr, i, visit):\n",
    "        if (i-arr[i])>=0:\n",
    "            if arr[i-arr[i]]==0:\n",
    "                self.ans = True\n",
    "                return\n",
    "            if visit[i-arr[i]]!=True:\n",
    "                visit[i-arr[i]]=True\n",
    "                self.find_zero(arr, i-arr[i], visit)\n",
    "\n",
    "        if (i+arr[i])<=(len(arr)-1):\n",
    "            if arr[i+arr[i]]==0:\n",
    "                self.ans = True\n",
    "                return\n",
    "            if visit[i+arr[i]]!=True:        \n",
    "                visit[i+arr[i]]=True\n",
    "                self.find_zero(arr, i+arr[i], visit)"
   ]
  },
  {
   "cell_type": "code",
   "execution_count": 4,
   "metadata": {},
   "outputs": [
    {
     "data": {
      "text/plain": [
       "True"
      ]
     },
     "execution_count": 4,
     "metadata": {},
     "output_type": "execute_result"
    }
   ],
   "source": [
    "arr = [4,2,3,0,3,1,2]\n",
    "start = 5\n",
    "\n",
    "sol = Solution()\n",
    "sol.canReach(arr, start)"
   ]
  },
  {
   "cell_type": "code",
   "execution_count": null,
   "metadata": {},
   "outputs": [],
   "source": []
  }
 ],
 "metadata": {
  "kernelspec": {
   "display_name": "Python 3",
   "language": "python",
   "name": "python3"
  },
  "language_info": {
   "codemirror_mode": {
    "name": "ipython",
    "version": 3
   },
   "file_extension": ".py",
   "mimetype": "text/x-python",
   "name": "python",
   "nbconvert_exporter": "python",
   "pygments_lexer": "ipython3",
   "version": "3.7.4"
  },
  "toc": {
   "base_numbering": 1,
   "nav_menu": {},
   "number_sections": true,
   "sideBar": true,
   "skip_h1_title": false,
   "title_cell": "Table of Contents",
   "title_sidebar": "Contents",
   "toc_cell": false,
   "toc_position": {},
   "toc_section_display": true,
   "toc_window_display": false
  }
 },
 "nbformat": 4,
 "nbformat_minor": 2
}
