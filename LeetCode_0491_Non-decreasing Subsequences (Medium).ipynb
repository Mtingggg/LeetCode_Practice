{
 "cells": [
  {
   "cell_type": "markdown",
   "id": "59dffc32",
   "metadata": {},
   "source": [
    "### Problem Discription\n",
    "Given an integer array nums, return all the different possible non-decreasing subsequences of the given array with at least two elements. You may return the answer in any order.\n",
    "\n",
    " \n",
    "\n",
    ">Example 1:  \n",
    "Input: nums = [4,6,7,7]  \n",
    "Output: [[4,6],[4,6,7],[4,6,7,7],[4,7],[4,7,7],[6,7],[6,7,7],[7,7]]  \n",
    "\n",
    ">Example 2:  \n",
    "Input: nums = [4,4,3,2,1]  \n",
    "Output: [[4,4]]  \n",
    " "
   ]
  },
  {
   "cell_type": "markdown",
   "id": "b9c4da22",
   "metadata": {},
   "source": [
    "### Solution\n",
    "We can use backtracking to find all the combinations, but we only store combinations into result when the numbers are in ascending order.  \n",
    "We use a cur list to store the current combination with ascending order, and only add number in cur if the number is greater than the last number in the cur list, everytime when we add number to cur list, we will add this current combination into res list.  \n",
    "But be noticed we might find the same combination that already in res list, but the problem only needs non repeat combinations, so we create a set called bin_set to help us find if this combination have already appeared. Because we can't store list in set, a good way is to transform list of number to binary and store it in set."
   ]
  },
  {
   "cell_type": "code",
   "execution_count": 1,
   "id": "3ac95706",
   "metadata": {},
   "outputs": [],
   "source": [
    "class Solution:\n",
    "    def findSubsequences(self, nums: 'List[int]') -> 'List[List[int]]':\n",
    "        bin_set = set()\n",
    "        res = []\n",
    "        def combination(nums, i, cur):\n",
    "            for j in range(i+1, len(nums)):\n",
    "                if not cur or nums[j]>=cur[-1]:\n",
    "                    if len(cur)>=1 and ''.join([bin(num) for num in cur+[nums[j]]]) not in bin_set:\n",
    "                        bin_set.add(''.join([bin(num) for num in cur+[nums[j]]]))\n",
    "                        res.append(cur+[nums[j]])\n",
    "                    combination(nums, j, cur+[nums[j]])\n",
    "                else:\n",
    "                    combination(nums, j, cur)\n",
    "\n",
    "        combination(nums, -1, [])\n",
    "        \n",
    "        return res"
   ]
  },
  {
   "cell_type": "code",
   "execution_count": 2,
   "id": "e4047835",
   "metadata": {},
   "outputs": [
    {
     "data": {
      "text/plain": [
       "[[4, 6], [4, 6, 7], [4, 6, 7, 7], [4, 7], [4, 7, 7], [6, 7], [6, 7, 7], [7, 7]]"
      ]
     },
     "execution_count": 2,
     "metadata": {},
     "output_type": "execute_result"
    }
   ],
   "source": [
    "sol = Solution()\n",
    "\n",
    "nums = [4,6,7,7]\n",
    "sol.findSubsequences(nums)"
   ]
  }
 ],
 "metadata": {
  "kernelspec": {
   "display_name": "Python 3 (ipykernel)",
   "language": "python",
   "name": "python3"
  },
  "language_info": {
   "codemirror_mode": {
    "name": "ipython",
    "version": 3
   },
   "file_extension": ".py",
   "mimetype": "text/x-python",
   "name": "python",
   "nbconvert_exporter": "python",
   "pygments_lexer": "ipython3",
   "version": "3.9.7"
  }
 },
 "nbformat": 4,
 "nbformat_minor": 5
}
