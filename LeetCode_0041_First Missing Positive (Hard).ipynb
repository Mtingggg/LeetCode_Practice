{
 "cells": [
  {
   "cell_type": "code",
   "execution_count": 130,
   "metadata": {},
   "outputs": [],
   "source": [
    "# Key:將數字交換到與idx相同的位子\n",
    "\n",
    "def firstMissingPositive(num):\n",
    "    if num==[]:\n",
    "        return 1\n",
    "    else:\n",
    "        # cyclic sort -> O(n)\n",
    "        for i in range(len(num)):\n",
    "            while num[i]>0 and num[i]<=len(num) and (num[i] != num[num[i]- 1]):\n",
    "                num[num[i]-1], num[i] = num[i], num[num[i]-1]\n",
    "\n",
    "        for idx,num in enumerate(num):\n",
    "            if idx+1!=num:\n",
    "                return idx+1\n",
    "\n",
    "        return num+1"
   ]
  },
  {
   "cell_type": "code",
   "execution_count": 134,
   "metadata": {},
   "outputs": [
    {
     "data": {
      "text/plain": [
       "2"
      ]
     },
     "execution_count": 134,
     "metadata": {},
     "output_type": "execute_result"
    }
   ],
   "source": [
    "l = [3,4,-1,1]\n",
    "firstMissingPositive(l)"
   ]
  }
 ],
 "metadata": {
  "kernelspec": {
   "display_name": "Python 3",
   "language": "python",
   "name": "python3"
  },
  "language_info": {
   "codemirror_mode": {
    "name": "ipython",
    "version": 3
   },
   "file_extension": ".py",
   "mimetype": "text/x-python",
   "name": "python",
   "nbconvert_exporter": "python",
   "pygments_lexer": "ipython3",
   "version": "3.7.4"
  }
 },
 "nbformat": 4,
 "nbformat_minor": 2
}
