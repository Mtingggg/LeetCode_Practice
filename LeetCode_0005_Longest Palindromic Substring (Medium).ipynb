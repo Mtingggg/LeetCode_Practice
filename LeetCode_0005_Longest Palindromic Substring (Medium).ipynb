{
 "cells": [
  {
   "cell_type": "markdown",
   "metadata": {},
   "source": [
    "## 1.暴力解"
   ]
  },
  {
   "cell_type": "code",
   "execution_count": 23,
   "metadata": {},
   "outputs": [],
   "source": [
    "def check_reverse(s):\n",
    "    if s==s[::-1]:\n",
    "        return True\n",
    "    else:\n",
    "        return False"
   ]
  },
  {
   "cell_type": "code",
   "execution_count": 104,
   "metadata": {},
   "outputs": [
    {
     "data": {
      "text/plain": [
       "'aba'"
      ]
     },
     "execution_count": 104,
     "metadata": {},
     "output_type": "execute_result"
    }
   ],
   "source": [
    "s = 'aba'\n",
    "\n",
    "ans = \"\"\n",
    "temp_s = \"\"\n",
    "\n",
    "for i in range(len(s)):\n",
    "    \n",
    "    for j in range(i, i+len(s[i:])+1):\n",
    "\n",
    "        if check_reverse(s[i:j]):\n",
    "            temp_s = s[i:j]\n",
    "            \n",
    "    if len(ans)<len(temp_s):\n",
    "        ans = temp_s\n",
    "\n",
    "ans"
   ]
  },
  {
   "cell_type": "markdown",
   "metadata": {},
   "source": [
    "## 2.從中心往外查"
   ]
  },
  {
   "cell_type": "code",
   "execution_count": 290,
   "metadata": {},
   "outputs": [
    {
     "data": {
      "text/plain": [
       "'uygyu'"
      ]
     },
     "execution_count": 290,
     "metadata": {},
     "output_type": "execute_result"
    }
   ],
   "source": [
    "s = 'uygyug'  #   a#b#b\n",
    "\n",
    "temp_l = 0\n",
    "start = 0\n",
    "end = 0\n",
    "\n",
    "temp_s=\"\"\n",
    "for i in range(len(s)):\n",
    "    temp_s+=s[i]+\"#\"\n",
    "    \n",
    "s=temp_s[:-1]    \n",
    "    \n",
    "for i in range(len(s)):\n",
    "    j = 1\n",
    "    while(i-j)>=0:\n",
    "        if len(s[i-j:i])!=len(s[i+1:i+j+1]):\n",
    "            break\n",
    "        if s[i-j:i][::-1]==s[i+1:i+j+1]:\n",
    "            if len(s[i-j:i])>temp_l:\n",
    "                start = i-j\n",
    "                end = i+j+1\n",
    "                temp_l = len(s[i-j:i])\n",
    "\n",
    "        j += 1        \n",
    "    \n",
    "if (s[-3:]==s[-3:][::-1])&(temp_l<2):\n",
    "    start = len(s)-3\n",
    "    end = len(s)+1\n",
    "\n",
    "if (end==0):\n",
    "    end=1\n",
    "        \n",
    "s[start:end].replace('#',\"\")\n"
   ]
  },
  {
   "cell_type": "markdown",
   "metadata": {},
   "source": [
    "## 3.動態規劃"
   ]
  },
  {
   "cell_type": "code",
   "execution_count": 74,
   "metadata": {},
   "outputs": [
    {
     "data": {
      "text/plain": [
       "'jjjjj'"
      ]
     },
     "execution_count": 74,
     "metadata": {},
     "output_type": "execute_result"
    }
   ],
   "source": [
    "s = 'asdjkvkjjjjjs;d'\n",
    "\n",
    "\"\"\"\n",
    "    dp[i, j] 表示s[i, j]是否為Palindrome, 所以往回查更小的範圍s[i+1, j-1]是否為Palindrome以及s[i]及s[j]是否相等!\n",
    " -> dp[1, 5] = dp[2, 4] & (s[1]==s[5])   \n",
    " -> dp[i, j] = dp[i+1, j-1] & (s[i]==s[j])\n",
    " \n",
    "\"\"\"\n",
    "\n",
    "start = 0\n",
    "end  = 0\n",
    "dp = [[False] * len(s) for i in range(len(s))]\n",
    "\n",
    "for i in range(len(s)):\n",
    "    dp[i][i] = True\n",
    "    start = 0\n",
    "    end = 1\n",
    "    \n",
    "for i in range(len(s)-1):\n",
    "    dp[i][i+1] = (s[i] == s[i+1])\n",
    "    if dp[i][i+1]:\n",
    "        start = i\n",
    "        end = i+2\n",
    "    \n",
    "if len(s) >= 3:\n",
    "    for l in range(3,len(s)+1):\n",
    "        \n",
    "        for i in range(len(s)-l+1):\n",
    "\n",
    "            if dp[i+1][i+l-2] & (s[i]==s[i+l-1]):\n",
    "                dp[i][i+l-1] = True\n",
    "                start = i\n",
    "                end = i+l\n",
    "                \n",
    "s[start:end]"
   ]
  }
 ],
 "metadata": {
  "kernelspec": {
   "display_name": "Python 3",
   "language": "python",
   "name": "python3"
  },
  "language_info": {
   "codemirror_mode": {
    "name": "ipython",
    "version": 3
   },
   "file_extension": ".py",
   "mimetype": "text/x-python",
   "name": "python",
   "nbconvert_exporter": "python",
   "pygments_lexer": "ipython3",
   "version": "3.7.4"
  }
 },
 "nbformat": 4,
 "nbformat_minor": 2
}
