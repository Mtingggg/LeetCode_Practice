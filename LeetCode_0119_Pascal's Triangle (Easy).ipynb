{
 "cells": [
  {
   "cell_type": "markdown",
   "metadata": {},
   "source": [
    "### Problem Discription\n",
    "Given an integer rowIndex, return the rowIndexth (0-indexed) row of the Pascal's triangle.\n",
    "\n",
    "In Pascal's triangle, each number is the sum of the two numbers directly above it as shown:\n",
    "\n",
    "\n",
    "\n",
    ">Example 1:  \n",
    "Input: rowIndex = 3  \n",
    "Output: [1,3,3,1]  \n",
    "\n",
    ">Example 2:  \n",
    "Input: rowIndex = 0  \n",
    "Output: [1]  \n",
    "\n",
    ">Example 3:  \n",
    "Input: rowIndex = 1  \n",
    "Output: [1,1]  \n",
    " "
   ]
  },
  {
   "cell_type": "markdown",
   "metadata": {},
   "source": [
    "### Solution\n",
    "Same concept as problem 0118, the different is we only need to return last row, so we only need two list for calculation."
   ]
  },
  {
   "cell_type": "code",
   "execution_count": 40,
   "metadata": {
    "scrolled": true
   },
   "outputs": [],
   "source": [
    "class Solution:\n",
    "    def getRow(self, rowIndex: 'int') -> 'List[int]':\n",
    "        last = [1]\n",
    "        cur = [1]\n",
    "        for i in range(1, rowIndex+1):\n",
    "            cur = last+[1]\n",
    "            for i in range(1, len(cur)-1):\n",
    "                cur[i] = last[i-1]+last[i]\n",
    "            last = cur\n",
    "            \n",
    "        return cur"
   ]
  },
  {
   "cell_type": "code",
   "execution_count": 41,
   "metadata": {},
   "outputs": [
    {
     "data": {
      "text/plain": [
       "[1, 5, 10, 10, 5, 1]"
      ]
     },
     "execution_count": 41,
     "metadata": {},
     "output_type": "execute_result"
    }
   ],
   "source": [
    "sol = Solution()\n",
    "\n",
    "rowIndex = 5\n",
    "sol.getRow(rowIndex)"
   ]
  }
 ],
 "metadata": {
  "kernelspec": {
   "display_name": "Python 3",
   "language": "python",
   "name": "python3"
  },
  "language_info": {
   "codemirror_mode": {
    "name": "ipython",
    "version": 3
   },
   "file_extension": ".py",
   "mimetype": "text/x-python",
   "name": "python",
   "nbconvert_exporter": "python",
   "pygments_lexer": "ipython3",
   "version": "3.7.4"
  },
  "toc": {
   "base_numbering": 1,
   "nav_menu": {},
   "number_sections": true,
   "sideBar": true,
   "skip_h1_title": false,
   "title_cell": "Table of Contents",
   "title_sidebar": "Contents",
   "toc_cell": false,
   "toc_position": {},
   "toc_section_display": true,
   "toc_window_display": false
  }
 },
 "nbformat": 4,
 "nbformat_minor": 2
}
