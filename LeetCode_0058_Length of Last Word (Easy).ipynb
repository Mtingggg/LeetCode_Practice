{
 "cells": [
  {
   "cell_type": "markdown",
   "metadata": {},
   "source": [
    "### Problem Discription\n",
    "\n",
    "Given a string s consisting of words and spaces, return the length of the last word in the string.  \n",
    "\n",
    "A word is a maximal substring consisting of non-space characters only.  \n",
    "\n",
    " \n",
    "\n",
    ">Example 1:  \n",
    "Input: s = \"Hello World\"  \n",
    "Output: 5  \n",
    "Explanation: The last word is \"World\" with length 5.  \n",
    "\n",
    ">Example 2:  \n",
    "Input: s = \"   fly me   to   the moon  \"  \n",
    "Output: 4  \n",
    "Explanation: The last word is \"moon\" with length 4.  \n",
    "\n",
    ">Example 3:  \n",
    "Input: s = \"luffy is still joyboy\"  \n",
    "Output: 6   \n",
    "Explanation: The last word is \"joyboy\" with length 6.  \n",
    " "
   ]
  },
  {
   "cell_type": "markdown",
   "metadata": {},
   "source": [
    "### Solution\n",
    "First use a while with j to record the index that there's no space in last word, and use another while with index i to record the length of last word."
   ]
  },
  {
   "cell_type": "code",
   "execution_count": 1,
   "metadata": {},
   "outputs": [],
   "source": [
    "class Solution:\n",
    "    def lengthOfLastWord(self, s: str) -> int:\n",
    "        s = \" \"+s\n",
    "        j = len(s)\n",
    "        while len(s)>1 and s[(j-1)]==\" \":\n",
    "            j-=1\n",
    "        s = s[:j]\n",
    "        i = 1\n",
    "        while len(s)>1 and s[-(i+1)]!=\" \":\n",
    "            i+=1\n",
    "        \n",
    "        return i"
   ]
  },
  {
   "cell_type": "code",
   "execution_count": 2,
   "metadata": {},
   "outputs": [
    {
     "data": {
      "text/plain": [
       "4"
      ]
     },
     "execution_count": 2,
     "metadata": {},
     "output_type": "execute_result"
    }
   ],
   "source": [
    "s = \" fly me to the moon \"\n",
    "\n",
    "sol = Solution()\n",
    "sol.lengthOfLastWord(s)"
   ]
  }
 ],
 "metadata": {
  "kernelspec": {
   "display_name": "Python 3",
   "language": "python",
   "name": "python3"
  },
  "language_info": {
   "codemirror_mode": {
    "name": "ipython",
    "version": 3
   },
   "file_extension": ".py",
   "mimetype": "text/x-python",
   "name": "python",
   "nbconvert_exporter": "python",
   "pygments_lexer": "ipython3",
   "version": "3.7.4"
  },
  "toc": {
   "base_numbering": 1,
   "nav_menu": {},
   "number_sections": true,
   "sideBar": true,
   "skip_h1_title": false,
   "title_cell": "Table of Contents",
   "title_sidebar": "Contents",
   "toc_cell": false,
   "toc_position": {},
   "toc_section_display": true,
   "toc_window_display": false
  }
 },
 "nbformat": 4,
 "nbformat_minor": 2
}
