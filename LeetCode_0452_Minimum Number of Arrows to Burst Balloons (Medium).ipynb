{
 "cells": [
  {
   "cell_type": "markdown",
   "metadata": {},
   "source": [
    "### Problem Description\n",
    "There are some spherical balloons taped onto a flat wall that represents the XY-plane. The balloons are represented as a 2D integer array points where points[i] = [xstart, xend] denotes a balloon whose horizontal diameter stretches between xstart and xend. You do not know the exact y-coordinates of the balloons.\n",
    "\n",
    "Arrows can be shot up directly vertically (in the positive y-direction) from different points along the x-axis. A balloon with xstart and xend is burst by an arrow shot at x if xstart <= x <= xend. There is no limit to the number of arrows that can be shot. A shot arrow keeps traveling up infinitely, bursting any balloons in its path.\n",
    "\n",
    "Given the array points, return the minimum number of arrows that must be shot to burst all balloons.\n",
    "\n",
    " \n",
    "\n",
    ">Example 1:  \n",
    "Input: points = [[10,16],[2,8],[1,6],[7,12]]  \n",
    "Output: 2  \n",
    "Explanation: The balloons can be burst by 2 arrows:  \n",
    "- Shoot an arrow at x = 6, bursting the balloons [2,8] and [1,6].  \n",
    "- Shoot an arrow at x = 11, bursting the balloons [10,16] and [7,12].  \n",
    "\n",
    ">Example 2:  \n",
    "Input: points = [[1,2],[3,4],[5,6],[7,8]]  \n",
    "Output: 4  \n",
    "Explanation: One arrow needs to be shot for each balloon for a total of 4 arrows.  \n",
    "\n",
    ">Example 3:  \n",
    "Input: points = [[1,2],[2,3],[3,4],[4,5]]  \n",
    "Output: 2  \n",
    "Explanation: The balloons can be burst by 2 arrows:  \n",
    "- Shoot an arrow at x = 2, bursting the balloons [1,2] and [2,3].  \n",
    "- Shoot an arrow at x = 4, bursting the balloons [3,4] and [4,5].  \n",
    " "
   ]
  },
  {
   "cell_type": "markdown",
   "metadata": {},
   "source": [
    "### Solution\n",
    "First sort elements in points with there first number, by doing this, we only need to care about the second number in each element, because we can guarantee the first number in next element will not be smaller than the first number in current element.  \n",
    "  \n",
    "We start from the first element and compare each element one by one, than we store the overlapping interval in cur(it means current overlapping interval), if there's no overlapping interval, it means we need one more arrows to burst all the balloons(res+1) and change cur interval to that element, keep doing this until we compare all the element."
   ]
  },
  {
   "cell_type": "code",
   "execution_count": 1,
   "metadata": {},
   "outputs": [],
   "source": [
    "class Solution:\n",
    "    def findMinArrowShots(self, points: 'List[List[int]]') -> 'int':\n",
    "        points.sort(key=lambda p: p[0])\n",
    "        res = 1\n",
    "        cur = points[0]\n",
    "        for i in range(1, len(points)):\n",
    "            if points[i][0]<=cur[1]<=points[i][1]:\n",
    "                cur[0] = points[i][0]\n",
    "            elif cur[0]<=points[i][1]<=cur[1]:\n",
    "                cur[1] = points[i][1]    \n",
    "            else:\n",
    "                res+=1\n",
    "                cur = points[i]\n",
    "        return res"
   ]
  },
  {
   "cell_type": "code",
   "execution_count": 4,
   "metadata": {},
   "outputs": [
    {
     "data": {
      "text/plain": [
       "2"
      ]
     },
     "execution_count": 4,
     "metadata": {},
     "output_type": "execute_result"
    }
   ],
   "source": [
    "sol = Solution()\n",
    "points = [[10,16],[2,8],[1,6],[7,12]]\n",
    "sol.findMinArrowShots(points)"
   ]
  }
 ],
 "metadata": {
  "kernelspec": {
   "display_name": "Python 3",
   "language": "python",
   "name": "python3"
  },
  "language_info": {
   "codemirror_mode": {
    "name": "ipython",
    "version": 3
   },
   "file_extension": ".py",
   "mimetype": "text/x-python",
   "name": "python",
   "nbconvert_exporter": "python",
   "pygments_lexer": "ipython3",
   "version": "3.7.4"
  },
  "toc": {
   "base_numbering": 1,
   "nav_menu": {},
   "number_sections": true,
   "sideBar": true,
   "skip_h1_title": false,
   "title_cell": "Table of Contents",
   "title_sidebar": "Contents",
   "toc_cell": false,
   "toc_position": {},
   "toc_section_display": true,
   "toc_window_display": false
  }
 },
 "nbformat": 4,
 "nbformat_minor": 2
}
