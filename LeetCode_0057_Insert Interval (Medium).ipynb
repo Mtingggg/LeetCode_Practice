{
 "cells": [
  {
   "cell_type": "markdown",
   "metadata": {},
   "source": [
    "### Problem Discription\n",
    "\n",
    "You are given an array of non-overlapping intervals intervals where intervals[i] = [starti, endi] represent the start and the end of the ith interval and intervals is sorted in ascending order by starti. You are also given an interval newInterval = [start, end] that represents the start and end of another interval.  \n",
    "\n",
    "Insert newInterval into intervals such that intervals is still sorted in ascending order by starti and intervals still does not have any overlapping intervals (merge overlapping intervals if necessary).  \n",
    "\n",
    "Return intervals after the insertion.  \n",
    "\n",
    "\n",
    ">Example 1:  \n",
    "Input: intervals = [[1,3],[6,9]], newInterval = [2,5]    \n",
    "Output: [[1,5],[6,9]]  \n",
    "\n",
    ">Example 2:  \n",
    "Input: intervals = [[1,2],[3,5],[6,7],[8,10],[12,16]], newInterval = [4,8]  \n",
    "Output: [[1,2],[3,10],[12,16]]  \n",
    "Explanation: Because the new interval [4,8] overlaps with [3,5],[6,7],[8,10].  \n",
    " "
   ]
  },
  {
   "cell_type": "markdown",
   "metadata": {},
   "source": [
    "### Solutions\n",
    "The concept to solve this problem is same as exactly same as ***problem_0056***, since in problem 56 intervals are not sorted and in problem 57 intervals are sorted but left one out, so what we need is first insert newInterval to intervals array and we can use the same concept how we solve problem 56 to solve this problem."
   ]
  },
  {
   "cell_type": "code",
   "execution_count": 2,
   "metadata": {},
   "outputs": [],
   "source": [
    "class Solution:\n",
    "    def insert(self, intervals: 'List[List[int]]', newInterval:'List[int]') -> 'List[List[int]]': \n",
    "        intervals.append([float('inf'), float('inf')])\n",
    "        for i in range(len(intervals)):\n",
    "            if intervals[i][0]>newInterval[0]:\n",
    "                break\n",
    "        intervals.insert(i,newInterval)\n",
    "        ans = []\n",
    "        tmp = intervals[0]\n",
    "        for i in range(1, len(intervals)):\n",
    "            if tmp[1]>=intervals[i][0]:\n",
    "                tmp[1] = max(tmp[1], intervals[i][1])\n",
    "            else:\n",
    "                ans.append(tmp)\n",
    "                tmp = intervals[i]\n",
    "                \n",
    "        return ans"
   ]
  },
  {
   "cell_type": "code",
   "execution_count": 3,
   "metadata": {},
   "outputs": [
    {
     "data": {
      "text/plain": [
       "[[1, 5], [6, 9]]"
      ]
     },
     "execution_count": 3,
     "metadata": {},
     "output_type": "execute_result"
    }
   ],
   "source": [
    "intervals = [[1,3],[6,9]]\n",
    "newInterval = [2,5]\n",
    "\n",
    "sol = Solution()\n",
    "sol.insert(intervals, newInterval)"
   ]
  }
 ],
 "metadata": {
  "kernelspec": {
   "display_name": "Python 3",
   "language": "python",
   "name": "python3"
  },
  "language_info": {
   "codemirror_mode": {
    "name": "ipython",
    "version": 3
   },
   "file_extension": ".py",
   "mimetype": "text/x-python",
   "name": "python",
   "nbconvert_exporter": "python",
   "pygments_lexer": "ipython3",
   "version": "3.7.4"
  },
  "toc": {
   "base_numbering": 1,
   "nav_menu": {},
   "number_sections": true,
   "sideBar": true,
   "skip_h1_title": false,
   "title_cell": "Table of Contents",
   "title_sidebar": "Contents",
   "toc_cell": false,
   "toc_position": {},
   "toc_section_display": true,
   "toc_window_display": false
  }
 },
 "nbformat": 4,
 "nbformat_minor": 2
}
