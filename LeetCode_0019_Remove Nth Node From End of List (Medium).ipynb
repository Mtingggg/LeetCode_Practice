{
 "cells": [
  {
   "cell_type": "code",
   "execution_count": 124,
   "metadata": {},
   "outputs": [],
   "source": [
    "# Definition for singly-linked list.\n",
    "class ListNode:\n",
    "    def __init__(self, val=0, next=None):\n",
    "        self.val = val\n",
    "        self.next = next"
   ]
  },
  {
   "cell_type": "code",
   "execution_count": 133,
   "metadata": {},
   "outputs": [],
   "source": [
    "def creat_listnode(array):\n",
    "    for i in range(len(array)):\n",
    "        if i == 0:\n",
    "            ltemp = ListNode(array[i])\n",
    "            final_list = ltemp\n",
    "        elif i == 1:\n",
    "            ltemp.next = ListNode(array[i])\n",
    "        else:\n",
    "            ltemp = ltemp.next\n",
    "            ltemp.next = ListNode(array[i])\n",
    "    \n",
    "    return final_list"
   ]
  },
  {
   "cell_type": "markdown",
   "metadata": {},
   "source": [
    "## Solution1"
   ]
  },
  {
   "cell_type": "code",
   "execution_count": 151,
   "metadata": {},
   "outputs": [],
   "source": [
    "class Solution:\n",
    "    def removeNthFromEnd(self, head:'ListNode', n:'int') -> 'ListNode':\n",
    "        l = 1\n",
    "        ls_copy = head\n",
    "\n",
    "        while(head.next):\n",
    "            head = head.next\n",
    "            l+=1\n",
    "        \n",
    "        if l==1:\n",
    "            return ls_copy.next\n",
    "        \n",
    "        ans = ls_copy\n",
    "        \n",
    "        if(l-n-1)<0:\n",
    "            return ans.next\n",
    "        \n",
    "        for i in range(l-n-1):\n",
    "            ls_copy = ls_copy.next\n",
    "\n",
    "        temp = ls_copy\n",
    "        ls_copy.next = temp.next.next\n",
    "\n",
    "        return ans\n"
   ]
  },
  {
   "cell_type": "code",
   "execution_count": 152,
   "metadata": {},
   "outputs": [],
   "source": [
    "head = creat_listnode([2,3,4,5])"
   ]
  },
  {
   "cell_type": "code",
   "execution_count": 153,
   "metadata": {},
   "outputs": [],
   "source": [
    "sol = Solution()\n",
    "ans = sol.removeNthFromEnd(head,2)"
   ]
  },
  {
   "cell_type": "code",
   "execution_count": 154,
   "metadata": {},
   "outputs": [
    {
     "name": "stdout",
     "output_type": "stream",
     "text": [
      "2\n",
      "3\n",
      "5\n"
     ]
    }
   ],
   "source": [
    "while(ans.next):\n",
    "    print(ans.val)\n",
    "    ans = ans.next\n",
    "print(ans.val)"
   ]
  },
  {
   "cell_type": "markdown",
   "metadata": {},
   "source": [
    "## Solution2(較精簡的作法)"
   ]
  },
  {
   "cell_type": "code",
   "execution_count": 155,
   "metadata": {},
   "outputs": [],
   "source": [
    "head = creat_listnode([2,3,4,5])"
   ]
  },
  {
   "cell_type": "code",
   "execution_count": 156,
   "metadata": {},
   "outputs": [],
   "source": [
    "n = 2\n",
    "slow = fast = head\n",
    "\n",
    "for _ in range(n):\n",
    "    fast = fast.next\n",
    "\n",
    "while fast.next:\n",
    "    fast = fast.next\n",
    "    slow = slow.next\n",
    "\n",
    "slow.next = slow.next.next\n"
   ]
  },
  {
   "cell_type": "code",
   "execution_count": 157,
   "metadata": {},
   "outputs": [
    {
     "name": "stdout",
     "output_type": "stream",
     "text": [
      "2\n",
      "3\n",
      "5\n"
     ]
    }
   ],
   "source": [
    "ans = head\n",
    "\n",
    "while(ans.next):\n",
    "    print(ans.val)\n",
    "    ans = ans.next\n",
    "print(ans.val)"
   ]
  }
 ],
 "metadata": {
  "kernelspec": {
   "display_name": "Python 3",
   "language": "python",
   "name": "python3"
  },
  "language_info": {
   "codemirror_mode": {
    "name": "ipython",
    "version": 3
   },
   "file_extension": ".py",
   "mimetype": "text/x-python",
   "name": "python",
   "nbconvert_exporter": "python",
   "pygments_lexer": "ipython3",
   "version": "3.7.4"
  }
 },
 "nbformat": 4,
 "nbformat_minor": 2
}
