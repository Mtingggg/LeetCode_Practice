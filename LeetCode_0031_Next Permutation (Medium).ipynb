{
 "cells": [
  {
   "cell_type": "markdown",
   "metadata": {},
   "source": [
    "### Problem Discription\n",
    "\n",
    "The next permutation of an array of integers is the next lexicographically greater permutation of its integer. More formally, if all the permutations of the array are sorted in one container according to their lexicographical order, then the next permutation of that array is the permutation that follows it in the sorted container. If such arrangement is not possible, the array must be rearranged as the lowest possible order (i.e., sorted in ascending order).\n",
    "\n",
    "For example, the next permutation of arr = [1,2,3] is [1,3,2].\n",
    "Similarly, the next permutation of arr = [2,3,1] is [3,1,2].\n",
    "While the next permutation of arr = [3,2,1] is [1,2,3] because [3,2,1] does not have a lexicographical larger rearrangement.\n",
    "\n",
    "- Example 1:<br>\n",
    "Input: nums = [1,2,3]<br>\n",
    "Output: [1,3,2]<br>\n",
    "\n",
    "- Example 2:<br>\n",
    "Input: nums = [3,2,1]<br>\n",
    "Output: [1,2,3]<br>\n",
    "\n",
    "- Example 3:<br>\n",
    "Input: nums = [1,1,5]<br>\n",
    "Output: [1,5,1]<br>"
   ]
  },
  {
   "cell_type": "markdown",
   "metadata": {},
   "source": [
    "### Solution\n",
    "this might seems to be a difficult problem, but it wasn't that hard.<br>\n",
    "there are only two steps we have to do:\n",
    "1. go through the number from right to left, and stop when the current number(index) was less then the last number\n",
    "2. use the number we have found in step 1 to campare with all the number iin it's right side(compare from left to right), and store the difference between two numbers, we want to find the number with the smallest difference and than swap their values  \n",
    "\n",
    "Above are the basic idea to solve this problem, but is it done? NO, if there are multiple numbers larger than the current nums in the right side, we won't got the correct result  \n",
    "\n",
    "e.g. nums = [1,3,2]  \n",
    "\n",
    "step1. we go through numbers from right to left and will stop at 1  \n",
    "  \n",
    "step2. we swap 1 and 2 -> [2,3,1]  \n",
    "and we can find out that it wasn't the next greater permutation, but we can see that the series after the current idx(the index we have find in step1) is in a ascending order, so we just need to inverse the numbers after index 0  \n",
    "\n",
    "step3. inverse numbers after 2 -> [2,1,3] and we got the correct answer!\n"
   ]
  },
  {
   "cell_type": "code",
   "execution_count": 138,
   "metadata": {},
   "outputs": [],
   "source": [
    "class Solution:\n",
    "    def nextPermutation(self, nums) -> None:\n",
    "        \"\"\"\n",
    "        Do not return anything, modify nums in-place instead.\n",
    "        \"\"\"\n",
    "        last_num = float('-inf')\n",
    "        cur_diff = float('inf')\n",
    "        for cur_idx in list(range(len(nums)-1, -1, -1)):\n",
    "            cur_num = nums[cur_idx]\n",
    "            if last_num<cur_num:\n",
    "                last_num = cur_num\n",
    "                continue\n",
    "                \n",
    "            r = len(nums)-1\n",
    "            while cur_idx<r:\n",
    "                r_num = nums[r]\n",
    "                if r_num>cur_num:\n",
    "                    if r_num - cur_num < cur_diff:\n",
    "                        cur_diff = r_num - cur_num\n",
    "                        best_idx = r\n",
    "                        break\n",
    "                r-=1\n",
    "            if cur_diff!=float('inf'):\n",
    "                break\n",
    "                \n",
    "        if cur_diff==float('inf'):\n",
    "            nums.reverse() \n",
    "        else:\n",
    "            nums[cur_idx], nums[best_idx] = nums[best_idx], nums[cur_idx]\n",
    "            nums[(cur_idx+1):] = nums[(cur_idx+1):][::-1]"
   ]
  },
  {
   "cell_type": "code",
   "execution_count": 144,
   "metadata": {},
   "outputs": [
    {
     "data": {
      "text/plain": [
       "[2, 3, 3, 1, 3, 3]"
      ]
     },
     "execution_count": 144,
     "metadata": {},
     "output_type": "execute_result"
    }
   ],
   "source": [
    "sol = Solution()\n",
    "\n",
    "nums = [2,3,1,3,3,3]\n",
    "\n",
    "sol.nextPermutation(nums)\n",
    "\n",
    "nums"
   ]
  }
 ],
 "metadata": {
  "kernelspec": {
   "display_name": "Python 3",
   "language": "python",
   "name": "python3"
  },
  "language_info": {
   "codemirror_mode": {
    "name": "ipython",
    "version": 3
   },
   "file_extension": ".py",
   "mimetype": "text/x-python",
   "name": "python",
   "nbconvert_exporter": "python",
   "pygments_lexer": "ipython3",
   "version": "3.7.4"
  },
  "toc": {
   "base_numbering": 1,
   "nav_menu": {},
   "number_sections": true,
   "sideBar": true,
   "skip_h1_title": false,
   "title_cell": "Table of Contents",
   "title_sidebar": "Contents",
   "toc_cell": false,
   "toc_position": {},
   "toc_section_display": true,
   "toc_window_display": false
  }
 },
 "nbformat": 4,
 "nbformat_minor": 2
}
