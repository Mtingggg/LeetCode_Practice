{
 "cells": [
  {
   "cell_type": "markdown",
   "metadata": {},
   "source": [
    "### Problem\n",
    "Given an array of non-negative integers nums, you are initially positioned at the first index of the array.\n",
    "\n",
    "Each element in the array represents your maximum jump length at that position.\n",
    "\n",
    "Your goal is to reach the last index in the minimum number of jumps.\n",
    "\n",
    "You can assume that you can always reach the last index.\n",
    "\n",
    "> Example 1:  \n",
    "Input: nums = [2,3,1,1,4]  \n",
    "Output: 2  \n",
    "Explanation: The minimum number of jumps to reach the last index is 2. Jump 1 step from index 0 to 1, then 3 steps to the last index."
   ]
  },
  {
   "cell_type": "markdown",
   "metadata": {},
   "source": [
    "### Solution1 - Dynamic Programming\n",
    "\n",
    "Is quite straightforward to solve this problem by using Dynamic Programming, we will create a dp array, the length of this dp array will same as the nums array, and values in dp array means the minimum number of jumps to reach this index.  \n",
    "First, we create dp array with value 0, we first do a for loop in nums array get i and num, than we do another for loop between (i+1) and (i+1+num), this range means the area current index can reach, if we find values in dp[(i+1):(i+1+num)] is 0, it means this index hasn't been reached yet, so we set it value to dp[i]+1, it means we have to first reach i position than we can reach this position, so the total jumps to this position equals to the total jumps to dp[i]+1"
   ]
  },
  {
   "cell_type": "code",
   "execution_count": 6,
   "metadata": {},
   "outputs": [],
   "source": [
    "class Solution:\n",
    "    def jump(self, nums: 'List[int]') -> int:\n",
    "        dp = [0]*len(nums)\n",
    "\n",
    "        for i, num in enumerate(nums):\n",
    "            for idx in range(i+1, i+1+num):\n",
    "                if idx<len(nums) and dp[idx]==0:\n",
    "                    dp[idx] = dp[i]+1\n",
    "                    if idx==len(nums)-1:\n",
    "                        break\n",
    "        \n",
    "        return dp[-1]"
   ]
  },
  {
   "cell_type": "code",
   "execution_count": 8,
   "metadata": {},
   "outputs": [
    {
     "data": {
      "text/plain": [
       "2"
      ]
     },
     "execution_count": 8,
     "metadata": {},
     "output_type": "execute_result"
    }
   ],
   "source": [
    "nums = [2,3,1,1,4]\n",
    "\n",
    "sol = Solution()\n",
    "sol.jump(nums)"
   ]
  },
  {
   "cell_type": "code",
   "execution_count": null,
   "metadata": {},
   "outputs": [],
   "source": []
  },
  {
   "cell_type": "markdown",
   "metadata": {},
   "source": [
    "### Solution 2 - Greedy\n",
    "For this problem, how we think with greedy algorithm is to find the farthest point we can reach by using the numbers in current step, we use cur_end to store last maximum index we can reach, so if i=curend, it means we have to start a new step(so step have to +1) and keep doing the for loop until we reach last index."
   ]
  },
  {
   "cell_type": "code",
   "execution_count": 35,
   "metadata": {},
   "outputs": [],
   "source": [
    "class Solution:\n",
    "    def jump(self, nums: 'List[int]') -> int:\n",
    "        step = 0\n",
    "        cur_step_max = 0\n",
    "        cur_end = 0\n",
    "\n",
    "        for i in range(len(nums)-1):\n",
    "            cur_step_max = max(cur_step_max, nums[i]+i)\n",
    "            if cur_step_max>=(len(nums)-1):\n",
    "                step+=1\n",
    "                return step\n",
    "            \n",
    "            if i==cur_end:\n",
    "                step+=1\n",
    "                cur_end = cur_step_max\n",
    "                \n",
    "        return step"
   ]
  },
  {
   "cell_type": "code",
   "execution_count": 36,
   "metadata": {},
   "outputs": [
    {
     "data": {
      "text/plain": [
       "2"
      ]
     },
     "execution_count": 36,
     "metadata": {},
     "output_type": "execute_result"
    }
   ],
   "source": [
    "nums = [2,3,1,1,4]\n",
    "\n",
    "sol = Solution()\n",
    "sol.jump(nums)"
   ]
  },
  {
   "cell_type": "code",
   "execution_count": null,
   "metadata": {},
   "outputs": [],
   "source": []
  }
 ],
 "metadata": {
  "kernelspec": {
   "display_name": "Python 3",
   "language": "python",
   "name": "python3"
  },
  "language_info": {
   "codemirror_mode": {
    "name": "ipython",
    "version": 3
   },
   "file_extension": ".py",
   "mimetype": "text/x-python",
   "name": "python",
   "nbconvert_exporter": "python",
   "pygments_lexer": "ipython3",
   "version": "3.7.4"
  },
  "toc": {
   "base_numbering": 1,
   "nav_menu": {},
   "number_sections": true,
   "sideBar": true,
   "skip_h1_title": false,
   "title_cell": "Table of Contents",
   "title_sidebar": "Contents",
   "toc_cell": false,
   "toc_position": {},
   "toc_section_display": true,
   "toc_window_display": false
  }
 },
 "nbformat": 4,
 "nbformat_minor": 2
}
