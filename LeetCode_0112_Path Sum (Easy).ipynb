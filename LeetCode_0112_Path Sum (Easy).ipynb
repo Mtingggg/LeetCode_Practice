{
 "cells": [
  {
   "attachments": {},
   "cell_type": "markdown",
   "metadata": {},
   "source": [
    "### Problem Discription\n",
    "Given the root of a binary tree and an integer targetSum, return true if the tree has a root-to-leaf path such that adding up all the values along the path equals targetSum.  \n",
    "\n",
    "A leaf is a node with no children.  \n",
    "\n",
    "\n",
    ">Example 1:  \n",
    "Input: root = [5,4,8,11,null,13,4,7,2,null,null,null,1], targetSum = 22  \n",
    "Output: true  \n",
    "Explanation: The root-to-leaf path with the target sum is shown.  \n",
    "\n",
    ">Example 2:  \n",
    "Input: root = [1,2,3], targetSum = 5  \n",
    "Output: false  \n",
    "Explanation: There two root-to-leaf paths in the tree:  \n",
    "(1 --> 2): The sum is 3.  \n",
    "(1 --> 3): The sum is 4.  \n",
    "There is no root-to-leaf path with sum = 5.  \n",
    "\n",
    ">Example 3:  \n",
    "Input: root = [], targetSum = 0  \n",
    "Output: false  \n",
    "Explanation: Since the tree is empty, there are no root-to-leaf paths.  \n",
    " "
   ]
  },
  {
   "cell_type": "markdown",
   "metadata": {},
   "source": [
    "### Solution\n",
    "Use DFS can solve this problem, the only key for this problem is to do the condition(cur_sum+root.val==target) after all other conditions, because we need to add up all the values in tree path(need to walk through the tree pass) but not do the condition in the middle."
   ]
  },
  {
   "cell_type": "code",
   "execution_count": 1,
   "metadata": {},
   "outputs": [],
   "source": [
    "# Definition for a binary tree node.\n",
    "# class TreeNode:\n",
    "#     def __init__(self, val=0, left=None, right=None):\n",
    "#         self.val = val\n",
    "#         self.left = left\n",
    "#         self.right = right\n",
    "class Solution:\n",
    "    def hasPathSum(self, root: 'Optional[TreeNode]', targetSum: 'int') -> 'bool':\n",
    "        def find_sum(root, target, cur_sum):\n",
    "            if not root:\n",
    "                return False\n",
    "            if root.left or root.right:\n",
    "                return find_sum(root.left, target, cur_sum+root.val) or find_sum(root.right, target, cur_sum+root.val)\n",
    "            if cur_sum+root.val==target:\n",
    "                return True \n",
    "        \n",
    "        return find_sum(root, targetSum, 0)"
   ]
  }
 ],
 "metadata": {
  "kernelspec": {
   "display_name": "Python 3",
   "language": "python",
   "name": "python3"
  },
  "language_info": {
   "codemirror_mode": {
    "name": "ipython",
    "version": 3
   },
   "file_extension": ".py",
   "mimetype": "text/x-python",
   "name": "python",
   "nbconvert_exporter": "python",
   "pygments_lexer": "ipython3",
   "version": "3.7.4"
  },
  "toc": {
   "base_numbering": 1,
   "nav_menu": {},
   "number_sections": true,
   "sideBar": true,
   "skip_h1_title": false,
   "title_cell": "Table of Contents",
   "title_sidebar": "Contents",
   "toc_cell": false,
   "toc_position": {},
   "toc_section_display": true,
   "toc_window_display": false
  }
 },
 "nbformat": 4,
 "nbformat_minor": 2
}
