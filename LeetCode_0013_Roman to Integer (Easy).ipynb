{
 "cells": [
  {
   "cell_type": "code",
   "execution_count": 25,
   "metadata": {},
   "outputs": [
    {
     "data": {
      "text/plain": [
       "1994"
      ]
     },
     "execution_count": 25,
     "metadata": {},
     "output_type": "execute_result"
    }
   ],
   "source": [
    "num = 0\n",
    "i = 0\n",
    "s = \"MCMXCIV\"\n",
    "mapping = {'I':1, 'V':5, 'X':10, 'L':50, 'C':100, 'D':500, 'M':1000}\n",
    "\n",
    "while i<len(s):\n",
    "    if len(s)-i==1:\n",
    "        num += mapping[s[i]]\n",
    "        break\n",
    "        \n",
    "    elif (s[i]=='I')&(s[i+1]=='V'):\n",
    "        num += 4\n",
    "        i += 2\n",
    "    \n",
    "    elif (s[i]=='I')&(s[i+1]=='X'):\n",
    "        num += 9\n",
    "        i += 2\n",
    "\n",
    "    elif (s[i]=='X')&(s[i+1]=='L'):\n",
    "        num += 40\n",
    "        i += 2\n",
    "\n",
    "    elif (s[i]=='X')&(s[i+1]=='C'):\n",
    "        num += 90\n",
    "        i += 2\n",
    "        \n",
    "    elif (s[i]=='C')&(s[i+1]=='D'):\n",
    "        num += 400\n",
    "        i += 2\n",
    "        \n",
    "    elif (s[i]=='C')&(s[i+1]=='M'):\n",
    "        num += 900\n",
    "        i += 2\n",
    "        \n",
    "    else:\n",
    "        num += mapping[s[i]]\n",
    "        i += 1\n",
    "        \n",
    "num"
   ]
  }
 ],
 "metadata": {
  "kernelspec": {
   "display_name": "Python 3",
   "language": "python",
   "name": "python3"
  },
  "language_info": {
   "codemirror_mode": {
    "name": "ipython",
    "version": 3
   },
   "file_extension": ".py",
   "mimetype": "text/x-python",
   "name": "python",
   "nbconvert_exporter": "python",
   "pygments_lexer": "ipython3",
   "version": "3.7.4"
  }
 },
 "nbformat": 4,
 "nbformat_minor": 2
}
