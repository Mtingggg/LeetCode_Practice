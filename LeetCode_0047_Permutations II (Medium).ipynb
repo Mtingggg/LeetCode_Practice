{
 "cells": [
  {
   "cell_type": "markdown",
   "metadata": {},
   "source": [
    "### Problem Description\n",
    "Given a collection of numbers, nums, that might contain duplicates, return all possible unique permutations in any order.\n",
    "\n",
    ">Example 1:  \n",
    "Input: nums = [1,1,2]  \n",
    "Output:  \n",
    "[[1,1,2],\n",
    " [1,2,1],\n",
    " [2,1,1]]\n",
    " \n",
    ">Example 2:  \n",
    "Input: nums = [1,2,3]  \n",
    "Output: [[1,2,3],[1,3,2],[2,1,3],[2,3,1],[3,1,2],[3,2,1]]  \n",
    " "
   ]
  },
  {
   "cell_type": "markdown",
   "metadata": {},
   "source": [
    "### Solution\n",
    "We can use DFS to walk through all permutations in the array, but different to problem permutationI is that there will have repeat values in the array, so when we append new permutation to ans, we have to see if this permutation have already been in ans, that is this permutation have already created.  \n",
    "Others are the same done in PermutationI, in every walk, we check if this idx have already been visited, if True than we pass this idx and go to next idx, so we can walk through all the permutation in the given array."
   ]
  },
  {
   "cell_type": "code",
   "execution_count": 142,
   "metadata": {},
   "outputs": [],
   "source": [
    "class Solution:\n",
    "    def permuteUnique(self, nums: \"List[int]\") -> \"List[List[int]]\":\n",
    "        return self.sol(nums, [], [], [])\n",
    "        \n",
    "    def sol(self, l, ans, temp, visited):\n",
    "        for i in range(len(l)):\n",
    "            if i in visited:\n",
    "                continue\n",
    "            num = l[i]\n",
    "            if len(temp)+1==len(l) and temp+[num] not in ans:\n",
    "                ans.append(temp+[num])\n",
    "                return ans\n",
    "\n",
    "            self.sol(l, ans, temp+[num], visited+[i])\n",
    "\n",
    "        return ans"
   ]
  },
  {
   "cell_type": "code",
   "execution_count": 143,
   "metadata": {},
   "outputs": [
    {
     "data": {
      "text/plain": [
       "[[1, 1, 2], [1, 2, 1], [2, 1, 1]]"
      ]
     },
     "execution_count": 143,
     "metadata": {},
     "output_type": "execute_result"
    }
   ],
   "source": [
    "nums = [1,1,2]\n",
    "\n",
    "sol = Solution()\n",
    "sol.permuteUnique(nums)"
   ]
  }
 ],
 "metadata": {
  "kernelspec": {
   "display_name": "Python 3",
   "language": "python",
   "name": "python3"
  },
  "language_info": {
   "codemirror_mode": {
    "name": "ipython",
    "version": 3
   },
   "file_extension": ".py",
   "mimetype": "text/x-python",
   "name": "python",
   "nbconvert_exporter": "python",
   "pygments_lexer": "ipython3",
   "version": "3.7.4"
  },
  "toc": {
   "base_numbering": 1,
   "nav_menu": {},
   "number_sections": true,
   "sideBar": true,
   "skip_h1_title": false,
   "title_cell": "Table of Contents",
   "title_sidebar": "Contents",
   "toc_cell": false,
   "toc_position": {},
   "toc_section_display": true,
   "toc_window_display": false
  }
 },
 "nbformat": 4,
 "nbformat_minor": 2
}
