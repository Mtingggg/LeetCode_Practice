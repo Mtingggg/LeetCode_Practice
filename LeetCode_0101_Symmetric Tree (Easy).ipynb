{
 "cells": [
  {
   "cell_type": "code",
   "execution_count": 2,
   "metadata": {},
   "outputs": [],
   "source": [
    "class Solution:\n",
    "    def isSymmetric(self, root):\n",
    "        if not root:\n",
    "            return True\n",
    "            \n",
    "        l = root.left\n",
    "        r = root.right\n",
    "        return self.test_symmetric(l,r)\n",
    "        \n",
    "    def test_symmetric(self, l, r):\n",
    "        if l and r:\n",
    "            '''\n",
    "            l=Node, r=Node\n",
    "            '''\n",
    "            return l.val==r.val and self.test_symmetric(l.left,r.right) and self.test_symmetric(l.right, r.left) \n",
    "            #只要其中一次不相等，就會return False\n",
    "        else:\n",
    "            '''\n",
    "            three cases:\n",
    "            1.l=None, r=None\n",
    "            2.l=Node, r=None\n",
    "            3.l=None, r=Node\n",
    "            '''\n",
    "            return l==r "
   ]
  }
 ],
 "metadata": {
  "kernelspec": {
   "display_name": "Python 3",
   "language": "python",
   "name": "python3"
  },
  "language_info": {
   "codemirror_mode": {
    "name": "ipython",
    "version": 3
   },
   "file_extension": ".py",
   "mimetype": "text/x-python",
   "name": "python",
   "nbconvert_exporter": "python",
   "pygments_lexer": "ipython3",
   "version": "3.7.4"
  }
 },
 "nbformat": 4,
 "nbformat_minor": 2
}
