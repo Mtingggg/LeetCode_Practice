{
 "cells": [
  {
   "cell_type": "markdown",
   "metadata": {},
   "source": [
    "### Problem Description\n",
    "\n",
    "Given the roots of two binary trees p and q, write a function to check if they are the same or not.  \n",
    "  \n",
    "Two binary trees are considered the same if they are structurally identical, and the nodes have the same value.  \n",
    "   \n",
    ">Example 1:    \n",
    "Input: p = [1,2,3], q = [1,2,3]  \n",
    "Output: true  \n",
    "  \n",
    ">Example 2:  \n",
    "Input: p = [1,2], q = [1,null,2]  \n",
    "Output: false  \n",
    "  \n",
    ">Example 3:  \n",
    "Input: p = [1,2,1], q = [1,1,2]  \n",
    "Output: false  "
   ]
  },
  {
   "cell_type": "markdown",
   "metadata": {},
   "source": [
    "### Solution"
   ]
  },
  {
   "cell_type": "code",
   "execution_count": null,
   "metadata": {},
   "outputs": [],
   "source": [
    "# Definition for a binary tree node.\n",
    "# class TreeNode:\n",
    "#     def __init__(self, val=0, left=None, right=None):\n",
    "#         self.val = val\n",
    "#         self.left = left\n",
    "#         self.right = right\n",
    "class Solution:\n",
    "    def isSameTree(self, p: Optional[TreeNode], q: Optional[TreeNode]) -> bool:\n",
    "        def walk(p,q,ans):\n",
    "            if p and q:\n",
    "                if p.val!=q.val:\n",
    "                    return False\n",
    "                if q.left or p.left:\n",
    "                    ans*=walk(p.left, q.left, ans)\n",
    "                if q.right or p.right:\n",
    "                    ans*=walk(p.right, q.right, ans)\n",
    "                return ans\n",
    "            elif not p and not q:\n",
    "                return True\n",
    "            else:\n",
    "                return False\n",
    "\n",
    "        return walk(p, q, True)"
   ]
  }
 ],
 "metadata": {
  "kernelspec": {
   "display_name": "Python 3",
   "language": "python",
   "name": "python3"
  },
  "language_info": {
   "codemirror_mode": {
    "name": "ipython",
    "version": 3
   },
   "file_extension": ".py",
   "mimetype": "text/x-python",
   "name": "python",
   "nbconvert_exporter": "python",
   "pygments_lexer": "ipython3",
   "version": "3.7.4"
  },
  "toc": {
   "base_numbering": 1,
   "nav_menu": {},
   "number_sections": true,
   "sideBar": true,
   "skip_h1_title": false,
   "title_cell": "Table of Contents",
   "title_sidebar": "Contents",
   "toc_cell": false,
   "toc_position": {},
   "toc_section_display": true,
   "toc_window_display": false
  }
 },
 "nbformat": 4,
 "nbformat_minor": 2
}
