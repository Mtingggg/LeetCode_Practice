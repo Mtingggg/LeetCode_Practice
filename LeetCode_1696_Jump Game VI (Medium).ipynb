{
 "cells": [
  {
   "cell_type": "markdown",
   "metadata": {},
   "source": [
    "### Problem Description\n",
    "\n",
    "You are given a 0-indexed integer array nums and an integer k.  \n",
    "\n",
    "You are initially standing at index 0. In one move, you can jump at most k steps forward without going outside the boundaries of the array. That is, you can jump from index i to any index in the range [i + 1, min(n - 1, i + k)] inclusive.  \n",
    "\n",
    "You want to reach the last index of the array (index n - 1). Your score is the sum of all nums[j] for each index j you visited in the array.  \n",
    "\n",
    "Return the maximum score you can get.  \n",
    "\n",
    " \n",
    "\n",
    "> Example 1:\n",
    "Input: nums = [1,-1,-2,4,-7,3], k = 2  \n",
    "Output: 7  \n",
    "Explanation: You can choose your jumps forming the subsequence [1,-1,4,3] (underlined above). The sum is 7.  \n",
    "\n",
    "> Example 2:  \n",
    "Input: nums = [10,-5,-2,4,0,3], k = 3     \n",
    "Output: 17  \n",
    "Explanation: You can choose your jumps forming the subsequence [10,4,3] (underlined above). The sum is 17.  \n",
    "\n",
    "> Example 3:  \n",
    "Input: nums = [1,-5,-20,4,-1,3,-6,-3], k = 2  \n",
    "Output: 0  \n",
    " "
   ]
  },
  {
   "cell_type": "markdown",
   "metadata": {},
   "source": [
    "### Solution1 - dp (TLE)\n",
    "It can be easy to solve this problem with dp algorithm, in dp array, we store the maximum score we can get in that index, so how we calculate the values in dp array?  \n",
    "For every index, we look back **k** step and calculate all the possible values we can get in index i, than we choose the largest value index i can get and store it into dp array."
   ]
  },
  {
   "cell_type": "code",
   "execution_count": 10,
   "metadata": {},
   "outputs": [],
   "source": [
    "class Solution1:\n",
    "    def maxResult(self, nums: 'List[int]', k: 'int') -> int:\n",
    "        dp = [float('-inf')]*len(nums)\n",
    "        dp[0] = nums[0]\n",
    "\n",
    "        for i in range(1, len(nums)):\n",
    "            for j in range(max(0, (i-k)), i):\n",
    "                dp[i] = max(dp[j]+nums[i], dp[i])\n",
    "            \n",
    "        return dp[-1]"
   ]
  },
  {
   "cell_type": "code",
   "execution_count": 11,
   "metadata": {},
   "outputs": [
    {
     "data": {
      "text/plain": [
       "7"
      ]
     },
     "execution_count": 11,
     "metadata": {},
     "output_type": "execute_result"
    }
   ],
   "source": [
    "nums = [1,-1,-2,4,-7,3]\n",
    "k = 2\n",
    "\n",
    "sol1 = Solution1()\n",
    "sol1.maxResult(nums, k)"
   ]
  },
  {
   "cell_type": "markdown",
   "metadata": {},
   "source": [
    "### Solution 2 - dp+queue\n",
    "The thought in solution1 is quite straight forward, but it calculate all the possible value every time so the time complexity is high. SO, how can we don't calculate all possible score everytime but got the maximum score in every index?  \n",
    "We can use a **queue** to store the maximum value current index can reach in previous **k** step, in this queue, all values are store in descending order, and the maximum previous value current index can get will always be at queue[0], so now, we don't have to calculate value with previous k steps again and again but use O(1) to get the maximum value from queue."
   ]
  },
  {
   "cell_type": "code",
   "execution_count": 16,
   "metadata": {},
   "outputs": [],
   "source": [
    "import collections # can be use in leetcode\n",
    "\n",
    "class Solution2:\n",
    "    def maxResult(self, nums: 'List[int]', k: 'int') -> int:\n",
    "        dp = [float('-inf')]*len(nums)\n",
    "        dp[0] = nums[0]\n",
    "        que = collections.deque()\n",
    "        que.append(0)\n",
    "\n",
    "        for i in range(1, len(nums)):\n",
    "            while que[0]<(i-k):\n",
    "                que.popleft()\n",
    "            dp[i] = dp[que[0]]+nums[i]\n",
    "            while que and dp[que[-1]]<=dp[i]:\n",
    "                que.pop()\n",
    "            que.append(i)\n",
    "        \n",
    "        return dp[-1]"
   ]
  },
  {
   "cell_type": "code",
   "execution_count": 17,
   "metadata": {},
   "outputs": [
    {
     "data": {
      "text/plain": [
       "7"
      ]
     },
     "execution_count": 17,
     "metadata": {},
     "output_type": "execute_result"
    }
   ],
   "source": [
    "nums = [1,-1,-2,4,-7,3]\n",
    "k = 2\n",
    "\n",
    "sol2 = Solution2()\n",
    "sol2.maxResult(nums, k)"
   ]
  }
 ],
 "metadata": {
  "kernelspec": {
   "display_name": "Python 3",
   "language": "python",
   "name": "python3"
  },
  "language_info": {
   "codemirror_mode": {
    "name": "ipython",
    "version": 3
   },
   "file_extension": ".py",
   "mimetype": "text/x-python",
   "name": "python",
   "nbconvert_exporter": "python",
   "pygments_lexer": "ipython3",
   "version": "3.7.4"
  },
  "toc": {
   "base_numbering": 1,
   "nav_menu": {},
   "number_sections": true,
   "sideBar": true,
   "skip_h1_title": false,
   "title_cell": "Table of Contents",
   "title_sidebar": "Contents",
   "toc_cell": false,
   "toc_position": {},
   "toc_section_display": true,
   "toc_window_display": false
  }
 },
 "nbformat": 4,
 "nbformat_minor": 2
}
