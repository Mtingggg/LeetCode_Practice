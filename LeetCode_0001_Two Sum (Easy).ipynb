{
 "cells": [
  {
   "cell_type": "code",
   "execution_count": 70,
   "metadata": {},
   "outputs": [],
   "source": [
    "# 暴力破解法 O(n^2)\n",
    "class Solution():\n",
    "    def twoSum(self, nums: 'List[int]', target:'int') -> 'List[int]':      \n",
    "        # len()方法時間複雜度是O(1)\n",
    "        n = len(nums)\n",
    "        # 因為要返回的是索引，所以應該使用陣列的索引進行迴圈\n",
    "        for i in range(n):\n",
    "            for j in range(i+1,n):\n",
    "                if nums[i] + nums[j] == target:\n",
    "                    return [i, j]"
   ]
  },
  {
   "cell_type": "code",
   "execution_count": 82,
   "metadata": {},
   "outputs": [],
   "source": [
    "nums = [2, 7, 11, 15, 5 ,3 ,9]\n",
    "target = 10\n",
    "Sol = Solution()\n",
    "Sol.twoSum(nums, target)"
   ]
  },
  {
   "cell_type": "code",
   "execution_count": 89,
   "metadata": {},
   "outputs": [],
   "source": [
    "# dictionary O(n)\n",
    "class Solution():\n",
    "    def twoSum(self, nums: 'List[int]', target:'int') -> 'List[int]':      \n",
    "        temp = {}\n",
    "        for i in range(len(nums)):\n",
    "            if temp.__contains__(target - nums[i]):\n",
    "                return [temp[(target - nums[i])], i]\n",
    "            else:\n",
    "                temp[nums[i]] = i\n",
    "                "
   ]
  },
  {
   "cell_type": "code",
   "execution_count": 92,
   "metadata": {},
   "outputs": [],
   "source": [
    "nums = [2, 7, 11, 15, 5 ,3 ,9]\n",
    "target = 9\n",
    "Sol = Solution()\n",
    "Sol.twoSum(nums, target)"
   ]
  }
 ],
 "metadata": {
  "kernelspec": {
   "display_name": "Python 3",
   "language": "python",
   "name": "python3"
  },
  "language_info": {
   "codemirror_mode": {
    "name": "ipython",
    "version": 3
   },
   "file_extension": ".py",
   "mimetype": "text/x-python",
   "name": "python",
   "nbconvert_exporter": "python",
   "pygments_lexer": "ipython3",
   "version": "3.7.4"
  }
 },
 "nbformat": 4,
 "nbformat_minor": 2
}
