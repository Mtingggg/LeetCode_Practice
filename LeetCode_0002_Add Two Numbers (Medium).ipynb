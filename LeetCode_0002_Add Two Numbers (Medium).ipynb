{
 "cells": [
  {
   "cell_type": "code",
   "execution_count": 123,
   "metadata": {},
   "outputs": [],
   "source": [
    "# Definition for singly-linked list.\n",
    "class ListNode:\n",
    "    def __init__(self, val=0, next=None):\n",
    "        self.val = val\n",
    "        self.next = next"
   ]
  },
  {
   "attachments": {
    "image.png": {
     "image/png": "[encoded data removed]"
    }
   },
   "cell_type": "markdown",
   "metadata": {},
   "source": [
    "## ListNode資料儲存方式\n",
    "![image.png](attachment:image.png)"
   ]
  },
  {
   "cell_type": "code",
   "execution_count": 145,
   "metadata": {},
   "outputs": [
    {
     "name": "stdout",
     "output_type": "stream",
     "text": [
      "2\n",
      "3\n",
      "4\n"
     ]
    }
   ],
   "source": [
    "#建立ListNode範例，例如我要建立[2,3,4],要用一個LISTNODE接一個LISTNODE,final_list則用來存整條list\n",
    "\n",
    "ltest = ListNode(2)\n",
    "final_list = ltest\n",
    "ltest.next = ListNode(3)\n",
    "ltest = ltest.next\n",
    "ltest.next = ListNode(4)\n",
    "\n",
    "for i in range(3):\n",
    "    print(final_list.val)\n",
    "    final_list = final_list.next"
   ]
  },
  {
   "cell_type": "code",
   "execution_count": 146,
   "metadata": {},
   "outputs": [],
   "source": [
    "class Solution:\n",
    "    def addTwoNumbers(self, l1: ListNode, l2: ListNode) -> ListNode:\n",
    "        ans = ListNode(0)\n",
    "        result = ans\n",
    "        f = 0\n",
    "        idx = 0\n",
    "        while l1!=None or l2!=None or f!=0:\n",
    "            if idx!=0:\n",
    "                ans = ans.next\n",
    "                \n",
    "            temp = 0\n",
    "            if l1!=None:\n",
    "                temp += l1.val\n",
    "                l1 = l1.next\n",
    "            if l2!=None:\n",
    "                temp += l2.val\n",
    "                l2 = l2.next\n",
    "            \n",
    "            if (temp+f)>9:\n",
    "                ans.next = ListNode((temp+f)%10)\n",
    "                f = (temp+f)//10\n",
    "                idx +=1\n",
    "            if (temp+f)<=9:\n",
    "                ans.next = ListNode(temp+f)\n",
    "                f = 0\n",
    "                idx +=1\n",
    "            \n",
    "        return result.next"
   ]
  },
  {
   "cell_type": "code",
   "execution_count": 152,
   "metadata": {},
   "outputs": [],
   "source": [
    "#麻煩的是Input跟Output都要是ListNode\n",
    "\n",
    "##建Input\n",
    "#342\n",
    "ltest = ListNode(2)\n",
    "l1 = ltest\n",
    "ltest.next = ListNode(4)\n",
    "ltest = ltest.next\n",
    "ltest.next = ListNode(3)\n",
    "\n",
    "#465\n",
    "ltest = ListNode(5)\n",
    "l2 = ltest\n",
    "ltest.next = ListNode(6)\n",
    "ltest = ltest.next\n",
    "ltest.next = ListNode(4)"
   ]
  },
  {
   "cell_type": "code",
   "execution_count": 154,
   "metadata": {},
   "outputs": [
    {
     "name": "stdout",
     "output_type": "stream",
     "text": [
      "7\n",
      "0\n",
      "8\n"
     ]
    }
   ],
   "source": [
    "Sol = Solution()\n",
    "ans = Sol.addTwoNumbers(l1, l2) #342+465=807\n",
    "print(ans.val)\n",
    "ans = ans.next\n",
    "print(ans.val)\n",
    "ans = ans.next\n",
    "print(ans.val)\n"
   ]
  }
 ],
 "metadata": {
  "kernelspec": {
   "display_name": "Python 3",
   "language": "python",
   "name": "python3"
  },
  "language_info": {
   "codemirror_mode": {
    "name": "ipython",
    "version": 3
   },
   "file_extension": ".py",
   "mimetype": "text/x-python",
   "name": "python",
   "nbconvert_exporter": "python",
   "pygments_lexer": "ipython3",
   "version": "3.7.4"
  }
 },
 "nbformat": 4,
 "nbformat_minor": 2
}
