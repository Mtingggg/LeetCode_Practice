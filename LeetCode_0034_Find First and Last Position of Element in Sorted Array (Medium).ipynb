{
 "cells": [
  {
   "cell_type": "markdown",
   "metadata": {},
   "source": [
    "### Problem Disciption\n",
    "\n",
    "Given an array of integers nums sorted in non-decreasing order, find the starting and ending position of a given target value.\n",
    "\n",
    "If target is not found in the array, return [-1, -1].\n",
    "\n",
    "You must write an algorithm with O(log n) runtime complexity.\n",
    "\n",
    " \n",
    "  \n",
    "Example 1:\n",
    "Input: nums = [5,7,7,8,8,10], target = 8  \n",
    "Output: [3,4]  \n",
    "      \n",
    "Example 2:  \n",
    "Input: nums = [5,7,7,8,8,10], target = 6  \n",
    "Output: [-1,-1]  "
   ]
  },
  {
   "cell_type": "markdown",
   "metadata": {},
   "source": [
    "### Solution\n",
    "This problem can be easily solve by using two for loop, one finding the start index and the other find the end index  \n",
    "But this problem require to solve this problem with O(log n) time complexity, but that's not hard to find out we can use the concept of binary search to solve this problem  \n",
    "What we have to do is to change the for loop to a binary search to find the start and end index, in first \"while\" we find the start index, in second \"while\" left index start from start index and find the end index"
   ]
  },
  {
   "cell_type": "code",
   "execution_count": 72,
   "metadata": {},
   "outputs": [],
   "source": [
    "class Solution:\n",
    "    def searchRange(self, nums, target):\n",
    "        l = 0\n",
    "        r = len(nums)-1\n",
    "        res = []\n",
    "\n",
    "        while l<=r:\n",
    "            m = l+(r-l)//2\n",
    "            if nums[m]<target:\n",
    "                l = m+1\n",
    "            if nums[m]==target and (nums[m-1]!=target or m==0):\n",
    "                res.append(m)\n",
    "                break\n",
    "            # we want to find left boudary, so we move the right index to left\n",
    "            if nums[m]>=target:\n",
    "                r = m-1\n",
    "\n",
    "        if not res:\n",
    "            return [-1, -1]\n",
    "\n",
    "        r = len(nums)-1\n",
    "        while l<=r:\n",
    "            m = l+(r-l)//2\n",
    "            if nums[m]==target and (m==(len(nums)-1) or nums[m+1]!=target):\n",
    "                res.append(m)\n",
    "                break\n",
    "            # we want to find right boudary, so we move the left index to left\n",
    "            if nums[m]<=target:\n",
    "                l = m+1\n",
    "            if nums[m]>target:\n",
    "                r = m-1\n",
    "\n",
    "        return res"
   ]
  },
  {
   "cell_type": "code",
   "execution_count": 71,
   "metadata": {},
   "outputs": [
    {
     "data": {
      "text/plain": [
       "[3, 4]"
      ]
     },
     "execution_count": 71,
     "metadata": {},
     "output_type": "execute_result"
    }
   ],
   "source": [
    "nums = [5,7,7,8,8,10]\n",
    "target = 8\n",
    "\n",
    "sol = Solution()\n",
    "sol.searchRange(nums, target)"
   ]
  },
  {
   "cell_type": "code",
   "execution_count": null,
   "metadata": {},
   "outputs": [],
   "source": []
  }
 ],
 "metadata": {
  "kernelspec": {
   "display_name": "Python 3",
   "language": "python",
   "name": "python3"
  },
  "language_info": {
   "codemirror_mode": {
    "name": "ipython",
    "version": 3
   },
   "file_extension": ".py",
   "mimetype": "text/x-python",
   "name": "python",
   "nbconvert_exporter": "python",
   "pygments_lexer": "ipython3",
   "version": "3.7.4"
  },
  "toc": {
   "base_numbering": 1,
   "nav_menu": {},
   "number_sections": true,
   "sideBar": true,
   "skip_h1_title": false,
   "title_cell": "Table of Contents",
   "title_sidebar": "Contents",
   "toc_cell": false,
   "toc_position": {},
   "toc_section_display": true,
   "toc_window_display": false
  }
 },
 "nbformat": 4,
 "nbformat_minor": 2
}
