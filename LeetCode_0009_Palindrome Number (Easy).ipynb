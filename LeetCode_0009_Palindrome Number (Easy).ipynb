{
 "cells": [
  {
   "cell_type": "code",
   "execution_count": 48,
   "metadata": {},
   "outputs": [],
   "source": [
    "class Solution:\n",
    "    def isPalindrome(self, x: 'int') -> 'bool':\n",
    "        x = str(x)\n",
    "        ans = True\n",
    "        start = (len(x)-1)//2\n",
    "        i=0\n",
    "\n",
    "        if len(x)%2!=0:\n",
    "            while(i<=len(x)//2):\n",
    "                if x[start-i]!=x[start+i]:\n",
    "                    ans = False\n",
    "                    break\n",
    "                i+=1\n",
    "\n",
    "        else:\n",
    "            while(i<len(x)//2):\n",
    "                if x[start-i]!=x[start+1+i]:\n",
    "                    ans = False\n",
    "                    break\n",
    "                i+=1\n",
    "\n",
    "        return ans"
   ]
  },
  {
   "cell_type": "code",
   "execution_count": 49,
   "metadata": {},
   "outputs": [
    {
     "data": {
      "text/plain": [
       "True"
      ]
     },
     "execution_count": 49,
     "metadata": {},
     "output_type": "execute_result"
    }
   ],
   "source": [
    "x = 121\n",
    "sol = Solution()\n",
    "sol.isPalindrome(x)"
   ]
  }
 ],
 "metadata": {
  "kernelspec": {
   "display_name": "Python 3",
   "language": "python",
   "name": "python3"
  },
  "language_info": {
   "codemirror_mode": {
    "name": "ipython",
    "version": 3
   },
   "file_extension": ".py",
   "mimetype": "text/x-python",
   "name": "python",
   "nbconvert_exporter": "python",
   "pygments_lexer": "ipython3",
   "version": "3.7.4"
  }
 },
 "nbformat": 4,
 "nbformat_minor": 2
}
