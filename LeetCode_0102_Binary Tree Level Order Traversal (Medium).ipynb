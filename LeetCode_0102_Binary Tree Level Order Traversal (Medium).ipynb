{
 "cells": [
  {
   "cell_type": "code",
   "execution_count": null,
   "metadata": {},
   "outputs": [],
   "source": [
    "class Solution:\n",
    "    def levelOrder(self, root: TreeNode) -> List[List[int]]:\n",
    "        ans = []\n",
    "        if root:\n",
    "            ans.append([root.val]) \n",
    "        else:\n",
    "            return []\n",
    "        \n",
    "        self.get_ans(ans, root, 1)\n",
    "        \n",
    "        return ans\n",
    "        \n",
    "    def get_ans(self, ans, root, depth):\n",
    "        if (not root) or (root.left is None and root.right is None): #若這個節點是None或下面沒有子節點就return\n",
    "            return\n",
    "        if len(ans)<=depth:\n",
    "            ans.append([])\n",
    "            \n",
    "        l = root.left\n",
    "        r = root.right\n",
    "        if l:\n",
    "            ans[depth].append(l.val)\n",
    "        if r:\n",
    "            ans[depth].append(r.val)\n",
    "        \n",
    "        self.get_ans(ans, l, depth+1)\n",
    "        self.get_ans(ans, r, depth+1)"
   ]
  }
 ],
 "metadata": {
  "kernelspec": {
   "display_name": "Python 3",
   "language": "python",
   "name": "python3"
  },
  "language_info": {
   "codemirror_mode": {
    "name": "ipython",
    "version": 3
   },
   "file_extension": ".py",
   "mimetype": "text/x-python",
   "name": "python",
   "nbconvert_exporter": "python",
   "pygments_lexer": "ipython3",
   "version": "3.7.4"
  }
 },
 "nbformat": 4,
 "nbformat_minor": 2
}
