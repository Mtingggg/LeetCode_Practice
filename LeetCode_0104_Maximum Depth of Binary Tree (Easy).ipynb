{
 "cells": [
  {
   "cell_type": "code",
   "execution_count": null,
   "metadata": {},
   "outputs": [],
   "source": [
    "class Solution:\n",
    "    def maxDepth(self, root: TreeNode) -> int:\n",
    "        if not root:\n",
    "            return 0\n",
    "        l=1\n",
    "        ans = []\n",
    "        self.get_len(root,l,ans)\n",
    "        \n",
    "        return max(ans)\n",
    "        \n",
    "    def get_len(self, root, l ,ans):\n",
    "        if root.left:\n",
    "            self.get_len(root.left,l+1,ans)\n",
    "            \n",
    "        if root.right:\n",
    "            self.get_len(root.right,l+1,ans)\n",
    "            \n",
    "        if not root.left and not root.right:\n",
    "            ans.append(l)"
   ]
  }
 ],
 "metadata": {
  "kernelspec": {
   "display_name": "Python 3",
   "language": "python",
   "name": "python3"
  },
  "language_info": {
   "codemirror_mode": {
    "name": "ipython",
    "version": 3
   },
   "file_extension": ".py",
   "mimetype": "text/x-python",
   "name": "python",
   "nbconvert_exporter": "python",
   "pygments_lexer": "ipython3",
   "version": "3.7.4"
  }
 },
 "nbformat": 4,
 "nbformat_minor": 2
}
