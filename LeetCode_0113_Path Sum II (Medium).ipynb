{
 "cells": [
  {
   "cell_type": "markdown",
   "metadata": {},
   "source": [
    "### Problem Description\n",
    "Given the root of a binary tree and an integer targetSum, return all root-to-leaf paths where the sum of the node values in the path equals targetSum. Each path should be returned as a list of the node values, not node references.\n",
    "\n",
    "A root-to-leaf path is a path starting from the root and ending at any leaf node. A leaf is a node with no children.\n",
    "\n",
    "  \n",
    ">Example 1:  \n",
    "Input: root = [5,4,8,11,null,13,4,7,2,null,null,5,1], targetSum = 22  \n",
    "Output: [[5,4,11,2],[5,8,4,5]]  \n",
    "Explanation: There are two paths whose sum equals targetSum:  \n",
    "5 + 4 + 11 + 2 = 22  \n",
    "5 + 8 + 4 + 5 = 22  \n",
    "  \n",
    ">Example 2:  \n",
    "Input: root = [1,2,3], targetSum = 5  \n",
    "Output: []  \n",
    "  \n",
    ">Example 3:  \n",
    "Input: root = [1,2], targetSum = 0  \n",
    "Output: []  "
   ]
  },
  {
   "cell_type": "markdown",
   "metadata": {},
   "source": [
    "### Solution\n",
    "Use DFS can easily sove this problem, the only things need to take care is we can only store the path if the whole path value equal to the target sum but not in the middle of the path."
   ]
  },
  {
   "cell_type": "code",
   "execution_count": 1,
   "metadata": {},
   "outputs": [],
   "source": [
    "# Definition for a binary tree node.\n",
    "# class TreeNode:\n",
    "#     def __init__(self, val=0, left=None, right=None):\n",
    "#         self.val = val\n",
    "#         self.left = left\n",
    "#         self.right = right\n",
    "class Solution:\n",
    "    def pathSum(self, root: 'Optional[TreeNode]', targetSum: 'int') -> 'List[List[int]]':\n",
    "        res = []\n",
    "        def find_target_path(root, cur_path, cur_sum, targetSum, res):\n",
    "            if not root:\n",
    "                return\n",
    "            if root.left:\n",
    "                find_target_path(root.left, cur_path+[root.val], cur_sum+root.val, targetSum, res) \n",
    "            if root.right:\n",
    "                find_target_path(root.right, cur_path+[root.val], cur_sum+root.val, targetSum, res)            \n",
    "            if cur_sum+root.val==targetSum and not root.left and not root.right:\n",
    "                res.append(cur_path+[root.val])\n",
    "                \n",
    "        find_target_path(root, [], 0, targetSum, res)\n",
    "            \n",
    "        return res"
   ]
  }
 ],
 "metadata": {
  "kernelspec": {
   "display_name": "Python 3",
   "language": "python",
   "name": "python3"
  },
  "language_info": {
   "codemirror_mode": {
    "name": "ipython",
    "version": 3
   },
   "file_extension": ".py",
   "mimetype": "text/x-python",
   "name": "python",
   "nbconvert_exporter": "python",
   "pygments_lexer": "ipython3",
   "version": "3.7.4"
  },
  "toc": {
   "base_numbering": 1,
   "nav_menu": {},
   "number_sections": true,
   "sideBar": true,
   "skip_h1_title": false,
   "title_cell": "Table of Contents",
   "title_sidebar": "Contents",
   "toc_cell": false,
   "toc_position": {},
   "toc_section_display": true,
   "toc_window_display": false
  }
 },
 "nbformat": 4,
 "nbformat_minor": 2
}
