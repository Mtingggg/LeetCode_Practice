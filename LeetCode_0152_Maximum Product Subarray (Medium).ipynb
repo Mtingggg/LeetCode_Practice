{
 "cells": [
  {
   "cell_type": "markdown",
   "metadata": {},
   "source": [
    "### Problem Description\n",
    "Given an integer array nums, find a contiguous non-empty subarray within the array that has the largest product, and return the product.\n",
    "\n",
    "The test cases are generated so that the answer will fit in a 32-bit integer.\n",
    "\n",
    "A subarray is a contiguous subsequence of the array.\n",
    "\n",
    " \n",
    ">Example 1:  \n",
    "Input: nums = [2,3,-2,4]  \n",
    "Output: 6  \n",
    "Explanation: [2,3] has the largest product 6.  \n",
    "\n",
    ">Example 2:  \n",
    "Input: nums = [-2,0,-1]  \n",
    "Output: 0  \n",
    "Explanation: The result cannot be 2, because [-2,-1] is not a subarray.  \n",
    " "
   ]
  },
  {
   "cell_type": "markdown",
   "metadata": {},
   "source": [
    "### Solution\n",
    "We can use an dp array to store the maximum subarray product you can get at position dp[i]. But the values in nums can be negative, so we have to record maximum subarray and minimum subarray at the same time, when updating values in dp array, we have to both consider maximum and minimum in dp[i-1], because when both nums[i] and dp_min[i-1] are negative, the product with dp_min[i-1] will be the maximum in position i.  \n",
    "For implement this idea, we use two dp arrays dp_max and dp_min for storing the maximum and minimum at position i.  "
   ]
  },
  {
   "cell_type": "code",
   "execution_count": 39,
   "metadata": {},
   "outputs": [],
   "source": [
    "class Solution:\n",
    "    def maxProduct(self, nums: \"List[int]\") -> \"int\":\n",
    "        n = len(nums)\n",
    "        dp_max = [nums[0] for i in range(n)]\n",
    "        dp_min = [nums[0] for i in range(n)]\n",
    "        ans = nums[0]\n",
    "        for i in range(1, n):\n",
    "            dp_max[i] = max(nums[i], nums[i]*dp_max[i-1], nums[i]*dp_min[i-1])\n",
    "            dp_min[i] = min(nums[i], nums[i]*dp_min[i-1], nums[i]*dp_max[i-1])\n",
    "\n",
    "            ans = max(ans, dp_max[i])\n",
    "        \n",
    "        return ans"
   ]
  },
  {
   "cell_type": "code",
   "execution_count": 40,
   "metadata": {},
   "outputs": [
    {
     "data": {
      "text/plain": [
       "6"
      ]
     },
     "execution_count": 40,
     "metadata": {},
     "output_type": "execute_result"
    }
   ],
   "source": [
    "nums = [2,3,-2,4]\n",
    "\n",
    "sol = Solution()\n",
    "sol.maxProduct(nums)"
   ]
  }
 ],
 "metadata": {
  "kernelspec": {
   "display_name": "Python 3",
   "language": "python",
   "name": "python3"
  },
  "language_info": {
   "codemirror_mode": {
    "name": "ipython",
    "version": 3
   },
   "file_extension": ".py",
   "mimetype": "text/x-python",
   "name": "python",
   "nbconvert_exporter": "python",
   "pygments_lexer": "ipython3",
   "version": "3.7.4"
  },
  "toc": {
   "base_numbering": 1,
   "nav_menu": {},
   "number_sections": true,
   "sideBar": true,
   "skip_h1_title": false,
   "title_cell": "Table of Contents",
   "title_sidebar": "Contents",
   "toc_cell": false,
   "toc_position": {},
   "toc_section_display": true,
   "toc_window_display": false
  }
 },
 "nbformat": 4,
 "nbformat_minor": 2
}
