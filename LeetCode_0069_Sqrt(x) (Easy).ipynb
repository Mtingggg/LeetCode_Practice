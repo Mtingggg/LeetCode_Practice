{
 "cells": [
  {
   "cell_type": "markdown",
   "metadata": {},
   "source": [
    "### Problem Description\n",
    "Given a non-negative integer x, compute and return the square root of x.  \n",
    "\n",
    "Since the return type is an integer, the decimal digits are truncated, and only the integer part of the result is returned.    \n",
    "Note: You are not allowed to use any built-in exponent function or operator, such as pow(x, 0.5) or x ** 0.5.  \n",
    "\n",
    "\n",
    ">Example 1:  \n",
    "Input: x = 4  \n",
    "Output: 2  \n",
    "\n",
    ">Example 2:  \n",
    "Input: x = 8  \n",
    "Output: 2  \n",
    "Explanation: The square root of 8 is 2.82842..., and since the decimal part is truncated, 2 is returned.  \n",
    " "
   ]
  },
  {
   "cell_type": "markdown",
   "metadata": {},
   "source": [
    "### Solution\n",
    "The most easy way to solve this problem is to try evey single number from 1, and find the number who has the power closest to x. We can find out this is some kind of search, using binary search can help up speed up the progress."
   ]
  },
  {
   "cell_type": "code",
   "execution_count": 39,
   "metadata": {},
   "outputs": [],
   "source": [
    "class Solution:\n",
    "    def mySqrt(self, x: int) -> int:\n",
    "        l = 0\n",
    "        r = x\n",
    "        mid = (l+r)//2\n",
    "\n",
    "        while l<=r:\n",
    "            if mid**2==x:\n",
    "                return mid\n",
    "            elif mid**2<x:\n",
    "                l = mid+1\n",
    "            else:\n",
    "                r = mid-1\n",
    "            mid = (l+r)//2\n",
    "        \n",
    "        return r"
   ]
  }
 ],
 "metadata": {
  "kernelspec": {
   "display_name": "Python 3",
   "language": "python",
   "name": "python3"
  },
  "language_info": {
   "codemirror_mode": {
    "name": "ipython",
    "version": 3
   },
   "file_extension": ".py",
   "mimetype": "text/x-python",
   "name": "python",
   "nbconvert_exporter": "python",
   "pygments_lexer": "ipython3",
   "version": "3.7.4"
  },
  "toc": {
   "base_numbering": 1,
   "nav_menu": {},
   "number_sections": true,
   "sideBar": true,
   "skip_h1_title": false,
   "title_cell": "Table of Contents",
   "title_sidebar": "Contents",
   "toc_cell": false,
   "toc_position": {},
   "toc_section_display": true,
   "toc_window_display": false
  }
 },
 "nbformat": 4,
 "nbformat_minor": 2
}
