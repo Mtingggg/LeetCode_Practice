{
 "cells": [
  {
   "cell_type": "markdown",
   "metadata": {},
   "source": [
    "### Problem Discription\n",
    "Given an array of intervals where intervals[i] = [starti, endi], merge all overlapping intervals, and return an array of the non-overlapping intervals that cover all the intervals in the input.  \n",
    "\n",
    ">***Example 1:***  \n",
    "Input: intervals = [[1,3],[2,6],[8,10],[15,18]]  \n",
    "Output: [[1,6],[8,10],[15,18]]  \n",
    "Explanation: Since intervals [1,3] and [2,6] overlap, merge them into [1,6].  \n",
    "\n",
    ">***Example 2:***   \n",
    "Input: intervals = [[1,4],[4,5]]  \n",
    "Output: [[1,5]]  \n",
    "Explanation: Intervals [1,4] and [4,5] are considered overlapping.  "
   ]
  },
  {
   "cell_type": "markdown",
   "metadata": {},
   "source": [
    "### Solution\n",
    "It will be really easy to solve this problem if we first sort intervals array with first index, because if we do so, we only need to compare the right bound of each interval, if current intervals right bound <= last intervals right bound, we set last intervals right bound to current intervals right bound and compare next interval until we compare all the interval in the array."
   ]
  },
  {
   "cell_type": "code",
   "execution_count": 1,
   "metadata": {},
   "outputs": [],
   "source": [
    "class Solution:\n",
    "    def merge(self, intervals:\" List[List[int]]\") -> \"List[List[int]]\":\n",
    "        intervals = sorted(intervals, key = lambda x: x[0])\n",
    "        intervals.append([float('inf'), float('inf')])\n",
    "        ans = []\n",
    "        tmp = intervals[0]\n",
    "        for interval in intervals[1:]:\n",
    "            if interval[0]<=tmp[1]:\n",
    "                tmp[1] = max(tmp[1], interval[1])\n",
    "            else:\n",
    "                ans.append(tmp)\n",
    "                tmp = interval\n",
    "        return ans"
   ]
  },
  {
   "cell_type": "code",
   "execution_count": 2,
   "metadata": {},
   "outputs": [
    {
     "data": {
      "text/plain": [
       "[[1, 6], [8, 10], [15, 18]]"
      ]
     },
     "execution_count": 2,
     "metadata": {},
     "output_type": "execute_result"
    }
   ],
   "source": [
    "intervals = [[1,3],[2,6],[8,10],[15,18]]\n",
    "\n",
    "sol = Solution()\n",
    "sol.merge(intervals)"
   ]
  }
 ],
 "metadata": {
  "kernelspec": {
   "display_name": "Python 3",
   "language": "python",
   "name": "python3"
  },
  "language_info": {
   "codemirror_mode": {
    "name": "ipython",
    "version": 3
   },
   "file_extension": ".py",
   "mimetype": "text/x-python",
   "name": "python",
   "nbconvert_exporter": "python",
   "pygments_lexer": "ipython3",
   "version": "3.7.4"
  },
  "toc": {
   "base_numbering": 1,
   "nav_menu": {},
   "number_sections": true,
   "sideBar": true,
   "skip_h1_title": false,
   "title_cell": "Table of Contents",
   "title_sidebar": "Contents",
   "toc_cell": false,
   "toc_position": {},
   "toc_section_display": true,
   "toc_window_display": false
  }
 },
 "nbformat": 4,
 "nbformat_minor": 2
}
