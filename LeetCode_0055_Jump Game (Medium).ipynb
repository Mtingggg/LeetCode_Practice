{
 "cells": [
  {
   "cell_type": "markdown",
   "metadata": {},
   "source": [
    "### Problem Description\n",
    "\n",
    "You are given an integer array nums. You are initially positioned at the array's first index, and each element in the array represents your maximum jump length at that position.  \n",
    "  \n",
    "Return true if you can reach the last index, or false otherwise.  \n",
    "\n",
    " \n",
    "\n",
    "> Example 1:     \n",
    "> Input: nums = [2,3,1,1,4]  \n",
    "> Output: true  \n",
    "> Explanation: Jump 1 step from index 0 to 1, then 3 steps to the last index.  \n",
    "\n",
    "> Example 2:  \n",
    "> Input: nums = [3,2,1,0,4]  \n",
    "> Output: false  \n",
    "> Explanation: You will always arrive at index 3 no matter what. Its maximum jump length is 0, which makes it impossible to reach the last index.  \n"
   ]
  },
  {
   "cell_type": "markdown",
   "metadata": {},
   "source": [
    "### Solution\n",
    "We can solve this problem using greedy algorithm, in every step, we try to find out where is the the farthest point next step can reach by using all reachable numbers in current step, if after iterating all numbers in nums and maximum length is smaller than nums length then return false, else return true.  \n",
    "Besides, there can be zero in nums, so we have to check if i>current max length, if i>currenet max length, it means all the path will go on zero, and it will stop there which is impossible to reach the last index. "
   ]
  },
  {
   "cell_type": "code",
   "execution_count": 5,
   "metadata": {},
   "outputs": [],
   "source": [
    "class Solution:\n",
    "    def canJump(self, nums: 'List[int]') -> bool:\n",
    "        start = 0\n",
    "        max_len = 0\n",
    "        for i in range(len(nums)):\n",
    "            if i>max_len:\n",
    "                return False\n",
    "            max_len = max(max_len, i+nums[i])\n",
    "            if max_len>=(len(nums)-1):\n",
    "                return True\n",
    "        return False"
   ]
  },
  {
   "cell_type": "code",
   "execution_count": 6,
   "metadata": {},
   "outputs": [
    {
     "data": {
      "text/plain": [
       "False"
      ]
     },
     "execution_count": 6,
     "metadata": {},
     "output_type": "execute_result"
    }
   ],
   "source": [
    "nums = [3,2,1,0,4]\n",
    "\n",
    "sol = Solution()\n",
    "sol.canJump(nums)"
   ]
  }
 ],
 "metadata": {
  "kernelspec": {
   "display_name": "Python 3",
   "language": "python",
   "name": "python3"
  },
  "language_info": {
   "codemirror_mode": {
    "name": "ipython",
    "version": 3
   },
   "file_extension": ".py",
   "mimetype": "text/x-python",
   "name": "python",
   "nbconvert_exporter": "python",
   "pygments_lexer": "ipython3",
   "version": "3.7.4"
  },
  "toc": {
   "base_numbering": 1,
   "nav_menu": {},
   "number_sections": true,
   "sideBar": true,
   "skip_h1_title": false,
   "title_cell": "Table of Contents",
   "title_sidebar": "Contents",
   "toc_cell": false,
   "toc_position": {},
   "toc_section_display": true,
   "toc_window_display": false
  }
 },
 "nbformat": 4,
 "nbformat_minor": 2
}
