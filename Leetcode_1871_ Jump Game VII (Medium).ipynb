{
 "cells": [
  {
   "cell_type": "markdown",
   "metadata": {},
   "source": [
    "### Problem Description\n",
    "\n",
    "You are given a 0-indexed binary string s and two integers minJump and maxJump. In the beginning, you are standing at index 0, which is equal to '0'. You can move from index i to index j if the following conditions are fulfilled:  \n",
    "\n",
    "i + minJump <= j <= min(i + maxJump, s.length - 1), and s[j] == '0'.  \n",
    "Return true if you can reach index s.length - 1 in s, or false otherwise.  \n",
    "\n",
    "\n",
    ">Example 1:\n",
    "Input: s = \"011010\", minJump = 2, maxJump = 3  \n",
    "Output: true  \n",
    "Explanation:  \n",
    "In the first step, move from index 0 to index 3.   \n",
    "In the second step, move from index 3 to index 5.  \n",
    "\n",
    ">Example 2:  \n",
    "Input: s = \"01101110\", minJump = 2, maxJump = 3  \n",
    "Output: false    "
   ]
  },
  {
   "cell_type": "markdown",
   "metadata": {},
   "source": [
    "### Solution1 - BFS (TLE) \n",
    "Use BFS can solve this problem but it has O(n^2) time complexity.  \n",
    "BFS walk through all possible path, also I have do some optimization here. Use a queue to record if this index have been walk or not, if current index is already in queue, we won't push it in queue."
   ]
  },
  {
   "cell_type": "code",
   "execution_count": 77,
   "metadata": {},
   "outputs": [],
   "source": [
    "# import collections\n",
    "\n",
    "class Solution1:    \n",
    "    def canReach(self, s: str, minJump: int, maxJump: int) -> bool:\n",
    "        if s[-1]==\"1\":\n",
    "            return False\n",
    "        que = collections.deque()\n",
    "        que.append(0)\n",
    "        while que:\n",
    "            if (que[0]+minJump<=(len(s)-1)) and ((len(s)-1)<=que[0]+maxJump):\n",
    "                return True\n",
    "            for i in range(que[0]+minJump, min(len(s),que[0]+maxJump+1)):\n",
    "                if s[i]==\"0\" and i not in que:\n",
    "                    que.append(i)\n",
    "            que.popleft()\n",
    "        return False"
   ]
  },
  {
   "cell_type": "code",
   "execution_count": 78,
   "metadata": {},
   "outputs": [
    {
     "data": {
      "text/plain": [
       "True"
      ]
     },
     "execution_count": 78,
     "metadata": {},
     "output_type": "execute_result"
    }
   ],
   "source": [
    "s = \"011010\"\n",
    "minJump = 2\n",
    "maxJump = 3\n",
    "\n",
    "sol = Solution1()\n",
    "sol.canReach(s, minJump, maxJump)"
   ]
  },
  {
   "cell_type": "markdown",
   "metadata": {},
   "source": [
    "### Solution2 - DP\n",
    "We store True or False in dp array, if True, it means this index can be reach.  \n",
    "How can we complete this dp array? In every index, we lookback all the values between index i-maxJump and i-minJump, if there is \"0\" in this interval, it means current index is reachable. **But** here's a problem, if we do it this way, it will also git a O(n^2) time complexity.  \n",
    "So, there's some trick here, we compute the cumulative sum of dp array, for example for s=\"0110\" we will get a dp=[True, False, False, Ture] and the cummulative sum of this dp array will become cumsum=[1,1,1,2], so if I want to check if there is 0 between index 1 and index 3, what we have to do is calculate cumsum[3]-cumsum[1], if the diffrent is larger than zero, than we can know there's atleast a \"0\" between this two index, and the time complexity for checking zero will become O(1)."
   ]
  },
  {
   "cell_type": "code",
   "execution_count": 79,
   "metadata": {},
   "outputs": [],
   "source": [
    "class Solution2:    \n",
    "    def canReach(self, s: str, minJump: int, maxJump: int) -> bool:\n",
    "        dp = [0]*len(s)\n",
    "        cumsum = [0]*len(s)\n",
    "        dp[0], cumsum[0] = 1, 1\n",
    "        \n",
    "        for i in range(1, len(s)):\n",
    "            l = i-maxJump-1\n",
    "            r = i-minJump\n",
    "            dp[i] = s[i]==\"0\" and (0 if r<0 else cumsum[r])-(0 if r<0 else cumsum[l])>0\n",
    "            cumsum[i] = cumsum[i-1]+dp[i]\n",
    "        \n",
    "        return dp[-1]"
   ]
  },
  {
   "cell_type": "code",
   "execution_count": 80,
   "metadata": {},
   "outputs": [
    {
     "data": {
      "text/plain": [
       "True"
      ]
     },
     "execution_count": 80,
     "metadata": {},
     "output_type": "execute_result"
    }
   ],
   "source": [
    "s = \"011010\"\n",
    "minJump = 2\n",
    "maxJump = 3\n",
    "\n",
    "sol = Solution2()\n",
    "sol.canReach(s, minJump, maxJump)"
   ]
  }
 ],
 "metadata": {
  "kernelspec": {
   "display_name": "Python 3",
   "language": "python",
   "name": "python3"
  },
  "language_info": {
   "codemirror_mode": {
    "name": "ipython",
    "version": 3
   },
   "file_extension": ".py",
   "mimetype": "text/x-python",
   "name": "python",
   "nbconvert_exporter": "python",
   "pygments_lexer": "ipython3",
   "version": "3.7.4"
  },
  "toc": {
   "base_numbering": 1,
   "nav_menu": {},
   "number_sections": true,
   "sideBar": true,
   "skip_h1_title": false,
   "title_cell": "Table of Contents",
   "title_sidebar": "Contents",
   "toc_cell": false,
   "toc_position": {},
   "toc_section_display": true,
   "toc_window_display": false
  }
 },
 "nbformat": 4,
 "nbformat_minor": 2
}
