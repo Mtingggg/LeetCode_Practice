{
 "cells": [
  {
   "cell_type": "code",
   "execution_count": 2,
   "metadata": {},
   "outputs": [],
   "source": [
    "class Solution:\n",
    "    def binaryTreePaths(self, root):\n",
    "        if not root:\n",
    "            return\n",
    "        \n",
    "        path = str(root.val)\n",
    "        ans = []\n",
    "        self.get_path(root,path,ans)\n",
    "        \n",
    "        return ans\n",
    "        \n",
    "    def get_path(self, root, path, ans):\n",
    "\n",
    "        if root.left:\n",
    "            self.get_path(root.left, path+'->'+str(root.left.val),ans)\n",
    "\n",
    "        if root.right:\n",
    "            self.get_path(root.right, path+'->'+str(root.right.val),ans)\n",
    "\n",
    "        if not root.left and not root.right:\n",
    "            ans.append(path)"
   ]
  }
 ],
 "metadata": {
  "kernelspec": {
   "display_name": "Python 3",
   "language": "python",
   "name": "python3"
  },
  "language_info": {
   "codemirror_mode": {
    "name": "ipython",
    "version": 3
   },
   "file_extension": ".py",
   "mimetype": "text/x-python",
   "name": "python",
   "nbconvert_exporter": "python",
   "pygments_lexer": "ipython3",
   "version": "3.7.4"
  }
 },
 "nbformat": 4,
 "nbformat_minor": 2
}
